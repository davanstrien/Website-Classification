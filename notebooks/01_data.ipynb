{
 "cells": [
  {
   "cell_type": "code",
   "execution_count": 1,
   "metadata": {},
   "outputs": [],
   "source": [
    "# Get data"
   ]
  },
  {
   "cell_type": "code",
   "execution_count": 1,
   "metadata": {},
   "outputs": [
    {
     "name": "stdout",
     "output_type": "stream",
     "text": [
      "--2020-05-01 14:33:34--  https://data.webarchive.org.uk/opendata/ukwa.ds.1/classification/classification.tsv\n",
      "Resolving data.webarchive.org.uk... 185.199.111.153, 185.199.109.153, 185.199.110.153, ...\n",
      "Connecting to data.webarchive.org.uk|185.199.111.153|:443... connected.\n",
      "HTTP request sent, awaiting response... 200 OK\n",
      "Length: 3011797 (2.9M) [text/tab-separated-values]\n",
      "Saving to: ‘../data/raw/classification.tsv’\n",
      "\n",
      "classification.tsv  100%[===================>]   2.87M  --.-KB/s    in 0.07s   \n",
      "\n",
      "2020-05-01 14:33:35 (39.7 MB/s) - ‘../data/raw/classification.tsv’ saved [3011797/3011797]\n",
      "\n"
     ]
    }
   ],
   "source": [
    "!wget -P ../data/raw/ https://data.webarchive.org.uk/opendata/ukwa.ds.1/classification/classification.tsv"
   ]
  },
  {
   "cell_type": "code",
   "execution_count": 2,
   "metadata": {},
   "outputs": [],
   "source": [
    "# Imports"
   ]
  },
  {
   "cell_type": "code",
   "execution_count": 3,
   "metadata": {},
   "outputs": [],
   "source": [
    "import pandas as pd\n",
    "from pathlib import Path\n",
    "import matplotlib.pyplot as plt\n",
    "plt.style.use('seaborn')"
   ]
  },
  {
   "cell_type": "code",
   "execution_count": 4,
   "metadata": {},
   "outputs": [],
   "source": [
    "# CONSTANTS\n",
    "path = Path('../data/')"
   ]
  },
  {
   "cell_type": "code",
   "execution_count": null,
   "metadata": {},
   "outputs": [],
   "source": []
  },
  {
   "cell_type": "code",
   "execution_count": 5,
   "metadata": {},
   "outputs": [
    {
     "name": "stderr",
     "output_type": "stream",
     "text": [
      "b'Skipping line 199: expected 4 fields, saw 5\\nSkipping line 597: expected 4 fields, saw 5\\nSkipping line 614: expected 4 fields, saw 5\\nSkipping line 683: expected 4 fields, saw 5\\nSkipping line 1146: expected 4 fields, saw 5\\nSkipping line 1411: expected 4 fields, saw 5\\nSkipping line 1431: expected 4 fields, saw 5\\nSkipping line 1532: expected 4 fields, saw 5\\nSkipping line 1578: expected 4 fields, saw 5\\nSkipping line 3299: expected 4 fields, saw 5\\nSkipping line 3325: expected 4 fields, saw 5\\nSkipping line 3375: expected 4 fields, saw 5\\nSkipping line 3468: expected 4 fields, saw 5\\nSkipping line 3469: expected 4 fields, saw 5\\nSkipping line 3767: expected 4 fields, saw 5\\nSkipping line 3770: expected 4 fields, saw 5\\nSkipping line 3842: expected 4 fields, saw 5\\nSkipping line 4150: expected 4 fields, saw 5\\nSkipping line 5051: expected 4 fields, saw 5\\nSkipping line 5290: expected 4 fields, saw 5\\nSkipping line 5386: expected 4 fields, saw 5\\nSkipping line 7298: expected 4 fields, saw 5\\nSkipping line 7391: expected 4 fields, saw 5\\nSkipping line 8293: expected 4 fields, saw 5\\nSkipping line 9386: expected 4 fields, saw 5\\nSkipping line 9387: expected 4 fields, saw 5\\nSkipping line 9663: expected 4 fields, saw 5\\nSkipping line 9710: expected 4 fields, saw 5\\nSkipping line 9936: expected 4 fields, saw 5\\nSkipping line 9986: expected 4 fields, saw 5\\nSkipping line 11096: expected 4 fields, saw 5\\nSkipping line 11603: expected 4 fields, saw 5\\nSkipping line 11628: expected 4 fields, saw 6\\nSkipping line 11658: expected 4 fields, saw 5\\nSkipping line 11699: expected 4 fields, saw 5\\nSkipping line 11716: expected 4 fields, saw 5\\nSkipping line 11831: expected 4 fields, saw 5\\nSkipping line 11858: expected 4 fields, saw 5\\nSkipping line 11936: expected 4 fields, saw 5\\nSkipping line 12087: expected 4 fields, saw 5\\nSkipping line 12317: expected 4 fields, saw 5\\nSkipping line 12367: expected 4 fields, saw 5\\nSkipping line 12566: expected 4 fields, saw 5\\nSkipping line 12681: expected 4 fields, saw 5\\nSkipping line 13461: expected 4 fields, saw 5\\nSkipping line 13670: expected 4 fields, saw 5\\nSkipping line 14000: expected 4 fields, saw 5\\nSkipping line 14427: expected 4 fields, saw 5\\nSkipping line 14486: expected 4 fields, saw 5\\nSkipping line 14576: expected 4 fields, saw 5\\nSkipping line 15031: expected 4 fields, saw 6\\nSkipping line 15836: expected 4 fields, saw 5\\nSkipping line 17762: expected 4 fields, saw 5\\nSkipping line 17884: expected 4 fields, saw 5\\nSkipping line 17926: expected 4 fields, saw 5\\nSkipping line 18019: expected 4 fields, saw 5\\nSkipping line 18363: expected 4 fields, saw 5\\nSkipping line 18667: expected 4 fields, saw 5\\nSkipping line 21112: expected 4 fields, saw 5\\nSkipping line 21630: expected 4 fields, saw 5\\nSkipping line 21871: expected 4 fields, saw 5\\nSkipping line 21980: expected 4 fields, saw 5\\nSkipping line 22017: expected 4 fields, saw 5\\nSkipping line 22029: expected 4 fields, saw 5\\nSkipping line 22836: expected 4 fields, saw 5\\nSkipping line 22907: expected 4 fields, saw 5\\nSkipping line 22913: expected 4 fields, saw 5\\nSkipping line 22914: expected 4 fields, saw 5\\nSkipping line 22932: expected 4 fields, saw 5\\nSkipping line 22951: expected 4 fields, saw 5\\nSkipping line 22984: expected 4 fields, saw 5\\nSkipping line 22990: expected 4 fields, saw 5\\nSkipping line 23034: expected 4 fields, saw 5\\nSkipping line 23173: expected 4 fields, saw 5\\nSkipping line 23205: expected 4 fields, saw 5\\nSkipping line 23267: expected 4 fields, saw 5\\nSkipping line 23271: expected 4 fields, saw 5\\nSkipping line 23391: expected 4 fields, saw 5\\nSkipping line 23431: expected 4 fields, saw 5\\nSkipping line 23433: expected 4 fields, saw 5\\nSkipping line 23435: expected 4 fields, saw 5\\nSkipping line 23537: expected 4 fields, saw 5\\nSkipping line 23550: expected 4 fields, saw 5\\nSkipping line 23567: expected 4 fields, saw 5\\nSkipping line 23579: expected 4 fields, saw 5\\nSkipping line 23586: expected 4 fields, saw 5\\nSkipping line 23587: expected 4 fields, saw 5\\nSkipping line 24296: expected 4 fields, saw 5\\nSkipping line 24497: expected 4 fields, saw 5\\nSkipping line 24581: expected 4 fields, saw 5\\nSkipping line 25157: expected 4 fields, saw 5\\nSkipping line 25496: expected 4 fields, saw 5\\nSkipping line 25567: expected 4 fields, saw 5\\nSkipping line 25615: expected 4 fields, saw 5\\nSkipping line 25666: expected 4 fields, saw 5\\nSkipping line 25684: expected 4 fields, saw 5\\nSkipping line 25686: expected 4 fields, saw 5\\nSkipping line 25800: expected 4 fields, saw 5\\nSkipping line 25814: expected 4 fields, saw 5\\nSkipping line 25966: expected 4 fields, saw 5\\nSkipping line 25975: expected 4 fields, saw 5\\nSkipping line 26031: expected 4 fields, saw 5\\nSkipping line 26036: expected 4 fields, saw 5\\nSkipping line 26058: expected 4 fields, saw 5\\nSkipping line 26178: expected 4 fields, saw 5\\nSkipping line 26229: expected 4 fields, saw 5\\nSkipping line 26501: expected 4 fields, saw 7\\nSkipping line 26684: expected 4 fields, saw 5\\nSkipping line 26693: expected 4 fields, saw 5\\nSkipping line 26749: expected 4 fields, saw 5\\nSkipping line 26754: expected 4 fields, saw 5\\n'\n"
     ]
    }
   ],
   "source": [
    "df = pd.read_csv(path/'raw/classification.tsv',sep='\\t', error_bad_lines=False)"
   ]
  },
  {
   "cell_type": "code",
   "execution_count": 6,
   "metadata": {},
   "outputs": [
    {
     "data": {
      "text/html": [
       "<div>\n",
       "<style scoped>\n",
       "    .dataframe tbody tr th:only-of-type {\n",
       "        vertical-align: middle;\n",
       "    }\n",
       "\n",
       "    .dataframe tbody tr th {\n",
       "        vertical-align: top;\n",
       "    }\n",
       "\n",
       "    .dataframe thead th {\n",
       "        text-align: right;\n",
       "    }\n",
       "</style>\n",
       "<table border=\"1\" class=\"dataframe\">\n",
       "  <thead>\n",
       "    <tr style=\"text-align: right;\">\n",
       "      <th></th>\n",
       "      <th>Primary Category</th>\n",
       "      <th>Secondary Category</th>\n",
       "      <th>Title</th>\n",
       "      <th>URL</th>\n",
       "    </tr>\n",
       "  </thead>\n",
       "  <tbody>\n",
       "    <tr>\n",
       "      <th>0</th>\n",
       "      <td>Arts &amp; Humanities</td>\n",
       "      <td>Architecture</td>\n",
       "      <td>68 Dean Street</td>\n",
       "      <td>http://www.sixty8.com/</td>\n",
       "    </tr>\n",
       "    <tr>\n",
       "      <th>1</th>\n",
       "      <td>Arts &amp; Humanities</td>\n",
       "      <td>Architecture</td>\n",
       "      <td>Abandoned Communities</td>\n",
       "      <td>http://www.abandonedcommunities.co.uk/</td>\n",
       "    </tr>\n",
       "    <tr>\n",
       "      <th>2</th>\n",
       "      <td>Arts &amp; Humanities</td>\n",
       "      <td>Architecture</td>\n",
       "      <td>Alexander Thomson Society</td>\n",
       "      <td>http://www.greekthomson.com/</td>\n",
       "    </tr>\n",
       "    <tr>\n",
       "      <th>3</th>\n",
       "      <td>Arts &amp; Humanities</td>\n",
       "      <td>Architecture</td>\n",
       "      <td>Arab British Centre, The</td>\n",
       "      <td>http://www.arabbritishcentre.org.uk/</td>\n",
       "    </tr>\n",
       "    <tr>\n",
       "      <th>4</th>\n",
       "      <td>Arts &amp; Humanities</td>\n",
       "      <td>Architecture</td>\n",
       "      <td>Architectural Association School of Architecture</td>\n",
       "      <td>http://www.aaschool.ac.uk/</td>\n",
       "    </tr>\n",
       "    <tr>\n",
       "      <th>...</th>\n",
       "      <td>...</td>\n",
       "      <td>...</td>\n",
       "      <td>...</td>\n",
       "      <td>...</td>\n",
       "    </tr>\n",
       "    <tr>\n",
       "      <th>26793</th>\n",
       "      <td>Travel &amp; Tourism</td>\n",
       "      <td>Cornwall</td>\n",
       "      <td>West Briton and Cornwall Advertiser - transcri...</td>\n",
       "      <td>http://freepages.genealogy.rootsweb.ancestry.c...</td>\n",
       "    </tr>\n",
       "    <tr>\n",
       "      <th>26794</th>\n",
       "      <td>Travel &amp; Tourism</td>\n",
       "      <td>Cornwall</td>\n",
       "      <td>West Cornwall Community Network</td>\n",
       "      <td>http://www.wccn.org.uk/</td>\n",
       "    </tr>\n",
       "    <tr>\n",
       "      <th>26795</th>\n",
       "      <td>Travel &amp; Tourism</td>\n",
       "      <td>Cornwall</td>\n",
       "      <td>West Penwith Resources</td>\n",
       "      <td>http://www.west-penwith.org.uk/</td>\n",
       "    </tr>\n",
       "    <tr>\n",
       "      <th>26796</th>\n",
       "      <td>Travel &amp; Tourism</td>\n",
       "      <td>Cornwall</td>\n",
       "      <td>Yeate Farm - the Granary self-catering accommo...</td>\n",
       "      <td>http://www.yeatefarm.co.uk/</td>\n",
       "    </tr>\n",
       "    <tr>\n",
       "      <th>26797</th>\n",
       "      <td>Travel &amp; Tourism</td>\n",
       "      <td>Cornwall</td>\n",
       "      <td>geecee.co.uk</td>\n",
       "      <td>http://www.geecee.co.uk/</td>\n",
       "    </tr>\n",
       "  </tbody>\n",
       "</table>\n",
       "<p>26798 rows × 4 columns</p>\n",
       "</div>"
      ],
      "text/plain": [
       "        Primary Category Secondary Category  \\\n",
       "0      Arts & Humanities       Architecture   \n",
       "1      Arts & Humanities       Architecture   \n",
       "2      Arts & Humanities       Architecture   \n",
       "3      Arts & Humanities       Architecture   \n",
       "4      Arts & Humanities       Architecture   \n",
       "...                  ...                ...   \n",
       "26793   Travel & Tourism           Cornwall   \n",
       "26794   Travel & Tourism           Cornwall   \n",
       "26795   Travel & Tourism           Cornwall   \n",
       "26796   Travel & Tourism           Cornwall   \n",
       "26797   Travel & Tourism           Cornwall   \n",
       "\n",
       "                                                   Title  \\\n",
       "0                                         68 Dean Street   \n",
       "1                                  Abandoned Communities   \n",
       "2                              Alexander Thomson Society   \n",
       "3                               Arab British Centre, The   \n",
       "4       Architectural Association School of Architecture   \n",
       "...                                                  ...   \n",
       "26793  West Briton and Cornwall Advertiser - transcri...   \n",
       "26794                    West Cornwall Community Network   \n",
       "26795                             West Penwith Resources   \n",
       "26796  Yeate Farm - the Granary self-catering accommo...   \n",
       "26797                                       geecee.co.uk   \n",
       "\n",
       "                                                     URL  \n",
       "0                                 http://www.sixty8.com/  \n",
       "1                 http://www.abandonedcommunities.co.uk/  \n",
       "2                           http://www.greekthomson.com/  \n",
       "3                  http://www.arabbritishcentre.org.uk/   \n",
       "4                             http://www.aaschool.ac.uk/  \n",
       "...                                                  ...  \n",
       "26793  http://freepages.genealogy.rootsweb.ancestry.c...  \n",
       "26794                            http://www.wccn.org.uk/  \n",
       "26795                    http://www.west-penwith.org.uk/  \n",
       "26796                        http://www.yeatefarm.co.uk/  \n",
       "26797                           http://www.geecee.co.uk/  \n",
       "\n",
       "[26798 rows x 4 columns]"
      ]
     },
     "execution_count": 6,
     "metadata": {},
     "output_type": "execute_result"
    }
   ],
   "source": [
    "df"
   ]
  },
  {
   "cell_type": "markdown",
   "metadata": {},
   "source": [
    "## How many categories?\n",
    "\n",
    "We're going to be trying to predict primary category (at least to start). Lets get an overview:"
   ]
  },
  {
   "cell_type": "code",
   "execution_count": 7,
   "metadata": {},
   "outputs": [
    {
     "data": {
      "text/plain": [
       "Arts & Humanities                                              5299\n",
       "Government, Law & Politics                                     4832\n",
       "Business, Economy & Industry                                   2988\n",
       "Society & Culture                                              2984\n",
       "Science & Technology                                           2420\n",
       "Medicine & Health                                              2164\n",
       "Education & Research                                           2118\n",
       "Company Web Sites                                               843\n",
       "Digital Society                                                 737\n",
       "Sports and Recreation                                           710\n",
       "Religion                                                        417\n",
       "Travel & Tourism                                                374\n",
       "Social Problems and Welfare                                     270\n",
       "Politics, Political Theory and Political Systems                123\n",
       "Crime, Criminology, Police and Prisons                          101\n",
       "Literature                                                       87\n",
       "Law and Legal System                                             81\n",
       "Computer Science, Information Technology and Web Technology      54\n",
       "Libraries, Archives and Museums                                  52\n",
       "Environment                                                      38\n",
       "History                                                          34\n",
       "Publishing, Printing and Bookselling                             26\n",
       "Life Sciences                                                    23\n",
       "Popular Science                                                  23\n",
       "Name: Primary Category, dtype: int64"
      ]
     },
     "execution_count": 7,
     "metadata": {},
     "output_type": "execute_result"
    }
   ],
   "source": [
    "df['Primary Category'].value_counts()"
   ]
  },
  {
   "cell_type": "code",
   "execution_count": 8,
   "metadata": {},
   "outputs": [
    {
     "data": {
      "text/plain": [
       "<matplotlib.axes._subplots.AxesSubplot at 0x7f7fe119f3d0>"
      ]
     },
     "execution_count": 8,
     "metadata": {},
     "output_type": "execute_result"
    },
    {
     "data": {
      "image/png": "[encoded data removed]",
      "text/plain": [
       "<Figure size 576x396 with 1 Axes>"
      ]
     },
     "metadata": {},
     "output_type": "display_data"
    }
   ],
   "source": [
    "df['Primary Category'].value_counts().plot(kind='bar')"
   ]
  },
  {
   "cell_type": "code",
   "execution_count": 9,
   "metadata": {},
   "outputs": [
    {
     "data": {
      "text/plain": [
       "0"
      ]
     },
     "execution_count": 9,
     "metadata": {},
     "output_type": "execute_result"
    }
   ],
   "source": [
    "df['Primary Category'].isna().sum()"
   ]
  },
  {
   "cell_type": "code",
   "execution_count": 10,
   "metadata": {},
   "outputs": [
    {
     "data": {
      "text/plain": [
       "Primary Category      0\n",
       "Secondary Category    0\n",
       "Title                 0\n",
       "URL                   0\n",
       "dtype: int64"
      ]
     },
     "execution_count": 10,
     "metadata": {},
     "output_type": "execute_result"
    }
   ],
   "source": [
    "df.isna().sum()"
   ]
  },
  {
   "cell_type": "code",
   "execution_count": 11,
   "metadata": {},
   "outputs": [
    {
     "data": {
      "text/html": [
       "<div>\n",
       "<style scoped>\n",
       "    .dataframe tbody tr th:only-of-type {\n",
       "        vertical-align: middle;\n",
       "    }\n",
       "\n",
       "    .dataframe tbody tr th {\n",
       "        vertical-align: top;\n",
       "    }\n",
       "\n",
       "    .dataframe thead th {\n",
       "        text-align: right;\n",
       "    }\n",
       "</style>\n",
       "<table border=\"1\" class=\"dataframe\">\n",
       "  <thead>\n",
       "    <tr style=\"text-align: right;\">\n",
       "      <th></th>\n",
       "      <th>Primary Category</th>\n",
       "      <th>Secondary Category</th>\n",
       "      <th>Title</th>\n",
       "      <th>URL</th>\n",
       "    </tr>\n",
       "  </thead>\n",
       "  <tbody>\n",
       "    <tr>\n",
       "      <th>count</th>\n",
       "      <td>26798</td>\n",
       "      <td>26798</td>\n",
       "      <td>26798</td>\n",
       "      <td>26798</td>\n",
       "    </tr>\n",
       "    <tr>\n",
       "      <th>unique</th>\n",
       "      <td>24</td>\n",
       "      <td>104</td>\n",
       "      <td>13077</td>\n",
       "      <td>12998</td>\n",
       "    </tr>\n",
       "    <tr>\n",
       "      <th>top</th>\n",
       "      <td>Arts &amp; Humanities</td>\n",
       "      <td>Cambridge Network</td>\n",
       "      <td>Marxism Festival</td>\n",
       "      <td>http://www.marxismfestival.org.uk/</td>\n",
       "    </tr>\n",
       "    <tr>\n",
       "      <th>freq</th>\n",
       "      <td>5299</td>\n",
       "      <td>1686</td>\n",
       "      <td>34</td>\n",
       "      <td>34</td>\n",
       "    </tr>\n",
       "  </tbody>\n",
       "</table>\n",
       "</div>"
      ],
      "text/plain": [
       "         Primary Category Secondary Category             Title  \\\n",
       "count               26798              26798             26798   \n",
       "unique                 24                104             13077   \n",
       "top     Arts & Humanities  Cambridge Network  Marxism Festival   \n",
       "freq                 5299               1686                34   \n",
       "\n",
       "                                       URL  \n",
       "count                                26798  \n",
       "unique                               12998  \n",
       "top     http://www.marxismfestival.org.uk/  \n",
       "freq                                    34  "
      ]
     },
     "execution_count": 11,
     "metadata": {},
     "output_type": "execute_result"
    }
   ],
   "source": [
    "df.describe()"
   ]
  },
  {
   "cell_type": "code",
   "execution_count": 13,
   "metadata": {},
   "outputs": [],
   "source": [
    "df.to_csv(path/'classification.tsv')"
   ]
  }
 ],
 "metadata": {
  "kernelspec": {
   "display_name": "fastai",
   "language": "python",
   "name": "fastai"
  },
  "language_info": {
   "codemirror_mode": {
    "name": "ipython",
    "version": 3
   },
   "file_extension": ".py",
   "mimetype": "text/x-python",
   "name": "python",
   "nbconvert_exporter": "python",
   "pygments_lexer": "ipython3",
   "version": "3.7.6"
  }
 },
 "nbformat": 4,
 "nbformat_minor": 4
}
