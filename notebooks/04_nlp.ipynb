{
 "cells": [
  {
   "cell_type": "code",
   "execution_count": 2,
   "metadata": {},
   "outputs": [],
   "source": [
    "from fastai.text import *\n",
    "import pandas as pd"
   ]
  },
  {
   "cell_type": "code",
   "execution_count": null,
   "metadata": {},
   "outputs": [],
   "source": [
    "#data_path = Config.data_path()\n"
   ]
  },
  {
   "cell_type": "code",
   "execution_count": 3,
   "metadata": {},
   "outputs": [],
   "source": [
    "path = Path('../data/processed')"
   ]
  },
  {
   "cell_type": "code",
   "execution_count": 4,
   "metadata": {},
   "outputs": [],
   "source": [
    "df = pd.read_csv(path/'03_classification_valid_train.csv', error_bad_lines=False, index_col=0)"
   ]
  },
  {
   "cell_type": "code",
   "execution_count": 5,
   "metadata": {},
   "outputs": [
    {
     "data": {
      "text/html": [
       "<div>\n",
       "<style scoped>\n",
       "    .dataframe tbody tr th:only-of-type {\n",
       "        vertical-align: middle;\n",
       "    }\n",
       "\n",
       "    .dataframe tbody tr th {\n",
       "        vertical-align: top;\n",
       "    }\n",
       "\n",
       "    .dataframe thead th {\n",
       "        text-align: right;\n",
       "    }\n",
       "</style>\n",
       "<table border=\"1\" class=\"dataframe\">\n",
       "  <thead>\n",
       "    <tr style=\"text-align: right;\">\n",
       "      <th></th>\n",
       "      <th>Primary Category</th>\n",
       "      <th>Secondary Category</th>\n",
       "      <th>Title</th>\n",
       "      <th>URL</th>\n",
       "      <th>scheme</th>\n",
       "      <th>netloc</th>\n",
       "      <th>url1</th>\n",
       "      <th>url2</th>\n",
       "      <th>url3</th>\n",
       "      <th>url4</th>\n",
       "      <th>url5</th>\n",
       "      <th>url6</th>\n",
       "      <th>is_valid</th>\n",
       "    </tr>\n",
       "  </thead>\n",
       "  <tbody>\n",
       "    <tr>\n",
       "      <th>0</th>\n",
       "      <td>Arts &amp; Humanities</td>\n",
       "      <td>Architecture</td>\n",
       "      <td>68 Dean Street</td>\n",
       "      <td>http://www.sixty8.com/</td>\n",
       "      <td>http</td>\n",
       "      <td>['www', 'sixty8', 'com']</td>\n",
       "      <td>www</td>\n",
       "      <td>sixty8</td>\n",
       "      <td>com</td>\n",
       "      <td>NaN</td>\n",
       "      <td>NaN</td>\n",
       "      <td>NaN</td>\n",
       "      <td>False</td>\n",
       "    </tr>\n",
       "    <tr>\n",
       "      <th>1</th>\n",
       "      <td>Arts &amp; Humanities</td>\n",
       "      <td>Architecture</td>\n",
       "      <td>Abandoned Communities</td>\n",
       "      <td>http://www.abandonedcommunities.co.uk/</td>\n",
       "      <td>http</td>\n",
       "      <td>['www', 'abandonedcommunities', 'co', 'uk']</td>\n",
       "      <td>www</td>\n",
       "      <td>abandonedcommunities</td>\n",
       "      <td>co</td>\n",
       "      <td>uk</td>\n",
       "      <td>NaN</td>\n",
       "      <td>NaN</td>\n",
       "      <td>False</td>\n",
       "    </tr>\n",
       "    <tr>\n",
       "      <th>2</th>\n",
       "      <td>Arts &amp; Humanities</td>\n",
       "      <td>Architecture</td>\n",
       "      <td>Alexander Thomson Society</td>\n",
       "      <td>http://www.greekthomson.com/</td>\n",
       "      <td>http</td>\n",
       "      <td>['www', 'greekthomson', 'com']</td>\n",
       "      <td>www</td>\n",
       "      <td>greekthomson</td>\n",
       "      <td>com</td>\n",
       "      <td>NaN</td>\n",
       "      <td>NaN</td>\n",
       "      <td>NaN</td>\n",
       "      <td>False</td>\n",
       "    </tr>\n",
       "    <tr>\n",
       "      <th>3</th>\n",
       "      <td>Arts &amp; Humanities</td>\n",
       "      <td>Architecture</td>\n",
       "      <td>Arab British Centre, The</td>\n",
       "      <td>http://www.arabbritishcentre.org.uk/</td>\n",
       "      <td>http</td>\n",
       "      <td>['www', 'arabbritishcentre', 'org', 'uk']</td>\n",
       "      <td>www</td>\n",
       "      <td>arabbritishcentre</td>\n",
       "      <td>org</td>\n",
       "      <td>uk</td>\n",
       "      <td>NaN</td>\n",
       "      <td>NaN</td>\n",
       "      <td>False</td>\n",
       "    </tr>\n",
       "    <tr>\n",
       "      <th>4</th>\n",
       "      <td>Arts &amp; Humanities</td>\n",
       "      <td>Architecture</td>\n",
       "      <td>Architectural Association School of Architecture</td>\n",
       "      <td>http://www.aaschool.ac.uk/</td>\n",
       "      <td>http</td>\n",
       "      <td>['www', 'aaschool', 'ac', 'uk']</td>\n",
       "      <td>www</td>\n",
       "      <td>aaschool</td>\n",
       "      <td>ac</td>\n",
       "      <td>uk</td>\n",
       "      <td>NaN</td>\n",
       "      <td>NaN</td>\n",
       "      <td>False</td>\n",
       "    </tr>\n",
       "    <tr>\n",
       "      <th>...</th>\n",
       "      <td>...</td>\n",
       "      <td>...</td>\n",
       "      <td>...</td>\n",
       "      <td>...</td>\n",
       "      <td>...</td>\n",
       "      <td>...</td>\n",
       "      <td>...</td>\n",
       "      <td>...</td>\n",
       "      <td>...</td>\n",
       "      <td>...</td>\n",
       "      <td>...</td>\n",
       "      <td>...</td>\n",
       "      <td>...</td>\n",
       "    </tr>\n",
       "    <tr>\n",
       "      <th>17043</th>\n",
       "      <td>History</td>\n",
       "      <td>Slavery and Abolition in the Caribbean</td>\n",
       "      <td>Westminster City Council: Westminster and the ...</td>\n",
       "      <td>http://www.westminster.gov.uk/workspace/assets...</td>\n",
       "      <td>http</td>\n",
       "      <td>['www', 'westminster', 'gov', 'uk']</td>\n",
       "      <td>www</td>\n",
       "      <td>westminster</td>\n",
       "      <td>gov</td>\n",
       "      <td>uk</td>\n",
       "      <td>NaN</td>\n",
       "      <td>NaN</td>\n",
       "      <td>True</td>\n",
       "    </tr>\n",
       "    <tr>\n",
       "      <th>20116</th>\n",
       "      <td>Science &amp; Technology</td>\n",
       "      <td>Cambridge Network</td>\n",
       "      <td>Aveillant Ltd</td>\n",
       "      <td>http://www.aveillant.com/</td>\n",
       "      <td>http</td>\n",
       "      <td>['www', 'aveillant', 'com']</td>\n",
       "      <td>www</td>\n",
       "      <td>aveillant</td>\n",
       "      <td>com</td>\n",
       "      <td>NaN</td>\n",
       "      <td>NaN</td>\n",
       "      <td>NaN</td>\n",
       "      <td>True</td>\n",
       "    </tr>\n",
       "    <tr>\n",
       "      <th>19564</th>\n",
       "      <td>Politics, Political Theory and Political Systems</td>\n",
       "      <td>Religion, politics and law since 2005</td>\n",
       "      <td>Religion Law UK</td>\n",
       "      <td>http://www.neiladdison.pwp.blueyonder.co.uk/re...</td>\n",
       "      <td>http</td>\n",
       "      <td>['www', 'neiladdison', 'pwp', 'blueyonder', 'c...</td>\n",
       "      <td>www</td>\n",
       "      <td>neiladdison</td>\n",
       "      <td>pwp</td>\n",
       "      <td>blueyonder</td>\n",
       "      <td>co</td>\n",
       "      <td>uk</td>\n",
       "      <td>True</td>\n",
       "    </tr>\n",
       "    <tr>\n",
       "      <th>25551</th>\n",
       "      <td>Society &amp; Culture</td>\n",
       "      <td>Travel &amp; Tourism</td>\n",
       "      <td>Backpacking Guide</td>\n",
       "      <td>http://www.the-backpacking-site.com/</td>\n",
       "      <td>http</td>\n",
       "      <td>['www', 'the-backpacking-site', 'com']</td>\n",
       "      <td>www</td>\n",
       "      <td>the-backpacking-site</td>\n",
       "      <td>com</td>\n",
       "      <td>NaN</td>\n",
       "      <td>NaN</td>\n",
       "      <td>NaN</td>\n",
       "      <td>True</td>\n",
       "    </tr>\n",
       "    <tr>\n",
       "      <th>2468</th>\n",
       "      <td>Arts &amp; Humanities</td>\n",
       "      <td>Literature</td>\n",
       "      <td>Puffin Blog, The</td>\n",
       "      <td>http://www.thepuffinblog.typepad.com/</td>\n",
       "      <td>http</td>\n",
       "      <td>['www', 'thepuffinblog', 'typepad', 'com']</td>\n",
       "      <td>www</td>\n",
       "      <td>thepuffinblog</td>\n",
       "      <td>typepad</td>\n",
       "      <td>com</td>\n",
       "      <td>NaN</td>\n",
       "      <td>NaN</td>\n",
       "      <td>True</td>\n",
       "    </tr>\n",
       "  </tbody>\n",
       "</table>\n",
       "<p>34837 rows × 13 columns</p>\n",
       "</div>"
      ],
      "text/plain": [
       "                                       Primary Category  \\\n",
       "0                                     Arts & Humanities   \n",
       "1                                     Arts & Humanities   \n",
       "2                                     Arts & Humanities   \n",
       "3                                     Arts & Humanities   \n",
       "4                                     Arts & Humanities   \n",
       "...                                                 ...   \n",
       "17043                                           History   \n",
       "20116                              Science & Technology   \n",
       "19564  Politics, Political Theory and Political Systems   \n",
       "25551                                 Society & Culture   \n",
       "2468                                  Arts & Humanities   \n",
       "\n",
       "                           Secondary Category  \\\n",
       "0                                Architecture   \n",
       "1                                Architecture   \n",
       "2                                Architecture   \n",
       "3                                Architecture   \n",
       "4                                Architecture   \n",
       "...                                       ...   \n",
       "17043  Slavery and Abolition in the Caribbean   \n",
       "20116                       Cambridge Network   \n",
       "19564   Religion, politics and law since 2005   \n",
       "25551                        Travel & Tourism   \n",
       "2468                               Literature   \n",
       "\n",
       "                                                   Title  \\\n",
       "0                                         68 Dean Street   \n",
       "1                                  Abandoned Communities   \n",
       "2                              Alexander Thomson Society   \n",
       "3                               Arab British Centre, The   \n",
       "4       Architectural Association School of Architecture   \n",
       "...                                                  ...   \n",
       "17043  Westminster City Council: Westminster and the ...   \n",
       "20116                                      Aveillant Ltd   \n",
       "19564                                    Religion Law UK   \n",
       "25551                                  Backpacking Guide   \n",
       "2468                                    Puffin Blog, The   \n",
       "\n",
       "                                                     URL scheme  \\\n",
       "0                                 http://www.sixty8.com/   http   \n",
       "1                 http://www.abandonedcommunities.co.uk/   http   \n",
       "2                           http://www.greekthomson.com/   http   \n",
       "3                  http://www.arabbritishcentre.org.uk/    http   \n",
       "4                             http://www.aaschool.ac.uk/   http   \n",
       "...                                                  ...    ...   \n",
       "17043  http://www.westminster.gov.uk/workspace/assets...   http   \n",
       "20116                          http://www.aveillant.com/   http   \n",
       "19564  http://www.neiladdison.pwp.blueyonder.co.uk/re...   http   \n",
       "25551               http://www.the-backpacking-site.com/   http   \n",
       "2468               http://www.thepuffinblog.typepad.com/   http   \n",
       "\n",
       "                                                  netloc url1  \\\n",
       "0                               ['www', 'sixty8', 'com']  www   \n",
       "1            ['www', 'abandonedcommunities', 'co', 'uk']  www   \n",
       "2                         ['www', 'greekthomson', 'com']  www   \n",
       "3              ['www', 'arabbritishcentre', 'org', 'uk']  www   \n",
       "4                        ['www', 'aaschool', 'ac', 'uk']  www   \n",
       "...                                                  ...  ...   \n",
       "17043                ['www', 'westminster', 'gov', 'uk']  www   \n",
       "20116                        ['www', 'aveillant', 'com']  www   \n",
       "19564  ['www', 'neiladdison', 'pwp', 'blueyonder', 'c...  www   \n",
       "25551             ['www', 'the-backpacking-site', 'com']  www   \n",
       "2468          ['www', 'thepuffinblog', 'typepad', 'com']  www   \n",
       "\n",
       "                       url2     url3        url4 url5 url6  is_valid  \n",
       "0                    sixty8      com         NaN  NaN  NaN     False  \n",
       "1      abandonedcommunities       co          uk  NaN  NaN     False  \n",
       "2              greekthomson      com         NaN  NaN  NaN     False  \n",
       "3         arabbritishcentre      org          uk  NaN  NaN     False  \n",
       "4                  aaschool       ac          uk  NaN  NaN     False  \n",
       "...                     ...      ...         ...  ...  ...       ...  \n",
       "17043           westminster      gov          uk  NaN  NaN      True  \n",
       "20116             aveillant      com         NaN  NaN  NaN      True  \n",
       "19564           neiladdison      pwp  blueyonder   co   uk      True  \n",
       "25551  the-backpacking-site      com         NaN  NaN  NaN      True  \n",
       "2468          thepuffinblog  typepad         com  NaN  NaN      True  \n",
       "\n",
       "[34837 rows x 13 columns]"
      ]
     },
     "execution_count": 5,
     "metadata": {},
     "output_type": "execute_result"
    }
   ],
   "source": [
    "df"
   ]
  },
  {
   "cell_type": "code",
   "execution_count": 118,
   "metadata": {},
   "outputs": [],
   "source": [
    "df.Title.to_csv(path/'lm_data.txt', header=None, index=None, sep=' ', mode='w')"
   ]
  },
  {
   "cell_type": "code",
   "execution_count": 124,
   "metadata": {},
   "outputs": [],
   "source": [
    "for i,k in df.iterrows():\n",
    "    txt = k['Title']\n",
    "    with open(f'../data/processed/text/{i}.txt','a') as f:\n",
    "        f.write(txt)"
   ]
  },
  {
   "cell_type": "code",
   "execution_count": null,
   "metadata": {},
   "outputs": [],
   "source": [
    "###data = Path('/Users/dvanstrien/Desktop/out_mul/0002084/1857/0608/')\n",
    "\n",
    "data = Path('/Users/dvanstrien/Desktop/out_mul/0002084/1857/')"
   ]
  },
  {
   "cell_type": "code",
   "execution_count": 138,
   "metadata": {},
   "outputs": [
    {
     "data": {
      "text/plain": [
       "[PosixPath('../data/processed/Untitled Folder'),\n",
       " PosixPath('../data/processed/.gitkeep'),\n",
       " PosixPath('../data/processed/models'),\n",
       " PosixPath('../data/processed/lm_data.txt'),\n",
       " PosixPath('../data/processed/03_classification_valid_train.csv'),\n",
       " PosixPath('../data/processed/.ipynb_checkpoints'),\n",
       " PosixPath('../data/processed/text'),\n",
       " PosixPath('../data/processed/tmp')]"
      ]
     },
     "execution_count": 138,
     "metadata": {},
     "output_type": "execute_result"
    }
   ],
   "source": [
    "data = Path('../data/processed/')\n",
    "\n",
    "data.ls()"
   ]
  },
  {
   "cell_type": "markdown",
   "metadata": {},
   "source": [
    "## add line for download SPP data"
   ]
  },
  {
   "cell_type": "code",
   "execution_count": 140,
   "metadata": {},
   "outputs": [
    {
     "data": {
      "text/html": [],
      "text/plain": [
       "<IPython.core.display.HTML object>"
      ]
     },
     "metadata": {},
     "output_type": "display_data"
    },
    {
     "data": {
      "text/html": [],
      "text/plain": [
       "<IPython.core.display.HTML object>"
      ]
     },
     "metadata": {},
     "output_type": "display_data"
    }
   ],
   "source": [
    "dlm = (TextList.from_folder(data, extensions='.txt',processor=[OpenFileProcessor(),SPProcessor(model_type='unigram')])\n",
    "       .split_by_rand_pct().\n",
    "       label_for_lm().databunch(bs=32))"
   ]
  },
  {
   "cell_type": "code",
   "execution_count": null,
   "metadata": {},
   "outputs": [],
   "source": [
    "dlm"
   ]
  },
  {
   "cell_type": "markdown",
   "metadata": {},
   "source": [
    "## LM"
   ]
  },
  {
   "cell_type": "markdown",
   "metadata": {},
   "source": [
    "# Use title to start"
   ]
  },
  {
   "cell_type": "code",
   "execution_count": 175,
   "metadata": {},
   "outputs": [],
   "source": [
    "LM_learn = language_model_learner(dlm, AWD_LSTM, pretrained=True, drop_mult=0.5)"
   ]
  },
  {
   "cell_type": "code",
   "execution_count": null,
   "metadata": {},
   "outputs": [],
   "source": [
    "LM_learn.lr_find()"
   ]
  },
  {
   "cell_type": "code",
   "execution_count": null,
   "metadata": {},
   "outputs": [],
   "source": [
    "LM_learn.recorder.plot()"
   ]
  },
  {
   "cell_type": "code",
   "execution_count": 176,
   "metadata": {},
   "outputs": [
    {
     "data": {
      "text/html": [
       "<table border=\"1\" class=\"dataframe\">\n",
       "  <thead>\n",
       "    <tr style=\"text-align: left;\">\n",
       "      <th>epoch</th>\n",
       "      <th>train_loss</th>\n",
       "      <th>valid_loss</th>\n",
       "      <th>accuracy</th>\n",
       "      <th>time</th>\n",
       "    </tr>\n",
       "  </thead>\n",
       "  <tbody>\n",
       "    <tr>\n",
       "      <td>0</td>\n",
       "      <td>3.938918</td>\n",
       "      <td>3.893412</td>\n",
       "      <td>0.398036</td>\n",
       "      <td>21:50</td>\n",
       "    </tr>\n",
       "    <tr>\n",
       "      <td>1</td>\n",
       "      <td>3.860417</td>\n",
       "      <td>3.748144</td>\n",
       "      <td>0.412640</td>\n",
       "      <td>22:14</td>\n",
       "    </tr>\n",
       "    <tr>\n",
       "      <td>2</td>\n",
       "      <td>3.534910</td>\n",
       "      <td>3.337014</td>\n",
       "      <td>0.450548</td>\n",
       "      <td>21:15</td>\n",
       "    </tr>\n",
       "    <tr>\n",
       "      <td>3</td>\n",
       "      <td>3.030882</td>\n",
       "      <td>2.886694</td>\n",
       "      <td>0.502041</td>\n",
       "      <td>21:21</td>\n",
       "    </tr>\n",
       "    <tr>\n",
       "      <td>4</td>\n",
       "      <td>2.712003</td>\n",
       "      <td>2.749291</td>\n",
       "      <td>0.521237</td>\n",
       "      <td>21:28</td>\n",
       "    </tr>\n",
       "  </tbody>\n",
       "</table>"
      ],
      "text/plain": [
       "<IPython.core.display.HTML object>"
      ]
     },
     "metadata": {},
     "output_type": "display_data"
    }
   ],
   "source": [
    "LM_learn.fit_one_cycle(5,max_lr=1e-01)"
   ]
  },
  {
   "cell_type": "code",
   "execution_count": 177,
   "metadata": {},
   "outputs": [],
   "source": [
    "#LM_learn.path\n",
    "LM_learn.save_encoder('ft_enc')"
   ]
  },
  {
   "cell_type": "code",
   "execution_count": 182,
   "metadata": {},
   "outputs": [
    {
     "data": {
      "text/plain": [
       "PosixPath('../data/processed')"
      ]
     },
     "execution_count": 182,
     "metadata": {},
     "output_type": "execute_result"
    }
   ],
   "source": [
    "c"
   ]
  },
  {
   "cell_type": "markdown",
   "metadata": {},
   "source": [
    "LM_learnassification "
   ]
  },
  {
   "cell_type": "code",
   "execution_count": 178,
   "metadata": {},
   "outputs": [],
   "source": [
    "model = Path('../data/processed/')"
   ]
  },
  {
   "cell_type": "code",
   "execution_count": 179,
   "metadata": {},
   "outputs": [
    {
     "data": {
      "text/html": [],
      "text/plain": [
       "<IPython.core.display.HTML object>"
      ]
     },
     "metadata": {},
     "output_type": "display_data"
    },
    {
     "data": {
      "text/html": [],
      "text/plain": [
       "<IPython.core.display.HTML object>"
      ]
     },
     "metadata": {},
     "output_type": "display_data"
    }
   ],
   "source": [
    "data_class = (TextList.\n",
    "        from_df(df,path='.',cols=['Title'],processor=SPProcessor.load(model))\n",
    "        .split_from_df('is_valid')\n",
    "        .label_from_df('Primary Category')\n",
    "        .databunch(bs=32))"
   ]
  },
  {
   "cell_type": "code",
   "execution_count": 180,
   "metadata": {},
   "outputs": [],
   "source": [
    "learn_class = text_classifier_learner(data_class,AWD_LSTM, drop_mult=0.5)"
   ]
  },
  {
   "cell_type": "code",
   "execution_count": 187,
   "metadata": {},
   "outputs": [],
   "source": [
    "learn_class.path = LM_learn.path\n"
   ]
  },
  {
   "cell_type": "code",
   "execution_count": 189,
   "metadata": {},
   "outputs": [
    {
     "data": {
      "text/plain": [
       "RNNLearner(data=TextClasDataBunch;\n",
       "\n",
       "Train: LabelList (26798 items)\n",
       "x: TextList\n",
       "▁xxbos ▁68 ▁xxmaj ▁dean ▁xxmaj ▁street,▁xxbos ▁xxmaj ▁abandoned ▁xxmaj ▁communities,▁xxbos ▁xxmaj ▁alexander ▁xxmaj ▁thomson ▁xxmaj ▁society,▁xxbos ▁xxmaj ▁arab ▁xxmaj ▁british ▁xxmaj ▁centre , ▁xxmaj ▁the,▁xxbos ▁xxmaj ▁architectural ▁xxmaj ▁association ▁xxmaj ▁school ▁of ▁xxmaj ▁architecture\n",
       "y: CategoryList\n",
       "Arts & Humanities,Arts & Humanities,Arts & Humanities,Arts & Humanities,Arts & Humanities\n",
       "Path: .;\n",
       "\n",
       "Valid: LabelList (8039 items)\n",
       "x: TextList\n",
       "▁xxbos ▁xxmaj ▁bio mas s ▁xxmaj ▁energy ▁xxmaj ▁centre,▁xxbos ▁xxmaj ▁business ▁and ▁xxmaj ▁professional ▁xxmaj ▁women ▁xxup ▁uk ▁xxup ▁( b p w uk ),▁xxbos ▁ spec tra : ▁xxmaj ▁submission , ▁xxmaj ▁preservation ▁and ▁xxmaj ▁exposure ▁of ▁xxmaj ▁chemistry ▁xxmaj ▁teaching ▁and ▁xxmaj ▁research ▁xxmaj ▁data,▁xxbos ▁xxmaj ▁f - word : ▁xxmaj ▁gender - test ing ▁for ▁' s us pic ious - looking ' ▁female ▁xxmaj ▁olympic ▁athletes ▁in ▁xxmaj ▁beijing,▁xxbos ▁xxmaj ▁news ▁xxmaj ▁distribution ▁xxmaj ▁service ▁xxup ▁( nd s ) : ▁2008 ▁pre - budget ▁xxmaj ▁report\n",
       "y: CategoryList\n",
       "Business, Economy & Industry,Medicine & Health,Science & Technology,Society & Culture,Government, Law & Politics\n",
       "Path: .;\n",
       "\n",
       "Test: None, model=SequentialRNN(\n",
       "  (0): MultiBatchEncoder(\n",
       "    (module): AWD_LSTM(\n",
       "      (encoder): Embedding(15000, 400, padding_idx=1)\n",
       "      (encoder_dp): EmbeddingDropout(\n",
       "        (emb): Embedding(15000, 400, padding_idx=1)\n",
       "      )\n",
       "      (rnns): ModuleList(\n",
       "        (0): WeightDropout(\n",
       "          (module): LSTM(400, 1152, batch_first=True)\n",
       "        )\n",
       "        (1): WeightDropout(\n",
       "          (module): LSTM(1152, 1152, batch_first=True)\n",
       "        )\n",
       "        (2): WeightDropout(\n",
       "          (module): LSTM(1152, 400, batch_first=True)\n",
       "        )\n",
       "      )\n",
       "      (input_dp): RNNDropout()\n",
       "      (hidden_dps): ModuleList(\n",
       "        (0): RNNDropout()\n",
       "        (1): RNNDropout()\n",
       "        (2): RNNDropout()\n",
       "      )\n",
       "    )\n",
       "  )\n",
       "  (1): PoolingLinearClassifier(\n",
       "    (layers): Sequential(\n",
       "      (0): BatchNorm1d(1200, eps=1e-05, momentum=0.1, affine=True, track_running_stats=True)\n",
       "      (1): Dropout(p=0.2, inplace=False)\n",
       "      (2): Linear(in_features=1200, out_features=50, bias=True)\n",
       "      (3): ReLU(inplace=True)\n",
       "      (4): BatchNorm1d(50, eps=1e-05, momentum=0.1, affine=True, track_running_stats=True)\n",
       "      (5): Dropout(p=0.1, inplace=False)\n",
       "      (6): Linear(in_features=50, out_features=24, bias=True)\n",
       "    )\n",
       "  )\n",
       "), opt_func=functools.partial(<class 'torch.optim.adam.Adam'>, betas=(0.9, 0.99)), loss_func=FlattenedLoss of CrossEntropyLoss(), metrics=[<function accuracy at 0x1a23dd2e60>], true_wd=True, bn_wd=True, wd=0.01, train_bn=True, path=PosixPath('../data/processed'), model_dir='models', callback_fns=[functools.partial(<class 'fastai.basic_train.Recorder'>, add_time=True, silent=False)], callbacks=[RNNTrainer\n",
       "learn: ...\n",
       "alpha: 2.0\n",
       "beta: 1.0], layer_groups=[Sequential(\n",
       "  (0): Embedding(15000, 400, padding_idx=1)\n",
       "  (1): EmbeddingDropout(\n",
       "    (emb): Embedding(15000, 400, padding_idx=1)\n",
       "  )\n",
       "), Sequential(\n",
       "  (0): WeightDropout(\n",
       "    (module): LSTM(400, 1152, batch_first=True)\n",
       "  )\n",
       "  (1): RNNDropout()\n",
       "), Sequential(\n",
       "  (0): WeightDropout(\n",
       "    (module): LSTM(1152, 1152, batch_first=True)\n",
       "  )\n",
       "  (1): RNNDropout()\n",
       "), Sequential(\n",
       "  (0): WeightDropout(\n",
       "    (module): LSTM(1152, 400, batch_first=True)\n",
       "  )\n",
       "  (1): RNNDropout()\n",
       "), Sequential(\n",
       "  (0): PoolingLinearClassifier(\n",
       "    (layers): Sequential(\n",
       "      (0): BatchNorm1d(1200, eps=1e-05, momentum=0.1, affine=True, track_running_stats=True)\n",
       "      (1): Dropout(p=0.2, inplace=False)\n",
       "      (2): Linear(in_features=1200, out_features=50, bias=True)\n",
       "      (3): ReLU(inplace=True)\n",
       "      (4): BatchNorm1d(50, eps=1e-05, momentum=0.1, affine=True, track_running_stats=True)\n",
       "      (5): Dropout(p=0.1, inplace=False)\n",
       "      (6): Linear(in_features=50, out_features=24, bias=True)\n",
       "    )\n",
       "  )\n",
       ")], add_time=True, silent=False)"
      ]
     },
     "execution_count": 189,
     "metadata": {},
     "output_type": "execute_result"
    }
   ],
   "source": [
    "learn_class.load_encoder('ft_enc')"
   ]
  },
  {
   "cell_type": "code",
   "execution_count": null,
   "metadata": {},
   "outputs": [
    {
     "data": {
      "text/html": [
       "\n",
       "    <div>\n",
       "        <style>\n",
       "            /* Turns off some styling */\n",
       "            progress {\n",
       "                /* gets rid of default border in Firefox and Opera. */\n",
       "                border: none;\n",
       "                /* Needs to be in here for Safari polyfill so background images work as expected. */\n",
       "                background-size: auto;\n",
       "            }\n",
       "            .progress-bar-interrupted, .progress-bar-interrupted::-webkit-progress-bar {\n",
       "                background: #F44336;\n",
       "            }\n",
       "        </style>\n",
       "      <progress value='4' class='' max='20', style='width:300px; height:20px; vertical-align: middle;'></progress>\n",
       "      20.00% [4/20 45:49<3:03:19]\n",
       "    </div>\n",
       "    \n",
       "<table border=\"1\" class=\"dataframe\">\n",
       "  <thead>\n",
       "    <tr style=\"text-align: left;\">\n",
       "      <th>epoch</th>\n",
       "      <th>train_loss</th>\n",
       "      <th>valid_loss</th>\n",
       "      <th>accuracy</th>\n",
       "      <th>time</th>\n",
       "    </tr>\n",
       "  </thead>\n",
       "  <tbody>\n",
       "    <tr>\n",
       "      <td>0</td>\n",
       "      <td>2.709109</td>\n",
       "      <td>2.429864</td>\n",
       "      <td>0.341336</td>\n",
       "      <td>12:23</td>\n",
       "    </tr>\n",
       "    <tr>\n",
       "      <td>1</td>\n",
       "      <td>2.142002</td>\n",
       "      <td>1.991313</td>\n",
       "      <td>0.358751</td>\n",
       "      <td>11:11</td>\n",
       "    </tr>\n",
       "    <tr>\n",
       "      <td>2</td>\n",
       "      <td>2.134703</td>\n",
       "      <td>1.964828</td>\n",
       "      <td>0.356885</td>\n",
       "      <td>11:19</td>\n",
       "    </tr>\n",
       "    <tr>\n",
       "      <td>3</td>\n",
       "      <td>2.115787</td>\n",
       "      <td>1.947505</td>\n",
       "      <td>0.361612</td>\n",
       "      <td>10:55</td>\n",
       "    </tr>\n",
       "  </tbody>\n",
       "</table><p>\n",
       "\n",
       "    <div>\n",
       "        <style>\n",
       "            /* Turns off some styling */\n",
       "            progress {\n",
       "                /* gets rid of default border in Firefox and Opera. */\n",
       "                border: none;\n",
       "                /* Needs to be in here for Safari polyfill so background images work as expected. */\n",
       "                background-size: auto;\n",
       "            }\n",
       "            .progress-bar-interrupted, .progress-bar-interrupted::-webkit-progress-bar {\n",
       "                background: #F44336;\n",
       "            }\n",
       "        </style>\n",
       "      <progress value='480' class='' max='837', style='width:300px; height:20px; vertical-align: middle;'></progress>\n",
       "      57.35% [480/837 05:54<04:23 2.0721]\n",
       "    </div>\n",
       "    "
      ],
      "text/plain": [
       "<IPython.core.display.HTML object>"
      ]
     },
     "metadata": {},
     "output_type": "display_data"
    }
   ],
   "source": [
    "learn_class.fit_one_cycle(20)"
   ]
  },
  {
   "cell_type": "code",
   "execution_count": null,
   "metadata": {},
   "outputs": [],
   "source": []
  },
  {
   "cell_type": "code",
   "execution_count": null,
   "metadata": {},
   "outputs": [],
   "source": []
  },
  {
   "cell_type": "code",
   "execution_count": null,
   "metadata": {},
   "outputs": [],
   "source": []
  },
  {
   "cell_type": "markdown",
   "metadata": {},
   "source": [
    "## LM on the URL "
   ]
  },
  {
   "cell_type": "code",
   "execution_count": null,
   "metadata": {},
   "outputs": [],
   "source": []
  },
  {
   "cell_type": "code",
   "execution_count": null,
   "metadata": {},
   "outputs": [],
   "source": []
  },
  {
   "cell_type": "code",
   "execution_count": null,
   "metadata": {},
   "outputs": [],
   "source": []
  },
  {
   "cell_type": "code",
   "execution_count": null,
   "metadata": {},
   "outputs": [],
   "source": []
  }
 ],
 "metadata": {
  "kernelspec": {
   "display_name": "Python [conda env:fastai]",
   "language": "python",
   "name": "conda-env-fastai-py"
  },
  "language_info": {
   "codemirror_mode": {
    "name": "ipython",
    "version": 3
   },
   "file_extension": ".py",
   "mimetype": "text/x-python",
   "name": "python",
   "nbconvert_exporter": "python",
   "pygments_lexer": "ipython3",
   "version": "3.7.6"
  }
 },
 "nbformat": 4,
 "nbformat_minor": 4
}
