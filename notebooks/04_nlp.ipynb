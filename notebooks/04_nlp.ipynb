{
 "cells": [
  {
   "cell_type": "code",
   "execution_count": 1,
   "metadata": {},
   "outputs": [],
   "source": [
    "from fastai.text import *\n",
    "import pandas as pd"
   ]
  },
  {
   "cell_type": "code",
   "execution_count": 45,
   "metadata": {},
   "outputs": [
    {
     "data": {
      "text/plain": [
       "True"
      ]
     },
     "execution_count": 45,
     "metadata": {},
     "output_type": "execute_result"
    }
   ],
   "source": [
    "torch.cuda.is_available()"
   ]
  },
  {
   "cell_type": "code",
   "execution_count": null,
   "metadata": {},
   "outputs": [],
   "source": [
    "#data_path = Config.data_path()\n"
   ]
  },
  {
   "cell_type": "code",
   "execution_count": 2,
   "metadata": {},
   "outputs": [],
   "source": [
    "path = Path('../data/processed')"
   ]
  },
  {
   "cell_type": "code",
   "execution_count": 3,
   "metadata": {},
   "outputs": [],
   "source": [
    "df = pd.read_csv(path/'03_classification_valid_train.csv', error_bad_lines=False, index_col=0)"
   ]
  },
  {
   "cell_type": "code",
   "execution_count": 4,
   "metadata": {},
   "outputs": [
    {
     "data": {
      "text/html": [
       "<div>\n",
       "<style scoped>\n",
       "    .dataframe tbody tr th:only-of-type {\n",
       "        vertical-align: middle;\n",
       "    }\n",
       "\n",
       "    .dataframe tbody tr th {\n",
       "        vertical-align: top;\n",
       "    }\n",
       "\n",
       "    .dataframe thead th {\n",
       "        text-align: right;\n",
       "    }\n",
       "</style>\n",
       "<table border=\"1\" class=\"dataframe\">\n",
       "  <thead>\n",
       "    <tr style=\"text-align: right;\">\n",
       "      <th></th>\n",
       "      <th>Primary Category</th>\n",
       "      <th>Secondary Category</th>\n",
       "      <th>Title</th>\n",
       "      <th>URL</th>\n",
       "      <th>scheme</th>\n",
       "      <th>netloc</th>\n",
       "      <th>url1</th>\n",
       "      <th>url2</th>\n",
       "      <th>url3</th>\n",
       "      <th>url4</th>\n",
       "      <th>url5</th>\n",
       "      <th>url6</th>\n",
       "      <th>is_valid</th>\n",
       "    </tr>\n",
       "  </thead>\n",
       "  <tbody>\n",
       "    <tr>\n",
       "      <th>0</th>\n",
       "      <td>Arts &amp; Humanities</td>\n",
       "      <td>Architecture</td>\n",
       "      <td>68 Dean Street</td>\n",
       "      <td>http://www.sixty8.com/</td>\n",
       "      <td>http</td>\n",
       "      <td>['www', 'sixty8', 'com']</td>\n",
       "      <td>www</td>\n",
       "      <td>sixty8</td>\n",
       "      <td>com</td>\n",
       "      <td>NaN</td>\n",
       "      <td>NaN</td>\n",
       "      <td>NaN</td>\n",
       "      <td>False</td>\n",
       "    </tr>\n",
       "    <tr>\n",
       "      <th>1</th>\n",
       "      <td>Arts &amp; Humanities</td>\n",
       "      <td>Architecture</td>\n",
       "      <td>Abandoned Communities</td>\n",
       "      <td>http://www.abandonedcommunities.co.uk/</td>\n",
       "      <td>http</td>\n",
       "      <td>['www', 'abandonedcommunities', 'co', 'uk']</td>\n",
       "      <td>www</td>\n",
       "      <td>abandonedcommunities</td>\n",
       "      <td>co</td>\n",
       "      <td>uk</td>\n",
       "      <td>NaN</td>\n",
       "      <td>NaN</td>\n",
       "      <td>False</td>\n",
       "    </tr>\n",
       "    <tr>\n",
       "      <th>2</th>\n",
       "      <td>Arts &amp; Humanities</td>\n",
       "      <td>Architecture</td>\n",
       "      <td>Alexander Thomson Society</td>\n",
       "      <td>http://www.greekthomson.com/</td>\n",
       "      <td>http</td>\n",
       "      <td>['www', 'greekthomson', 'com']</td>\n",
       "      <td>www</td>\n",
       "      <td>greekthomson</td>\n",
       "      <td>com</td>\n",
       "      <td>NaN</td>\n",
       "      <td>NaN</td>\n",
       "      <td>NaN</td>\n",
       "      <td>False</td>\n",
       "    </tr>\n",
       "    <tr>\n",
       "      <th>3</th>\n",
       "      <td>Arts &amp; Humanities</td>\n",
       "      <td>Architecture</td>\n",
       "      <td>Arab British Centre, The</td>\n",
       "      <td>http://www.arabbritishcentre.org.uk/</td>\n",
       "      <td>http</td>\n",
       "      <td>['www', 'arabbritishcentre', 'org', 'uk']</td>\n",
       "      <td>www</td>\n",
       "      <td>arabbritishcentre</td>\n",
       "      <td>org</td>\n",
       "      <td>uk</td>\n",
       "      <td>NaN</td>\n",
       "      <td>NaN</td>\n",
       "      <td>False</td>\n",
       "    </tr>\n",
       "    <tr>\n",
       "      <th>4</th>\n",
       "      <td>Arts &amp; Humanities</td>\n",
       "      <td>Architecture</td>\n",
       "      <td>Architectural Association School of Architecture</td>\n",
       "      <td>http://www.aaschool.ac.uk/</td>\n",
       "      <td>http</td>\n",
       "      <td>['www', 'aaschool', 'ac', 'uk']</td>\n",
       "      <td>www</td>\n",
       "      <td>aaschool</td>\n",
       "      <td>ac</td>\n",
       "      <td>uk</td>\n",
       "      <td>NaN</td>\n",
       "      <td>NaN</td>\n",
       "      <td>False</td>\n",
       "    </tr>\n",
       "    <tr>\n",
       "      <th>...</th>\n",
       "      <td>...</td>\n",
       "      <td>...</td>\n",
       "      <td>...</td>\n",
       "      <td>...</td>\n",
       "      <td>...</td>\n",
       "      <td>...</td>\n",
       "      <td>...</td>\n",
       "      <td>...</td>\n",
       "      <td>...</td>\n",
       "      <td>...</td>\n",
       "      <td>...</td>\n",
       "      <td>...</td>\n",
       "      <td>...</td>\n",
       "    </tr>\n",
       "    <tr>\n",
       "      <th>11851</th>\n",
       "      <td>Education &amp; Research</td>\n",
       "      <td>Libraries, Archives and Museums</td>\n",
       "      <td>SAS-Space</td>\n",
       "      <td>http://sas-space.blogspot.com/</td>\n",
       "      <td>http</td>\n",
       "      <td>['sas-space', 'blogspot', 'com']</td>\n",
       "      <td>sas-space</td>\n",
       "      <td>blogspot</td>\n",
       "      <td>com</td>\n",
       "      <td>NaN</td>\n",
       "      <td>NaN</td>\n",
       "      <td>NaN</td>\n",
       "      <td>True</td>\n",
       "    </tr>\n",
       "    <tr>\n",
       "      <th>7781</th>\n",
       "      <td>Business, Economy &amp; Industry</td>\n",
       "      <td>Industries</td>\n",
       "      <td>IEA Clean Coal Centre (CCC)</td>\n",
       "      <td>http://www.iea-coal.org.uk/</td>\n",
       "      <td>http</td>\n",
       "      <td>['www', 'iea-coal', 'org', 'uk']</td>\n",
       "      <td>www</td>\n",
       "      <td>iea-coal</td>\n",
       "      <td>org</td>\n",
       "      <td>uk</td>\n",
       "      <td>NaN</td>\n",
       "      <td>NaN</td>\n",
       "      <td>True</td>\n",
       "    </tr>\n",
       "    <tr>\n",
       "      <th>19365</th>\n",
       "      <td>Medicine &amp; Health</td>\n",
       "      <td>Women's Issues</td>\n",
       "      <td>Thousand Reasons, A</td>\n",
       "      <td>http://athousandreasons.com/</td>\n",
       "      <td>http</td>\n",
       "      <td>['athousandreasons', 'com']</td>\n",
       "      <td>athousandreasons</td>\n",
       "      <td>com</td>\n",
       "      <td>NaN</td>\n",
       "      <td>NaN</td>\n",
       "      <td>NaN</td>\n",
       "      <td>NaN</td>\n",
       "      <td>True</td>\n",
       "    </tr>\n",
       "    <tr>\n",
       "      <th>24685</th>\n",
       "      <td>Society &amp; Culture</td>\n",
       "      <td>Sociology, Anthropology and Population Studies</td>\n",
       "      <td>Phil Vasili's History of Black Footballers</td>\n",
       "      <td>http://www.vasili.co.uk/</td>\n",
       "      <td>http</td>\n",
       "      <td>['www', 'vasili', 'co', 'uk']</td>\n",
       "      <td>www</td>\n",
       "      <td>vasili</td>\n",
       "      <td>co</td>\n",
       "      <td>uk</td>\n",
       "      <td>NaN</td>\n",
       "      <td>NaN</td>\n",
       "      <td>True</td>\n",
       "    </tr>\n",
       "    <tr>\n",
       "      <th>6630</th>\n",
       "      <td>Business, Economy &amp; Industry</td>\n",
       "      <td>Company Web Sites</td>\n",
       "      <td>Technologia</td>\n",
       "      <td>http://www.technologia.co.uk/</td>\n",
       "      <td>http</td>\n",
       "      <td>['www', 'technologia', 'co', 'uk']</td>\n",
       "      <td>www</td>\n",
       "      <td>technologia</td>\n",
       "      <td>co</td>\n",
       "      <td>uk</td>\n",
       "      <td>NaN</td>\n",
       "      <td>NaN</td>\n",
       "      <td>True</td>\n",
       "    </tr>\n",
       "  </tbody>\n",
       "</table>\n",
       "<p>34837 rows × 13 columns</p>\n",
       "</div>"
      ],
      "text/plain": [
       "                   Primary Category  \\\n",
       "0                 Arts & Humanities   \n",
       "1                 Arts & Humanities   \n",
       "2                 Arts & Humanities   \n",
       "3                 Arts & Humanities   \n",
       "4                 Arts & Humanities   \n",
       "...                             ...   \n",
       "11851          Education & Research   \n",
       "7781   Business, Economy & Industry   \n",
       "19365             Medicine & Health   \n",
       "24685             Society & Culture   \n",
       "6630   Business, Economy & Industry   \n",
       "\n",
       "                                   Secondary Category  \\\n",
       "0                                        Architecture   \n",
       "1                                        Architecture   \n",
       "2                                        Architecture   \n",
       "3                                        Architecture   \n",
       "4                                        Architecture   \n",
       "...                                               ...   \n",
       "11851                 Libraries, Archives and Museums   \n",
       "7781                                       Industries   \n",
       "19365                                  Women's Issues   \n",
       "24685  Sociology, Anthropology and Population Studies   \n",
       "6630                                Company Web Sites   \n",
       "\n",
       "                                                  Title  \\\n",
       "0                                        68 Dean Street   \n",
       "1                                 Abandoned Communities   \n",
       "2                             Alexander Thomson Society   \n",
       "3                              Arab British Centre, The   \n",
       "4      Architectural Association School of Architecture   \n",
       "...                                                 ...   \n",
       "11851                                         SAS-Space   \n",
       "7781                        IEA Clean Coal Centre (CCC)   \n",
       "19365                               Thousand Reasons, A   \n",
       "24685        Phil Vasili's History of Black Footballers   \n",
       "6630                                        Technologia   \n",
       "\n",
       "                                          URL scheme  \\\n",
       "0                      http://www.sixty8.com/   http   \n",
       "1      http://www.abandonedcommunities.co.uk/   http   \n",
       "2                http://www.greekthomson.com/   http   \n",
       "3       http://www.arabbritishcentre.org.uk/    http   \n",
       "4                  http://www.aaschool.ac.uk/   http   \n",
       "...                                       ...    ...   \n",
       "11851          http://sas-space.blogspot.com/   http   \n",
       "7781              http://www.iea-coal.org.uk/   http   \n",
       "19365            http://athousandreasons.com/   http   \n",
       "24685                http://www.vasili.co.uk/   http   \n",
       "6630            http://www.technologia.co.uk/   http   \n",
       "\n",
       "                                            netloc              url1  \\\n",
       "0                         ['www', 'sixty8', 'com']               www   \n",
       "1      ['www', 'abandonedcommunities', 'co', 'uk']               www   \n",
       "2                   ['www', 'greekthomson', 'com']               www   \n",
       "3        ['www', 'arabbritishcentre', 'org', 'uk']               www   \n",
       "4                  ['www', 'aaschool', 'ac', 'uk']               www   \n",
       "...                                            ...               ...   \n",
       "11851             ['sas-space', 'blogspot', 'com']         sas-space   \n",
       "7781              ['www', 'iea-coal', 'org', 'uk']               www   \n",
       "19365                  ['athousandreasons', 'com']  athousandreasons   \n",
       "24685                ['www', 'vasili', 'co', 'uk']               www   \n",
       "6630            ['www', 'technologia', 'co', 'uk']               www   \n",
       "\n",
       "                       url2 url3 url4 url5 url6  is_valid  \n",
       "0                    sixty8  com  NaN  NaN  NaN     False  \n",
       "1      abandonedcommunities   co   uk  NaN  NaN     False  \n",
       "2              greekthomson  com  NaN  NaN  NaN     False  \n",
       "3         arabbritishcentre  org   uk  NaN  NaN     False  \n",
       "4                  aaschool   ac   uk  NaN  NaN     False  \n",
       "...                     ...  ...  ...  ...  ...       ...  \n",
       "11851              blogspot  com  NaN  NaN  NaN      True  \n",
       "7781               iea-coal  org   uk  NaN  NaN      True  \n",
       "19365                   com  NaN  NaN  NaN  NaN      True  \n",
       "24685                vasili   co   uk  NaN  NaN      True  \n",
       "6630            technologia   co   uk  NaN  NaN      True  \n",
       "\n",
       "[34837 rows x 13 columns]"
      ]
     },
     "execution_count": 4,
     "metadata": {},
     "output_type": "execute_result"
    }
   ],
   "source": [
    "df"
   ]
  },
  {
   "cell_type": "code",
   "execution_count": 5,
   "metadata": {},
   "outputs": [],
   "source": [
    "df.Title.to_csv(path/'lm_data.txt', header=None, index=None, sep=' ', mode='w')"
   ]
  },
  {
   "cell_type": "code",
   "execution_count": 11,
   "metadata": {},
   "outputs": [],
   "source": [
    "Path('../data/processed/text').mkdir()"
   ]
  },
  {
   "cell_type": "code",
   "execution_count": 12,
   "metadata": {},
   "outputs": [],
   "source": [
    "for i,k in df.iterrows():\n",
    "    txt = k['Title']\n",
    "    with open(f'../data/processed/text/{i}.txt','a') as f:\n",
    "        f.write(txt)"
   ]
  },
  {
   "cell_type": "code",
   "execution_count": 13,
   "metadata": {},
   "outputs": [
    {
     "data": {
      "text/plain": [
       "[PosixPath('../data/processed/text/6910.txt'),\n",
       " PosixPath('../data/processed/text/17258.txt'),\n",
       " PosixPath('../data/processed/text/1096.txt'),\n",
       " PosixPath('../data/processed/text/23391.txt'),\n",
       " PosixPath('../data/processed/text/9803.txt'),\n",
       " PosixPath('../data/processed/text/10617.txt'),\n",
       " PosixPath('../data/processed/text/6247.txt'),\n",
       " PosixPath('../data/processed/text/14882.txt'),\n",
       " PosixPath('../data/processed/text/9799.txt'),\n",
       " PosixPath('../data/processed/text/24062.txt'),\n",
       " PosixPath('../data/processed/text/8587.txt'),\n",
       " PosixPath('../data/processed/text/19482.txt'),\n",
       " PosixPath('../data/processed/text/10862.txt'),\n",
       " PosixPath('../data/processed/text/9410.txt'),\n",
       " PosixPath('../data/processed/text/12987.txt'),\n",
       " PosixPath('../data/processed/text/1968.txt'),\n",
       " PosixPath('../data/processed/text/3732.txt'),\n",
       " PosixPath('../data/processed/text/14990.txt'),\n",
       " PosixPath('../data/processed/text/12666.txt'),\n",
       " PosixPath('../data/processed/text/13979.txt'),\n",
       " PosixPath('../data/processed/text/18130.txt'),\n",
       " PosixPath('../data/processed/text/26439.txt'),\n",
       " PosixPath('../data/processed/text/11257.txt'),\n",
       " PosixPath('../data/processed/text/22090.txt'),\n",
       " PosixPath('../data/processed/text/19740.txt'),\n",
       " PosixPath('../data/processed/text/9644.txt'),\n",
       " PosixPath('../data/processed/text/14644.txt'),\n",
       " PosixPath('../data/processed/text/25675.txt'),\n",
       " PosixPath('../data/processed/text/1709.txt'),\n",
       " PosixPath('../data/processed/text/5901.txt'),\n",
       " PosixPath('../data/processed/text/5849.txt'),\n",
       " PosixPath('../data/processed/text/13058.txt'),\n",
       " PosixPath('../data/processed/text/19998.txt'),\n",
       " PosixPath('../data/processed/text/10650.txt'),\n",
       " PosixPath('../data/processed/text/19690.txt'),\n",
       " PosixPath('../data/processed/text/6373.txt'),\n",
       " PosixPath('../data/processed/text/21942.txt'),\n",
       " PosixPath('../data/processed/text/10046.txt'),\n",
       " PosixPath('../data/processed/text/17579.txt'),\n",
       " PosixPath('../data/processed/text/21819.txt'),\n",
       " PosixPath('../data/processed/text/5362.txt'),\n",
       " PosixPath('../data/processed/text/21730.txt'),\n",
       " PosixPath('../data/processed/text/16971.txt'),\n",
       " PosixPath('../data/processed/text/23928.txt'),\n",
       " PosixPath('../data/processed/text/8703.txt'),\n",
       " PosixPath('../data/processed/text/100.txt'),\n",
       " PosixPath('../data/processed/text/9779.txt'),\n",
       " PosixPath('../data/processed/text/18638.txt'),\n",
       " PosixPath('../data/processed/text/10148.txt'),\n",
       " PosixPath('../data/processed/text/24672.txt'),\n",
       " PosixPath('../data/processed/text/1049.txt'),\n",
       " PosixPath('../data/processed/text/4379.txt'),\n",
       " PosixPath('../data/processed/text/21852.txt'),\n",
       " PosixPath('../data/processed/text/23141.txt'),\n",
       " PosixPath('../data/processed/text/14534.txt'),\n",
       " PosixPath('../data/processed/text/18967.txt'),\n",
       " PosixPath('../data/processed/text/22482.txt'),\n",
       " PosixPath('../data/processed/text/8647.txt'),\n",
       " PosixPath('../data/processed/text/14363.txt'),\n",
       " PosixPath('../data/processed/text/18287.txt'),\n",
       " PosixPath('../data/processed/text/7583.txt'),\n",
       " PosixPath('../data/processed/text/21884.txt'),\n",
       " PosixPath('../data/processed/text/19519.txt'),\n",
       " PosixPath('../data/processed/text/4896.txt'),\n",
       " PosixPath('../data/processed/text/4386.txt'),\n",
       " PosixPath('../data/processed/text/3593.txt'),\n",
       " PosixPath('../data/processed/text/10019.txt'),\n",
       " PosixPath('../data/processed/text/26556.txt'),\n",
       " PosixPath('../data/processed/text/14297.txt'),\n",
       " PosixPath('../data/processed/text/5716.txt'),\n",
       " PosixPath('../data/processed/text/16658.txt'),\n",
       " PosixPath('../data/processed/text/16654.txt'),\n",
       " PosixPath('../data/processed/text/13574.txt'),\n",
       " PosixPath('../data/processed/text/22686.txt'),\n",
       " PosixPath('../data/processed/text/11151.txt'),\n",
       " PosixPath('../data/processed/text/4739.txt'),\n",
       " PosixPath('../data/processed/text/16541.txt'),\n",
       " PosixPath('../data/processed/text/11470.txt'),\n",
       " PosixPath('../data/processed/text/21740.txt'),\n",
       " PosixPath('../data/processed/text/21426.txt'),\n",
       " PosixPath('../data/processed/text/18810.txt'),\n",
       " PosixPath('../data/processed/text/18122.txt'),\n",
       " PosixPath('../data/processed/text/22065.txt'),\n",
       " PosixPath('../data/processed/text/10381.txt'),\n",
       " PosixPath('../data/processed/text/14509.txt'),\n",
       " PosixPath('../data/processed/text/19355.txt'),\n",
       " PosixPath('../data/processed/text/20390.txt'),\n",
       " PosixPath('../data/processed/text/12817.txt'),\n",
       " PosixPath('../data/processed/text/13607.txt'),\n",
       " PosixPath('../data/processed/text/15514.txt'),\n",
       " PosixPath('../data/processed/text/12320.txt'),\n",
       " PosixPath('../data/processed/text/5841.txt'),\n",
       " PosixPath('../data/processed/text/9496.txt'),\n",
       " PosixPath('../data/processed/text/22161.txt'),\n",
       " PosixPath('../data/processed/text/1552.txt'),\n",
       " PosixPath('../data/processed/text/12052.txt'),\n",
       " PosixPath('../data/processed/text/5759.txt'),\n",
       " PosixPath('../data/processed/text/15214.txt'),\n",
       " PosixPath('../data/processed/text/2717.txt'),\n",
       " PosixPath('../data/processed/text/3000.txt'),\n",
       " PosixPath('../data/processed/text/26115.txt'),\n",
       " PosixPath('../data/processed/text/6354.txt'),\n",
       " PosixPath('../data/processed/text/10767.txt'),\n",
       " PosixPath('../data/processed/text/1466.txt'),\n",
       " PosixPath('../data/processed/text/4591.txt'),\n",
       " PosixPath('../data/processed/text/22118.txt'),\n",
       " PosixPath('../data/processed/text/780.txt'),\n",
       " PosixPath('../data/processed/text/5839.txt'),\n",
       " PosixPath('../data/processed/text/19518.txt'),\n",
       " PosixPath('../data/processed/text/18415.txt'),\n",
       " PosixPath('../data/processed/text/1974.txt'),\n",
       " PosixPath('../data/processed/text/16345.txt'),\n",
       " PosixPath('../data/processed/text/25370.txt'),\n",
       " PosixPath('../data/processed/text/13199.txt'),\n",
       " PosixPath('../data/processed/text/18015.txt'),\n",
       " PosixPath('../data/processed/text/20977.txt'),\n",
       " PosixPath('../data/processed/text/2585.txt'),\n",
       " PosixPath('../data/processed/text/14840.txt'),\n",
       " PosixPath('../data/processed/text/14201.txt'),\n",
       " PosixPath('../data/processed/text/20917.txt'),\n",
       " PosixPath('../data/processed/text/20310.txt'),\n",
       " PosixPath('../data/processed/text/10144.txt'),\n",
       " PosixPath('../data/processed/text/25503.txt'),\n",
       " PosixPath('../data/processed/text/7588.txt'),\n",
       " PosixPath('../data/processed/text/11658.txt'),\n",
       " PosixPath('../data/processed/text/22033.txt'),\n",
       " PosixPath('../data/processed/text/22043.txt'),\n",
       " PosixPath('../data/processed/text/645.txt'),\n",
       " PosixPath('../data/processed/text/7927.txt'),\n",
       " PosixPath('../data/processed/text/310.txt'),\n",
       " PosixPath('../data/processed/text/15088.txt'),\n",
       " PosixPath('../data/processed/text/17478.txt'),\n",
       " PosixPath('../data/processed/text/8099.txt'),\n",
       " PosixPath('../data/processed/text/24676.txt'),\n",
       " PosixPath('../data/processed/text/1444.txt'),\n",
       " PosixPath('../data/processed/text/10072.txt'),\n",
       " PosixPath('../data/processed/text/5661.txt'),\n",
       " PosixPath('../data/processed/text/25597.txt'),\n",
       " PosixPath('../data/processed/text/26325.txt'),\n",
       " PosixPath('../data/processed/text/14955.txt'),\n",
       " PosixPath('../data/processed/text/4593.txt'),\n",
       " PosixPath('../data/processed/text/12366.txt'),\n",
       " PosixPath('../data/processed/text/8213.txt'),\n",
       " PosixPath('../data/processed/text/15623.txt'),\n",
       " PosixPath('../data/processed/text/15880.txt'),\n",
       " PosixPath('../data/processed/text/3198.txt'),\n",
       " PosixPath('../data/processed/text/22041.txt'),\n",
       " PosixPath('../data/processed/text/8933.txt'),\n",
       " PosixPath('../data/processed/text/7166.txt'),\n",
       " PosixPath('../data/processed/text/22179.txt'),\n",
       " PosixPath('../data/processed/text/26759.txt'),\n",
       " PosixPath('../data/processed/text/25433.txt'),\n",
       " PosixPath('../data/processed/text/20779.txt'),\n",
       " PosixPath('../data/processed/text/22392.txt'),\n",
       " PosixPath('../data/processed/text/4331.txt'),\n",
       " PosixPath('../data/processed/text/23447.txt'),\n",
       " PosixPath('../data/processed/text/4272.txt'),\n",
       " PosixPath('../data/processed/text/8120.txt'),\n",
       " PosixPath('../data/processed/text/15108.txt'),\n",
       " PosixPath('../data/processed/text/24339.txt'),\n",
       " PosixPath('../data/processed/text/14010.txt'),\n",
       " PosixPath('../data/processed/text/26748.txt'),\n",
       " PosixPath('../data/processed/text/15667.txt'),\n",
       " PosixPath('../data/processed/text/3364.txt'),\n",
       " PosixPath('../data/processed/text/15728.txt'),\n",
       " PosixPath('../data/processed/text/19865.txt'),\n",
       " PosixPath('../data/processed/text/14918.txt'),\n",
       " PosixPath('../data/processed/text/15523.txt'),\n",
       " PosixPath('../data/processed/text/5586.txt'),\n",
       " PosixPath('../data/processed/text/26261.txt'),\n",
       " PosixPath('../data/processed/text/25972.txt'),\n",
       " PosixPath('../data/processed/text/12985.txt'),\n",
       " PosixPath('../data/processed/text/19170.txt'),\n",
       " PosixPath('../data/processed/text/21274.txt'),\n",
       " PosixPath('../data/processed/text/1477.txt'),\n",
       " PosixPath('../data/processed/text/11415.txt'),\n",
       " PosixPath('../data/processed/text/16257.txt'),\n",
       " PosixPath('../data/processed/text/8627.txt'),\n",
       " PosixPath('../data/processed/text/17242.txt'),\n",
       " PosixPath('../data/processed/text/14342.txt'),\n",
       " PosixPath('../data/processed/text/13963.txt'),\n",
       " PosixPath('../data/processed/text/12094.txt'),\n",
       " PosixPath('../data/processed/text/19246.txt'),\n",
       " PosixPath('../data/processed/text/9193.txt'),\n",
       " PosixPath('../data/processed/text/18908.txt'),\n",
       " PosixPath('../data/processed/text/22320.txt'),\n",
       " PosixPath('../data/processed/text/15139.txt'),\n",
       " PosixPath('../data/processed/text/25317.txt'),\n",
       " PosixPath('../data/processed/text/1339.txt'),\n",
       " PosixPath('../data/processed/text/7637.txt'),\n",
       " PosixPath('../data/processed/text/26181.txt'),\n",
       " PosixPath('../data/processed/text/21177.txt'),\n",
       " PosixPath('../data/processed/text/23567.txt'),\n",
       " PosixPath('../data/processed/text/24436.txt'),\n",
       " PosixPath('../data/processed/text/5811.txt'),\n",
       " PosixPath('../data/processed/text/19533.txt'),\n",
       " PosixPath('../data/processed/text/14945.txt'),\n",
       " PosixPath('../data/processed/text/10788.txt'),\n",
       " PosixPath('../data/processed/text/25553.txt'),\n",
       " PosixPath('../data/processed/text/17874.txt'),\n",
       " PosixPath('../data/processed/text/3302.txt'),\n",
       " PosixPath('../data/processed/text/20252.txt'),\n",
       " PosixPath('../data/processed/text/13839.txt'),\n",
       " PosixPath('../data/processed/text/17145.txt'),\n",
       " PosixPath('../data/processed/text/7566.txt'),\n",
       " PosixPath('../data/processed/text/22858.txt'),\n",
       " PosixPath('../data/processed/text/16801.txt'),\n",
       " PosixPath('../data/processed/text/1012.txt'),\n",
       " PosixPath('../data/processed/text/6883.txt'),\n",
       " PosixPath('../data/processed/text/1866.txt'),\n",
       " PosixPath('../data/processed/text/8335.txt'),\n",
       " PosixPath('../data/processed/text/25695.txt'),\n",
       " PosixPath('../data/processed/text/27.txt'),\n",
       " PosixPath('../data/processed/text/19396.txt'),\n",
       " PosixPath('../data/processed/text/6992.txt'),\n",
       " PosixPath('../data/processed/text/3192.txt'),\n",
       " PosixPath('../data/processed/text/15389.txt'),\n",
       " PosixPath('../data/processed/text/844.txt'),\n",
       " PosixPath('../data/processed/text/15394.txt'),\n",
       " PosixPath('../data/processed/text/12184.txt'),\n",
       " PosixPath('../data/processed/text/9368.txt'),\n",
       " PosixPath('../data/processed/text/4369.txt'),\n",
       " PosixPath('../data/processed/text/6749.txt'),\n",
       " PosixPath('../data/processed/text/23339.txt'),\n",
       " PosixPath('../data/processed/text/22708.txt'),\n",
       " PosixPath('../data/processed/text/2342.txt'),\n",
       " PosixPath('../data/processed/text/5342.txt'),\n",
       " PosixPath('../data/processed/text/24446.txt'),\n",
       " PosixPath('../data/processed/text/5507.txt'),\n",
       " PosixPath('../data/processed/text/20814.txt'),\n",
       " PosixPath('../data/processed/text/7671.txt'),\n",
       " PosixPath('../data/processed/text/9544.txt'),\n",
       " PosixPath('../data/processed/text/5492.txt'),\n",
       " PosixPath('../data/processed/text/6741.txt'),\n",
       " PosixPath('../data/processed/text/6965.txt'),\n",
       " PosixPath('../data/processed/text/22906.txt'),\n",
       " PosixPath('../data/processed/text/13966.txt'),\n",
       " PosixPath('../data/processed/text/20986.txt'),\n",
       " PosixPath('../data/processed/text/6854.txt'),\n",
       " PosixPath('../data/processed/text/20250.txt'),\n",
       " PosixPath('../data/processed/text/6786.txt'),\n",
       " PosixPath('../data/processed/text/8730.txt'),\n",
       " PosixPath('../data/processed/text/23543.txt'),\n",
       " PosixPath('../data/processed/text/17654.txt'),\n",
       " PosixPath('../data/processed/text/13057.txt'),\n",
       " PosixPath('../data/processed/text/3996.txt'),\n",
       " PosixPath('../data/processed/text/7224.txt'),\n",
       " PosixPath('../data/processed/text/15791.txt'),\n",
       " PosixPath('../data/processed/text/20041.txt'),\n",
       " PosixPath('../data/processed/text/24387.txt'),\n",
       " PosixPath('../data/processed/text/1636.txt'),\n",
       " PosixPath('../data/processed/text/21845.txt'),\n",
       " PosixPath('../data/processed/text/7458.txt'),\n",
       " PosixPath('../data/processed/text/14809.txt'),\n",
       " PosixPath('../data/processed/text/4315.txt'),\n",
       " PosixPath('../data/processed/text/23125.txt'),\n",
       " PosixPath('../data/processed/text/12773.txt'),\n",
       " PosixPath('../data/processed/text/26056.txt'),\n",
       " PosixPath('../data/processed/text/20186.txt'),\n",
       " PosixPath('../data/processed/text/10171.txt'),\n",
       " PosixPath('../data/processed/text/24701.txt'),\n",
       " PosixPath('../data/processed/text/25321.txt'),\n",
       " PosixPath('../data/processed/text/666.txt'),\n",
       " PosixPath('../data/processed/text/10841.txt'),\n",
       " PosixPath('../data/processed/text/23970.txt'),\n",
       " PosixPath('../data/processed/text/11449.txt'),\n",
       " PosixPath('../data/processed/text/21842.txt'),\n",
       " PosixPath('../data/processed/text/26758.txt'),\n",
       " PosixPath('../data/processed/text/2419.txt'),\n",
       " PosixPath('../data/processed/text/18138.txt'),\n",
       " PosixPath('../data/processed/text/22821.txt'),\n",
       " PosixPath('../data/processed/text/19598.txt'),\n",
       " PosixPath('../data/processed/text/9475.txt'),\n",
       " PosixPath('../data/processed/text/25396.txt'),\n",
       " PosixPath('../data/processed/text/14145.txt'),\n",
       " PosixPath('../data/processed/text/23106.txt'),\n",
       " PosixPath('../data/processed/text/1102.txt'),\n",
       " PosixPath('../data/processed/text/10871.txt'),\n",
       " PosixPath('../data/processed/text/13163.txt'),\n",
       " PosixPath('../data/processed/text/7491.txt'),\n",
       " PosixPath('../data/processed/text/21957.txt'),\n",
       " PosixPath('../data/processed/text/21469.txt'),\n",
       " PosixPath('../data/processed/text/1978.txt'),\n",
       " PosixPath('../data/processed/text/9699.txt'),\n",
       " PosixPath('../data/processed/text/4468.txt'),\n",
       " PosixPath('../data/processed/text/6283.txt'),\n",
       " PosixPath('../data/processed/text/9091.txt'),\n",
       " PosixPath('../data/processed/text/19184.txt'),\n",
       " PosixPath('../data/processed/text/18754.txt'),\n",
       " PosixPath('../data/processed/text/23811.txt'),\n",
       " PosixPath('../data/processed/text/13175.txt'),\n",
       " PosixPath('../data/processed/text/6386.txt'),\n",
       " PosixPath('../data/processed/text/8043.txt'),\n",
       " PosixPath('../data/processed/text/2462.txt'),\n",
       " PosixPath('../data/processed/text/16008.txt'),\n",
       " PosixPath('../data/processed/text/20127.txt'),\n",
       " PosixPath('../data/processed/text/10298.txt'),\n",
       " PosixPath('../data/processed/text/16551.txt'),\n",
       " PosixPath('../data/processed/text/5227.txt'),\n",
       " PosixPath('../data/processed/text/8753.txt'),\n",
       " PosixPath('../data/processed/text/11247.txt'),\n",
       " PosixPath('../data/processed/text/21595.txt'),\n",
       " PosixPath('../data/processed/text/6384.txt'),\n",
       " PosixPath('../data/processed/text/5134.txt'),\n",
       " PosixPath('../data/processed/text/21899.txt'),\n",
       " PosixPath('../data/processed/text/2625.txt'),\n",
       " PosixPath('../data/processed/text/25252.txt'),\n",
       " PosixPath('../data/processed/text/4792.txt'),\n",
       " PosixPath('../data/processed/text/21378.txt'),\n",
       " PosixPath('../data/processed/text/22366.txt'),\n",
       " PosixPath('../data/processed/text/24475.txt'),\n",
       " PosixPath('../data/processed/text/15434.txt'),\n",
       " PosixPath('../data/processed/text/10400.txt'),\n",
       " PosixPath('../data/processed/text/66.txt'),\n",
       " PosixPath('../data/processed/text/23048.txt'),\n",
       " PosixPath('../data/processed/text/16492.txt'),\n",
       " PosixPath('../data/processed/text/11288.txt'),\n",
       " PosixPath('../data/processed/text/11431.txt'),\n",
       " PosixPath('../data/processed/text/24733.txt'),\n",
       " PosixPath('../data/processed/text/14760.txt'),\n",
       " PosixPath('../data/processed/text/9081.txt'),\n",
       " PosixPath('../data/processed/text/3799.txt'),\n",
       " PosixPath('../data/processed/text/24165.txt'),\n",
       " PosixPath('../data/processed/text/1163.txt'),\n",
       " PosixPath('../data/processed/text/18445.txt'),\n",
       " PosixPath('../data/processed/text/11629.txt'),\n",
       " PosixPath('../data/processed/text/1755.txt'),\n",
       " PosixPath('../data/processed/text/14065.txt'),\n",
       " PosixPath('../data/processed/text/16283.txt'),\n",
       " PosixPath('../data/processed/text/22756.txt'),\n",
       " PosixPath('../data/processed/text/11899.txt'),\n",
       " PosixPath('../data/processed/text/18077.txt'),\n",
       " PosixPath('../data/processed/text/13042.txt'),\n",
       " PosixPath('../data/processed/text/11866.txt'),\n",
       " PosixPath('../data/processed/text/19721.txt'),\n",
       " PosixPath('../data/processed/text/21456.txt'),\n",
       " PosixPath('../data/processed/text/13610.txt'),\n",
       " PosixPath('../data/processed/text/1778.txt'),\n",
       " PosixPath('../data/processed/text/5003.txt'),\n",
       " PosixPath('../data/processed/text/17169.txt'),\n",
       " PosixPath('../data/processed/text/23331.txt'),\n",
       " PosixPath('../data/processed/text/13116.txt'),\n",
       " PosixPath('../data/processed/text/6915.txt'),\n",
       " PosixPath('../data/processed/text/14006.txt'),\n",
       " PosixPath('../data/processed/text/1707.txt'),\n",
       " PosixPath('../data/processed/text/24792.txt'),\n",
       " PosixPath('../data/processed/text/23512.txt'),\n",
       " PosixPath('../data/processed/text/3124.txt'),\n",
       " PosixPath('../data/processed/text/6421.txt'),\n",
       " PosixPath('../data/processed/text/7621.txt'),\n",
       " PosixPath('../data/processed/text/15133.txt'),\n",
       " PosixPath('../data/processed/text/1378.txt'),\n",
       " PosixPath('../data/processed/text/10113.txt'),\n",
       " PosixPath('../data/processed/text/15816.txt'),\n",
       " PosixPath('../data/processed/text/19245.txt'),\n",
       " PosixPath('../data/processed/text/5352.txt'),\n",
       " PosixPath('../data/processed/text/16614.txt'),\n",
       " PosixPath('../data/processed/text/8861.txt'),\n",
       " PosixPath('../data/processed/text/21129.txt'),\n",
       " PosixPath('../data/processed/text/6552.txt'),\n",
       " PosixPath('../data/processed/text/11869.txt'),\n",
       " PosixPath('../data/processed/text/24061.txt'),\n",
       " PosixPath('../data/processed/text/5346.txt'),\n",
       " PosixPath('../data/processed/text/14015.txt'),\n",
       " PosixPath('../data/processed/text/26051.txt'),\n",
       " PosixPath('../data/processed/text/26564.txt'),\n",
       " PosixPath('../data/processed/text/6800.txt'),\n",
       " PosixPath('../data/processed/text/1604.txt'),\n",
       " PosixPath('../data/processed/text/1527.txt'),\n",
       " PosixPath('../data/processed/text/21948.txt'),\n",
       " PosixPath('../data/processed/text/5707.txt'),\n",
       " PosixPath('../data/processed/text/7634.txt'),\n",
       " PosixPath('../data/processed/text/15381.txt'),\n",
       " PosixPath('../data/processed/text/3571.txt'),\n",
       " PosixPath('../data/processed/text/11258.txt'),\n",
       " PosixPath('../data/processed/text/18227.txt'),\n",
       " PosixPath('../data/processed/text/2152.txt'),\n",
       " PosixPath('../data/processed/text/2855.txt'),\n",
       " PosixPath('../data/processed/text/18992.txt'),\n",
       " PosixPath('../data/processed/text/15794.txt'),\n",
       " PosixPath('../data/processed/text/12171.txt'),\n",
       " PosixPath('../data/processed/text/12970.txt'),\n",
       " PosixPath('../data/processed/text/15734.txt'),\n",
       " PosixPath('../data/processed/text/897.txt'),\n",
       " PosixPath('../data/processed/text/13395.txt'),\n",
       " PosixPath('../data/processed/text/7248.txt'),\n",
       " PosixPath('../data/processed/text/5409.txt'),\n",
       " PosixPath('../data/processed/text/22132.txt'),\n",
       " PosixPath('../data/processed/text/13759.txt'),\n",
       " PosixPath('../data/processed/text/26179.txt'),\n",
       " PosixPath('../data/processed/text/19774.txt'),\n",
       " PosixPath('../data/processed/text/22530.txt'),\n",
       " PosixPath('../data/processed/text/7568.txt'),\n",
       " PosixPath('../data/processed/text/19236.txt'),\n",
       " PosixPath('../data/processed/text/11602.txt'),\n",
       " PosixPath('../data/processed/text/24084.txt'),\n",
       " PosixPath('../data/processed/text/6455.txt'),\n",
       " PosixPath('../data/processed/text/12545.txt'),\n",
       " PosixPath('../data/processed/text/6877.txt'),\n",
       " PosixPath('../data/processed/text/1903.txt'),\n",
       " PosixPath('../data/processed/text/20453.txt'),\n",
       " PosixPath('../data/processed/text/17435.txt'),\n",
       " PosixPath('../data/processed/text/18016.txt'),\n",
       " PosixPath('../data/processed/text/15562.txt'),\n",
       " PosixPath('../data/processed/text/17170.txt'),\n",
       " PosixPath('../data/processed/text/12801.txt'),\n",
       " PosixPath('../data/processed/text/3904.txt'),\n",
       " PosixPath('../data/processed/text/15410.txt'),\n",
       " PosixPath('../data/processed/text/10120.txt'),\n",
       " PosixPath('../data/processed/text/4727.txt'),\n",
       " PosixPath('../data/processed/text/19766.txt'),\n",
       " PosixPath('../data/processed/text/448.txt'),\n",
       " PosixPath('../data/processed/text/16004.txt'),\n",
       " PosixPath('../data/processed/text/7855.txt'),\n",
       " PosixPath('../data/processed/text/24522.txt'),\n",
       " PosixPath('../data/processed/text/14865.txt'),\n",
       " PosixPath('../data/processed/text/1934.txt'),\n",
       " PosixPath('../data/processed/text/25006.txt'),\n",
       " PosixPath('../data/processed/text/12900.txt'),\n",
       " PosixPath('../data/processed/text/4883.txt'),\n",
       " PosixPath('../data/processed/text/5947.txt'),\n",
       " PosixPath('../data/processed/text/9641.txt'),\n",
       " PosixPath('../data/processed/text/14991.txt'),\n",
       " PosixPath('../data/processed/text/16607.txt'),\n",
       " PosixPath('../data/processed/text/12810.txt'),\n",
       " PosixPath('../data/processed/text/9577.txt'),\n",
       " PosixPath('../data/processed/text/12277.txt'),\n",
       " PosixPath('../data/processed/text/5987.txt'),\n",
       " PosixPath('../data/processed/text/19132.txt'),\n",
       " PosixPath('../data/processed/text/25407.txt'),\n",
       " PosixPath('../data/processed/text/1237.txt'),\n",
       " PosixPath('../data/processed/text/23109.txt'),\n",
       " PosixPath('../data/processed/text/21169.txt'),\n",
       " PosixPath('../data/processed/text/3314.txt'),\n",
       " PosixPath('../data/processed/text/18145.txt'),\n",
       " PosixPath('../data/processed/text/260.txt'),\n",
       " PosixPath('../data/processed/text/21058.txt'),\n",
       " PosixPath('../data/processed/text/7708.txt'),\n",
       " PosixPath('../data/processed/text/7044.txt'),\n",
       " PosixPath('../data/processed/text/22784.txt'),\n",
       " PosixPath('../data/processed/text/13564.txt'),\n",
       " PosixPath('../data/processed/text/12091.txt'),\n",
       " PosixPath('../data/processed/text/8274.txt'),\n",
       " PosixPath('../data/processed/text/13722.txt'),\n",
       " PosixPath('../data/processed/text/3506.txt'),\n",
       " PosixPath('../data/processed/text/1955.txt'),\n",
       " PosixPath('../data/processed/text/12547.txt'),\n",
       " PosixPath('../data/processed/text/15269.txt'),\n",
       " PosixPath('../data/processed/text/23588.txt'),\n",
       " PosixPath('../data/processed/text/16361.txt'),\n",
       " PosixPath('../data/processed/text/4622.txt'),\n",
       " PosixPath('../data/processed/text/22532.txt'),\n",
       " PosixPath('../data/processed/text/8849.txt'),\n",
       " PosixPath('../data/processed/text/19063.txt'),\n",
       " PosixPath('../data/processed/text/11422.txt'),\n",
       " PosixPath('../data/processed/text/26592.txt'),\n",
       " PosixPath('../data/processed/text/1991.txt'),\n",
       " PosixPath('../data/processed/text/414.txt'),\n",
       " PosixPath('../data/processed/text/5157.txt'),\n",
       " PosixPath('../data/processed/text/44.txt'),\n",
       " PosixPath('../data/processed/text/5490.txt'),\n",
       " PosixPath('../data/processed/text/67.txt'),\n",
       " PosixPath('../data/processed/text/17952.txt'),\n",
       " PosixPath('../data/processed/text/23952.txt'),\n",
       " PosixPath('../data/processed/text/3075.txt'),\n",
       " PosixPath('../data/processed/text/13662.txt'),\n",
       " PosixPath('../data/processed/text/7250.txt'),\n",
       " PosixPath('../data/processed/text/19042.txt'),\n",
       " PosixPath('../data/processed/text/14408.txt'),\n",
       " PosixPath('../data/processed/text/23981.txt'),\n",
       " PosixPath('../data/processed/text/14500.txt'),\n",
       " PosixPath('../data/processed/text/26070.txt'),\n",
       " PosixPath('../data/processed/text/1106.txt'),\n",
       " PosixPath('../data/processed/text/4196.txt'),\n",
       " PosixPath('../data/processed/text/5823.txt'),\n",
       " PosixPath('../data/processed/text/17863.txt'),\n",
       " PosixPath('../data/processed/text/19466.txt'),\n",
       " PosixPath('../data/processed/text/23188.txt'),\n",
       " PosixPath('../data/processed/text/13778.txt'),\n",
       " PosixPath('../data/processed/text/566.txt'),\n",
       " PosixPath('../data/processed/text/12003.txt'),\n",
       " PosixPath('../data/processed/text/4051.txt'),\n",
       " PosixPath('../data/processed/text/13082.txt'),\n",
       " PosixPath('../data/processed/text/3151.txt'),\n",
       " PosixPath('../data/processed/text/24053.txt'),\n",
       " PosixPath('../data/processed/text/22083.txt'),\n",
       " PosixPath('../data/processed/text/4029.txt'),\n",
       " PosixPath('../data/processed/text/128.txt'),\n",
       " PosixPath('../data/processed/text/7698.txt'),\n",
       " PosixPath('../data/processed/text/2562.txt'),\n",
       " PosixPath('../data/processed/text/8068.txt'),\n",
       " PosixPath('../data/processed/text/4226.txt'),\n",
       " PosixPath('../data/processed/text/18723.txt'),\n",
       " PosixPath('../data/processed/text/11563.txt'),\n",
       " PosixPath('../data/processed/text/10833.txt'),\n",
       " PosixPath('../data/processed/text/17421.txt'),\n",
       " PosixPath('../data/processed/text/26555.txt'),\n",
       " PosixPath('../data/processed/text/9915.txt'),\n",
       " PosixPath('../data/processed/text/21535.txt'),\n",
       " PosixPath('../data/processed/text/4117.txt'),\n",
       " PosixPath('../data/processed/text/23951.txt'),\n",
       " PosixPath('../data/processed/text/22751.txt'),\n",
       " PosixPath('../data/processed/text/9473.txt'),\n",
       " PosixPath('../data/processed/text/1348.txt'),\n",
       " PosixPath('../data/processed/text/12653.txt'),\n",
       " PosixPath('../data/processed/text/11148.txt'),\n",
       " PosixPath('../data/processed/text/6816.txt'),\n",
       " PosixPath('../data/processed/text/9800.txt'),\n",
       " PosixPath('../data/processed/text/15148.txt'),\n",
       " PosixPath('../data/processed/text/11789.txt'),\n",
       " PosixPath('../data/processed/text/3478.txt'),\n",
       " PosixPath('../data/processed/text/1887.txt'),\n",
       " PosixPath('../data/processed/text/8661.txt'),\n",
       " PosixPath('../data/processed/text/4685.txt'),\n",
       " PosixPath('../data/processed/text/18915.txt'),\n",
       " PosixPath('../data/processed/text/15498.txt'),\n",
       " PosixPath('../data/processed/text/8569.txt'),\n",
       " PosixPath('../data/processed/text/4161.txt'),\n",
       " PosixPath('../data/processed/text/6565.txt'),\n",
       " PosixPath('../data/processed/text/13354.txt'),\n",
       " PosixPath('../data/processed/text/24409.txt'),\n",
       " PosixPath('../data/processed/text/23459.txt'),\n",
       " PosixPath('../data/processed/text/17066.txt'),\n",
       " PosixPath('../data/processed/text/18265.txt'),\n",
       " PosixPath('../data/processed/text/20861.txt'),\n",
       " PosixPath('../data/processed/text/13274.txt'),\n",
       " PosixPath('../data/processed/text/5911.txt'),\n",
       " PosixPath('../data/processed/text/3447.txt'),\n",
       " PosixPath('../data/processed/text/1022.txt'),\n",
       " PosixPath('../data/processed/text/3126.txt'),\n",
       " PosixPath('../data/processed/text/8082.txt'),\n",
       " PosixPath('../data/processed/text/16637.txt'),\n",
       " PosixPath('../data/processed/text/21502.txt'),\n",
       " PosixPath('../data/processed/text/7796.txt'),\n",
       " PosixPath('../data/processed/text/22119.txt'),\n",
       " PosixPath('../data/processed/text/24255.txt'),\n",
       " PosixPath('../data/processed/text/8100.txt'),\n",
       " PosixPath('../data/processed/text/22019.txt'),\n",
       " PosixPath('../data/processed/text/18756.txt'),\n",
       " PosixPath('../data/processed/text/24613.txt'),\n",
       " PosixPath('../data/processed/text/493.txt'),\n",
       " PosixPath('../data/processed/text/724.txt'),\n",
       " PosixPath('../data/processed/text/10049.txt'),\n",
       " PosixPath('../data/processed/text/7789.txt'),\n",
       " PosixPath('../data/processed/text/15195.txt'),\n",
       " PosixPath('../data/processed/text/2253.txt'),\n",
       " PosixPath('../data/processed/text/11413.txt'),\n",
       " PosixPath('../data/processed/text/17680.txt'),\n",
       " PosixPath('../data/processed/text/23346.txt'),\n",
       " PosixPath('../data/processed/text/10658.txt'),\n",
       " PosixPath('../data/processed/text/17458.txt'),\n",
       " PosixPath('../data/processed/text/24486.txt'),\n",
       " PosixPath('../data/processed/text/722.txt'),\n",
       " PosixPath('../data/processed/text/17662.txt'),\n",
       " PosixPath('../data/processed/text/10878.txt'),\n",
       " PosixPath('../data/processed/text/794.txt'),\n",
       " PosixPath('../data/processed/text/24345.txt'),\n",
       " PosixPath('../data/processed/text/5792.txt'),\n",
       " PosixPath('../data/processed/text/11438.txt'),\n",
       " PosixPath('../data/processed/text/12568.txt'),\n",
       " PosixPath('../data/processed/text/12734.txt'),\n",
       " PosixPath('../data/processed/text/22226.txt'),\n",
       " PosixPath('../data/processed/text/14719.txt'),\n",
       " PosixPath('../data/processed/text/14421.txt'),\n",
       " PosixPath('../data/processed/text/17401.txt'),\n",
       " PosixPath('../data/processed/text/11042.txt'),\n",
       " PosixPath('../data/processed/text/18201.txt'),\n",
       " PosixPath('../data/processed/text/7550.txt'),\n",
       " PosixPath('../data/processed/text/13910.txt'),\n",
       " PosixPath('../data/processed/text/2724.txt'),\n",
       " PosixPath('../data/processed/text/26215.txt'),\n",
       " PosixPath('../data/processed/text/10747.txt'),\n",
       " PosixPath('../data/processed/text/25508.txt'),\n",
       " PosixPath('../data/processed/text/21548.txt'),\n",
       " PosixPath('../data/processed/text/21977.txt'),\n",
       " PosixPath('../data/processed/text/13080.txt'),\n",
       " PosixPath('../data/processed/text/2383.txt'),\n",
       " PosixPath('../data/processed/text/9009.txt'),\n",
       " PosixPath('../data/processed/text/7736.txt'),\n",
       " PosixPath('../data/processed/text/8119.txt'),\n",
       " PosixPath('../data/processed/text/23235.txt'),\n",
       " PosixPath('../data/processed/text/294.txt'),\n",
       " PosixPath('../data/processed/text/13867.txt'),\n",
       " PosixPath('../data/processed/text/10756.txt'),\n",
       " PosixPath('../data/processed/text/6669.txt'),\n",
       " PosixPath('../data/processed/text/16903.txt'),\n",
       " PosixPath('../data/processed/text/23366.txt'),\n",
       " PosixPath('../data/processed/text/15127.txt'),\n",
       " PosixPath('../data/processed/text/9435.txt'),\n",
       " PosixPath('../data/processed/text/1389.txt'),\n",
       " PosixPath('../data/processed/text/9637.txt'),\n",
       " PosixPath('../data/processed/text/4771.txt'),\n",
       " PosixPath('../data/processed/text/5763.txt'),\n",
       " PosixPath('../data/processed/text/18163.txt'),\n",
       " PosixPath('../data/processed/text/11282.txt'),\n",
       " PosixPath('../data/processed/text/14048.txt'),\n",
       " PosixPath('../data/processed/text/12998.txt'),\n",
       " PosixPath('../data/processed/text/7153.txt'),\n",
       " PosixPath('../data/processed/text/14436.txt'),\n",
       " PosixPath('../data/processed/text/13691.txt'),\n",
       " PosixPath('../data/processed/text/9786.txt'),\n",
       " PosixPath('../data/processed/text/9946.txt'),\n",
       " PosixPath('../data/processed/text/11536.txt'),\n",
       " PosixPath('../data/processed/text/4617.txt'),\n",
       " PosixPath('../data/processed/text/19509.txt'),\n",
       " PosixPath('../data/processed/text/8911.txt'),\n",
       " PosixPath('../data/processed/text/21288.txt'),\n",
       " PosixPath('../data/processed/text/19928.txt'),\n",
       " PosixPath('../data/processed/text/178.txt'),\n",
       " PosixPath('../data/processed/text/3967.txt'),\n",
       " PosixPath('../data/processed/text/23004.txt'),\n",
       " PosixPath('../data/processed/text/14042.txt'),\n",
       " PosixPath('../data/processed/text/11729.txt'),\n",
       " PosixPath('../data/processed/text/6264.txt'),\n",
       " PosixPath('../data/processed/text/25629.txt'),\n",
       " PosixPath('../data/processed/text/20489.txt'),\n",
       " PosixPath('../data/processed/text/5844.txt'),\n",
       " PosixPath('../data/processed/text/2943.txt'),\n",
       " PosixPath('../data/processed/text/4058.txt'),\n",
       " PosixPath('../data/processed/text/9929.txt'),\n",
       " PosixPath('../data/processed/text/19920.txt'),\n",
       " PosixPath('../data/processed/text/19959.txt'),\n",
       " PosixPath('../data/processed/text/18757.txt'),\n",
       " PosixPath('../data/processed/text/8134.txt'),\n",
       " PosixPath('../data/processed/text/5379.txt'),\n",
       " PosixPath('../data/processed/text/16195.txt'),\n",
       " PosixPath('../data/processed/text/16430.txt'),\n",
       " PosixPath('../data/processed/text/12182.txt'),\n",
       " PosixPath('../data/processed/text/7349.txt'),\n",
       " PosixPath('../data/processed/text/23738.txt'),\n",
       " PosixPath('../data/processed/text/9269.txt'),\n",
       " PosixPath('../data/processed/text/3529.txt'),\n",
       " PosixPath('../data/processed/text/7388.txt'),\n",
       " PosixPath('../data/processed/text/8280.txt'),\n",
       " PosixPath('../data/processed/text/3583.txt'),\n",
       " PosixPath('../data/processed/text/8633.txt'),\n",
       " PosixPath('../data/processed/text/3575.txt'),\n",
       " PosixPath('../data/processed/text/15293.txt'),\n",
       " PosixPath('../data/processed/text/25575.txt'),\n",
       " PosixPath('../data/processed/text/9894.txt'),\n",
       " PosixPath('../data/processed/text/15769.txt'),\n",
       " PosixPath('../data/processed/text/303.txt'),\n",
       " PosixPath('../data/processed/text/733.txt'),\n",
       " PosixPath('../data/processed/text/18949.txt'),\n",
       " PosixPath('../data/processed/text/15427.txt'),\n",
       " PosixPath('../data/processed/text/10128.txt'),\n",
       " PosixPath('../data/processed/text/10999.txt'),\n",
       " PosixPath('../data/processed/text/8799.txt'),\n",
       " PosixPath('../data/processed/text/24594.txt'),\n",
       " PosixPath('../data/processed/text/20911.txt'),\n",
       " PosixPath('../data/processed/text/4738.txt'),\n",
       " PosixPath('../data/processed/text/24583.txt'),\n",
       " PosixPath('../data/processed/text/16333.txt'),\n",
       " PosixPath('../data/processed/text/14230.txt'),\n",
       " PosixPath('../data/processed/text/20134.txt'),\n",
       " PosixPath('../data/processed/text/17983.txt'),\n",
       " PosixPath('../data/processed/text/440.txt'),\n",
       " PosixPath('../data/processed/text/8253.txt'),\n",
       " PosixPath('../data/processed/text/18877.txt'),\n",
       " PosixPath('../data/processed/text/19075.txt'),\n",
       " PosixPath('../data/processed/text/11026.txt'),\n",
       " PosixPath('../data/processed/text/10891.txt'),\n",
       " PosixPath('../data/processed/text/15137.txt'),\n",
       " PosixPath('../data/processed/text/23809.txt'),\n",
       " PosixPath('../data/processed/text/15311.txt'),\n",
       " PosixPath('../data/processed/text/5548.txt'),\n",
       " PosixPath('../data/processed/text/24306.txt'),\n",
       " PosixPath('../data/processed/text/21481.txt'),\n",
       " PosixPath('../data/processed/text/7718.txt'),\n",
       " PosixPath('../data/processed/text/22363.txt'),\n",
       " PosixPath('../data/processed/text/18115.txt'),\n",
       " PosixPath('../data/processed/text/17915.txt'),\n",
       " PosixPath('../data/processed/text/22861.txt'),\n",
       " PosixPath('../data/processed/text/567.txt'),\n",
       " PosixPath('../data/processed/text/23913.txt'),\n",
       " PosixPath('../data/processed/text/14224.txt'),\n",
       " PosixPath('../data/processed/text/12511.txt'),\n",
       " PosixPath('../data/processed/text/14586.txt'),\n",
       " PosixPath('../data/processed/text/11285.txt'),\n",
       " PosixPath('../data/processed/text/9170.txt'),\n",
       " PosixPath('../data/processed/text/18024.txt'),\n",
       " PosixPath('../data/processed/text/25038.txt'),\n",
       " PosixPath('../data/processed/text/21082.txt'),\n",
       " PosixPath('../data/processed/text/10498.txt'),\n",
       " PosixPath('../data/processed/text/23704.txt'),\n",
       " PosixPath('../data/processed/text/10976.txt'),\n",
       " PosixPath('../data/processed/text/17705.txt'),\n",
       " PosixPath('../data/processed/text/22136.txt'),\n",
       " PosixPath('../data/processed/text/6606.txt'),\n",
       " PosixPath('../data/processed/text/18861.txt'),\n",
       " PosixPath('../data/processed/text/18767.txt'),\n",
       " PosixPath('../data/processed/text/7073.txt'),\n",
       " PosixPath('../data/processed/text/1454.txt'),\n",
       " PosixPath('../data/processed/text/25561.txt'),\n",
       " PosixPath('../data/processed/text/23229.txt'),\n",
       " PosixPath('../data/processed/text/20611.txt'),\n",
       " PosixPath('../data/processed/text/17511.txt'),\n",
       " PosixPath('../data/processed/text/13683.txt'),\n",
       " PosixPath('../data/processed/text/19091.txt'),\n",
       " PosixPath('../data/processed/text/16281.txt'),\n",
       " PosixPath('../data/processed/text/22511.txt'),\n",
       " PosixPath('../data/processed/text/17676.txt'),\n",
       " PosixPath('../data/processed/text/8202.txt'),\n",
       " PosixPath('../data/processed/text/7422.txt'),\n",
       " PosixPath('../data/processed/text/1493.txt'),\n",
       " PosixPath('../data/processed/text/25780.txt'),\n",
       " PosixPath('../data/processed/text/16642.txt'),\n",
       " PosixPath('../data/processed/text/17266.txt'),\n",
       " PosixPath('../data/processed/text/15353.txt'),\n",
       " PosixPath('../data/processed/text/1738.txt'),\n",
       " PosixPath('../data/processed/text/4408.txt'),\n",
       " PosixPath('../data/processed/text/10892.txt'),\n",
       " PosixPath('../data/processed/text/15839.txt'),\n",
       " PosixPath('../data/processed/text/19019.txt'),\n",
       " PosixPath('../data/processed/text/424.txt'),\n",
       " PosixPath('../data/processed/text/15937.txt'),\n",
       " PosixPath('../data/processed/text/3579.txt'),\n",
       " PosixPath('../data/processed/text/24321.txt'),\n",
       " PosixPath('../data/processed/text/7607.txt'),\n",
       " PosixPath('../data/processed/text/23234.txt'),\n",
       " PosixPath('../data/processed/text/14345.txt'),\n",
       " PosixPath('../data/processed/text/16973.txt'),\n",
       " PosixPath('../data/processed/text/201.txt'),\n",
       " PosixPath('../data/processed/text/26385.txt'),\n",
       " PosixPath('../data/processed/text/7311.txt'),\n",
       " PosixPath('../data/processed/text/15819.txt'),\n",
       " PosixPath('../data/processed/text/10744.txt'),\n",
       " PosixPath('../data/processed/text/9583.txt'),\n",
       " PosixPath('../data/processed/text/19313.txt'),\n",
       " PosixPath('../data/processed/text/3642.txt'),\n",
       " PosixPath('../data/processed/text/26465.txt'),\n",
       " PosixPath('../data/processed/text/1172.txt'),\n",
       " PosixPath('../data/processed/text/21516.txt'),\n",
       " PosixPath('../data/processed/text/631.txt'),\n",
       " PosixPath('../data/processed/text/7816.txt'),\n",
       " PosixPath('../data/processed/text/21682.txt'),\n",
       " PosixPath('../data/processed/text/4682.txt'),\n",
       " PosixPath('../data/processed/text/23351.txt'),\n",
       " PosixPath('../data/processed/text/8629.txt'),\n",
       " PosixPath('../data/processed/text/3276.txt'),\n",
       " PosixPath('../data/processed/text/21690.txt'),\n",
       " PosixPath('../data/processed/text/21846.txt'),\n",
       " PosixPath('../data/processed/text/13928.txt'),\n",
       " PosixPath('../data/processed/text/13863.txt'),\n",
       " PosixPath('../data/processed/text/11659.txt'),\n",
       " PosixPath('../data/processed/text/690.txt'),\n",
       " PosixPath('../data/processed/text/3548.txt'),\n",
       " PosixPath('../data/processed/text/18417.txt'),\n",
       " PosixPath('../data/processed/text/23317.txt'),\n",
       " PosixPath('../data/processed/text/8378.txt'),\n",
       " PosixPath('../data/processed/text/17656.txt'),\n",
       " PosixPath('../data/processed/text/12498.txt'),\n",
       " PosixPath('../data/processed/text/14045.txt'),\n",
       " PosixPath('../data/processed/text/3479.txt'),\n",
       " PosixPath('../data/processed/text/18338.txt'),\n",
       " PosixPath('../data/processed/text/18512.txt'),\n",
       " PosixPath('../data/processed/text/10962.txt'),\n",
       " PosixPath('../data/processed/text/18522.txt'),\n",
       " PosixPath('../data/processed/text/19849.txt'),\n",
       " PosixPath('../data/processed/text/2210.txt'),\n",
       " PosixPath('../data/processed/text/1241.txt'),\n",
       " PosixPath('../data/processed/text/3722.txt'),\n",
       " PosixPath('../data/processed/text/24099.txt'),\n",
       " PosixPath('../data/processed/text/18706.txt'),\n",
       " PosixPath('../data/processed/text/21583.txt'),\n",
       " PosixPath('../data/processed/text/10956.txt'),\n",
       " PosixPath('../data/processed/text/2549.txt'),\n",
       " PosixPath('../data/processed/text/20567.txt'),\n",
       " PosixPath('../data/processed/text/10254.txt'),\n",
       " PosixPath('../data/processed/text/12004.txt'),\n",
       " PosixPath('../data/processed/text/22507.txt'),\n",
       " PosixPath('../data/processed/text/16867.txt'),\n",
       " PosixPath('../data/processed/text/8229.txt'),\n",
       " PosixPath('../data/processed/text/19934.txt'),\n",
       " PosixPath('../data/processed/text/19334.txt'),\n",
       " PosixPath('../data/processed/text/11737.txt'),\n",
       " PosixPath('../data/processed/text/15251.txt'),\n",
       " PosixPath('../data/processed/text/9076.txt'),\n",
       " PosixPath('../data/processed/text/26796.txt'),\n",
       " PosixPath('../data/processed/text/25325.txt'),\n",
       " PosixPath('../data/processed/text/26258.txt'),\n",
       " PosixPath('../data/processed/text/7841.txt'),\n",
       " PosixPath('../data/processed/text/13403.txt'),\n",
       " PosixPath('../data/processed/text/9595.txt'),\n",
       " PosixPath('../data/processed/text/3603.txt'),\n",
       " PosixPath('../data/processed/text/15155.txt'),\n",
       " PosixPath('../data/processed/text/23768.txt'),\n",
       " PosixPath('../data/processed/text/5984.txt'),\n",
       " PosixPath('../data/processed/text/3030.txt'),\n",
       " PosixPath('../data/processed/text/16162.txt'),\n",
       " PosixPath('../data/processed/text/638.txt'),\n",
       " PosixPath('../data/processed/text/24249.txt'),\n",
       " PosixPath('../data/processed/text/21687.txt'),\n",
       " PosixPath('../data/processed/text/1591.txt'),\n",
       " PosixPath('../data/processed/text/5019.txt'),\n",
       " PosixPath('../data/processed/text/3976.txt'),\n",
       " PosixPath('../data/processed/text/7917.txt'),\n",
       " PosixPath('../data/processed/text/3984.txt'),\n",
       " PosixPath('../data/processed/text/4922.txt'),\n",
       " PosixPath('../data/processed/text/3972.txt'),\n",
       " PosixPath('../data/processed/text/9247.txt'),\n",
       " PosixPath('../data/processed/text/15200.txt'),\n",
       " PosixPath('../data/processed/text/16306.txt'),\n",
       " PosixPath('../data/processed/text/6227.txt'),\n",
       " PosixPath('../data/processed/text/14627.txt'),\n",
       " PosixPath('../data/processed/text/2439.txt'),\n",
       " PosixPath('../data/processed/text/20555.txt'),\n",
       " PosixPath('../data/processed/text/11698.txt'),\n",
       " PosixPath('../data/processed/text/1177.txt'),\n",
       " PosixPath('../data/processed/text/4873.txt'),\n",
       " PosixPath('../data/processed/text/8328.txt'),\n",
       " PosixPath('../data/processed/text/15009.txt'),\n",
       " PosixPath('../data/processed/text/18363.txt'),\n",
       " PosixPath('../data/processed/text/3510.txt'),\n",
       " PosixPath('../data/processed/text/16740.txt'),\n",
       " PosixPath('../data/processed/text/7982.txt'),\n",
       " PosixPath('../data/processed/text/17519.txt'),\n",
       " PosixPath('../data/processed/text/13897.txt'),\n",
       " PosixPath('../data/processed/text/10842.txt'),\n",
       " PosixPath('../data/processed/text/20322.txt'),\n",
       " PosixPath('../data/processed/text/10056.txt'),\n",
       " PosixPath('../data/processed/text/23728.txt'),\n",
       " PosixPath('../data/processed/text/4928.txt'),\n",
       " PosixPath('../data/processed/text/11362.txt'),\n",
       " PosixPath('../data/processed/text/1765.txt'),\n",
       " PosixPath('../data/processed/text/20472.txt'),\n",
       " PosixPath('../data/processed/text/26146.txt'),\n",
       " PosixPath('../data/processed/text/18453.txt'),\n",
       " PosixPath('../data/processed/text/14262.txt'),\n",
       " PosixPath('../data/processed/text/21938.txt'),\n",
       " PosixPath('../data/processed/text/14903.txt'),\n",
       " PosixPath('../data/processed/text/13494.txt'),\n",
       " PosixPath('../data/processed/text/613.txt'),\n",
       " PosixPath('../data/processed/text/3591.txt'),\n",
       " PosixPath('../data/processed/text/21206.txt'),\n",
       " PosixPath('../data/processed/text/177.txt'),\n",
       " PosixPath('../data/processed/text/12026.txt'),\n",
       " PosixPath('../data/processed/text/12129.txt'),\n",
       " PosixPath('../data/processed/text/4793.txt'),\n",
       " PosixPath('../data/processed/text/3809.txt'),\n",
       " PosixPath('../data/processed/text/23495.txt'),\n",
       " PosixPath('../data/processed/text/15510.txt'),\n",
       " PosixPath('../data/processed/text/9747.txt'),\n",
       " PosixPath('../data/processed/text/13949.txt'),\n",
       " PosixPath('../data/processed/text/13263.txt'),\n",
       " PosixPath('../data/processed/text/24589.txt'),\n",
       " PosixPath('../data/processed/text/17118.txt'),\n",
       " PosixPath('../data/processed/text/21076.txt'),\n",
       " PosixPath('../data/processed/text/6824.txt'),\n",
       " PosixPath('../data/processed/text/20712.txt'),\n",
       " PosixPath('../data/processed/text/13233.txt'),\n",
       " PosixPath('../data/processed/text/14752.txt'),\n",
       " PosixPath('../data/processed/text/11078.txt'),\n",
       " PosixPath('../data/processed/text/6111.txt'),\n",
       " PosixPath('../data/processed/text/18438.txt'),\n",
       " PosixPath('../data/processed/text/19624.txt'),\n",
       " PosixPath('../data/processed/text/14603.txt'),\n",
       " PosixPath('../data/processed/text/17908.txt'),\n",
       " PosixPath('../data/processed/text/16777.txt'),\n",
       " PosixPath('../data/processed/text/5170.txt'),\n",
       " PosixPath('../data/processed/text/16741.txt'),\n",
       " PosixPath('../data/processed/text/5510.txt'),\n",
       " PosixPath('../data/processed/text/13528.txt'),\n",
       " PosixPath('../data/processed/text/25363.txt'),\n",
       " PosixPath('../data/processed/text/11946.txt'),\n",
       " PosixPath('../data/processed/text/16667.txt'),\n",
       " PosixPath('../data/processed/text/19295.txt'),\n",
       " PosixPath('../data/processed/text/15741.txt'),\n",
       " PosixPath('../data/processed/text/23888.txt'),\n",
       " PosixPath('../data/processed/text/12700.txt'),\n",
       " PosixPath('../data/processed/text/4996.txt'),\n",
       " PosixPath('../data/processed/text/9274.txt'),\n",
       " PosixPath('../data/processed/text/3902.txt'),\n",
       " PosixPath('../data/processed/text/21424.txt'),\n",
       " PosixPath('../data/processed/text/24665.txt'),\n",
       " PosixPath('../data/processed/text/12628.txt'),\n",
       " PosixPath('../data/processed/text/7712.txt'),\n",
       " PosixPath('../data/processed/text/5631.txt'),\n",
       " PosixPath('../data/processed/text/25274.txt'),\n",
       " PosixPath('../data/processed/text/995.txt'),\n",
       " PosixPath('../data/processed/text/6962.txt'),\n",
       " PosixPath('../data/processed/text/26126.txt'),\n",
       " PosixPath('../data/processed/text/6660.txt'),\n",
       " PosixPath('../data/processed/text/22169.txt'),\n",
       " PosixPath('../data/processed/text/20320.txt'),\n",
       " PosixPath('../data/processed/text/2813.txt'),\n",
       " PosixPath('../data/processed/text/1736.txt'),\n",
       " PosixPath('../data/processed/text/10241.txt'),\n",
       " PosixPath('../data/processed/text/9034.txt'),\n",
       " PosixPath('../data/processed/text/10108.txt'),\n",
       " PosixPath('../data/processed/text/1257.txt'),\n",
       " PosixPath('../data/processed/text/4214.txt'),\n",
       " PosixPath('../data/processed/text/17626.txt'),\n",
       " PosixPath('../data/processed/text/17441.txt'),\n",
       " PosixPath('../data/processed/text/11189.txt'),\n",
       " PosixPath('../data/processed/text/23377.txt'),\n",
       " PosixPath('../data/processed/text/13232.txt'),\n",
       " PosixPath('../data/processed/text/22359.txt'),\n",
       " PosixPath('../data/processed/text/17222.txt'),\n",
       " PosixPath('../data/processed/text/12613.txt'),\n",
       " PosixPath('../data/processed/text/4174.txt'),\n",
       " PosixPath('../data/processed/text/2078.txt'),\n",
       " PosixPath('../data/processed/text/3761.txt'),\n",
       " PosixPath('../data/processed/text/912.txt'),\n",
       " PosixPath('../data/processed/text/16001.txt'),\n",
       " PosixPath('../data/processed/text/24730.txt'),\n",
       " PosixPath('../data/processed/text/11130.txt'),\n",
       " PosixPath('../data/processed/text/14401.txt'),\n",
       " PosixPath('../data/processed/text/7057.txt'),\n",
       " PosixPath('../data/processed/text/13984.txt'),\n",
       " PosixPath('../data/processed/text/11274.txt'),\n",
       " PosixPath('../data/processed/text/4443.txt'),\n",
       " PosixPath('../data/processed/text/22760.txt'),\n",
       " PosixPath('../data/processed/text/12760.txt'),\n",
       " PosixPath('../data/processed/text/15896.txt'),\n",
       " PosixPath('../data/processed/text/25855.txt'),\n",
       " PosixPath('../data/processed/text/9200.txt'),\n",
       " PosixPath('../data/processed/text/5699.txt'),\n",
       " PosixPath('../data/processed/text/5552.txt'),\n",
       " PosixPath('../data/processed/text/18437.txt'),\n",
       " PosixPath('../data/processed/text/23839.txt'),\n",
       " PosixPath('../data/processed/text/24479.txt'),\n",
       " PosixPath('../data/processed/text/12890.txt'),\n",
       " PosixPath('../data/processed/text/24838.txt'),\n",
       " PosixPath('../data/processed/text/13093.txt'),\n",
       " PosixPath('../data/processed/text/19131.txt'),\n",
       " PosixPath('../data/processed/text/24275.txt'),\n",
       " PosixPath('../data/processed/text/684.txt'),\n",
       " PosixPath('../data/processed/text/2225.txt'),\n",
       " PosixPath('../data/processed/text/19238.txt'),\n",
       " PosixPath('../data/processed/text/9893.txt'),\n",
       " PosixPath('../data/processed/text/1196.txt'),\n",
       " PosixPath('../data/processed/text/16250.txt'),\n",
       " PosixPath('../data/processed/text/18642.txt'),\n",
       " PosixPath('../data/processed/text/4043.txt'),\n",
       " PosixPath('../data/processed/text/24416.txt'),\n",
       " PosixPath('../data/processed/text/17904.txt'),\n",
       " PosixPath('../data/processed/text/16964.txt'),\n",
       " PosixPath('../data/processed/text/14848.txt'),\n",
       " PosixPath('../data/processed/text/21393.txt'),\n",
       " PosixPath('../data/processed/text/26527.txt'),\n",
       " PosixPath('../data/processed/text/20759.txt'),\n",
       " PosixPath('../data/processed/text/17025.txt'),\n",
       " PosixPath('../data/processed/text/10395.txt'),\n",
       " PosixPath('../data/processed/text/17371.txt'),\n",
       " PosixPath('../data/processed/text/18219.txt'),\n",
       " PosixPath('../data/processed/text/25908.txt'),\n",
       " PosixPath('../data/processed/text/19692.txt'),\n",
       " PosixPath('../data/processed/text/21377.txt'),\n",
       " PosixPath('../data/processed/text/8049.txt'),\n",
       " PosixPath('../data/processed/text/5606.txt'),\n",
       " PosixPath('../data/processed/text/14028.txt'),\n",
       " PosixPath('../data/processed/text/17483.txt'),\n",
       " PosixPath('../data/processed/text/24455.txt'),\n",
       " PosixPath('../data/processed/text/25145.txt'),\n",
       " PosixPath('../data/processed/text/11454.txt'),\n",
       " PosixPath('../data/processed/text/12457.txt'),\n",
       " PosixPath('../data/processed/text/18836.txt'),\n",
       " PosixPath('../data/processed/text/6563.txt'),\n",
       " PosixPath('../data/processed/text/11942.txt'),\n",
       " PosixPath('../data/processed/text/4862.txt'),\n",
       " PosixPath('../data/processed/text/15524.txt'),\n",
       " PosixPath('../data/processed/text/24350.txt'),\n",
       " PosixPath('../data/processed/text/11344.txt'),\n",
       " PosixPath('../data/processed/text/26641.txt'),\n",
       " PosixPath('../data/processed/text/17866.txt'),\n",
       " PosixPath('../data/processed/text/20407.txt'),\n",
       " PosixPath('../data/processed/text/17848.txt'),\n",
       " PosixPath('../data/processed/text/11697.txt'),\n",
       " PosixPath('../data/processed/text/11212.txt'),\n",
       " PosixPath('../data/processed/text/21697.txt'),\n",
       " PosixPath('../data/processed/text/1450.txt'),\n",
       " PosixPath('../data/processed/text/15129.txt'),\n",
       " PosixPath('../data/processed/text/2179.txt'),\n",
       " PosixPath('../data/processed/text/14307.txt'),\n",
       " PosixPath('../data/processed/text/18316.txt'),\n",
       " PosixPath('../data/processed/text/23364.txt'),\n",
       " PosixPath('../data/processed/text/25011.txt'),\n",
       " PosixPath('../data/processed/text/22337.txt'),\n",
       " PosixPath('../data/processed/text/22974.txt'),\n",
       " PosixPath('../data/processed/text/18922.txt'),\n",
       " PosixPath('../data/processed/text/18670.txt'),\n",
       " PosixPath('../data/processed/text/25209.txt'),\n",
       " PosixPath('../data/processed/text/26603.txt'),\n",
       " PosixPath('../data/processed/text/21713.txt'),\n",
       " PosixPath('../data/processed/text/21193.txt'),\n",
       " PosixPath('../data/processed/text/25223.txt'),\n",
       " PosixPath('../data/processed/text/5367.txt'),\n",
       " PosixPath('../data/processed/text/5981.txt'),\n",
       " PosixPath('../data/processed/text/11596.txt'),\n",
       " PosixPath('../data/processed/text/3912.txt'),\n",
       " PosixPath('../data/processed/text/9385.txt'),\n",
       " PosixPath('../data/processed/text/25076.txt'),\n",
       " PosixPath('../data/processed/text/5624.txt'),\n",
       " PosixPath('../data/processed/text/3779.txt'),\n",
       " PosixPath('../data/processed/text/7189.txt'),\n",
       " PosixPath('../data/processed/text/18882.txt'),\n",
       " PosixPath('../data/processed/text/5326.txt'),\n",
       " PosixPath('../data/processed/text/9206.txt'),\n",
       " PosixPath('../data/processed/text/9068.txt'),\n",
       " ...]"
      ]
     },
     "execution_count": 13,
     "metadata": {},
     "output_type": "execute_result"
    }
   ],
   "source": [
    "data = Path('../data/processed/text/')\n",
    "\n",
    "data.ls()"
   ]
  },
  {
   "cell_type": "code",
   "execution_count": 26,
   "metadata": {},
   "outputs": [
    {
     "name": "stdout",
     "output_type": "stream",
     "text": [
      "Warning: Your Kaggle API key is readable by other users on this system! To fix this, you can run 'chmod 600 /home/dvs/.kaggle/kaggle.json'\n",
      "Downloading sp-en-wiki-100kk.zip to /data/home/dvs/notebooks/Website-Classification-/notebooks\n",
      " 99%|███████████████████████████████████████▌| 819M/827M [00:18<00:00, 41.3MB/s]\n",
      "100%|████████████████████████████████████████| 827M/827M [00:18<00:00, 47.6MB/s]\n"
     ]
    }
   ],
   "source": [
    "!kaggle datasets download -d manyregression/sp-en-wiki-100kk"
   ]
  },
  {
   "cell_type": "code",
   "execution_count": 28,
   "metadata": {},
   "outputs": [
    {
     "name": "stdout",
     "output_type": "stream",
     "text": [
      "Archive:  sp-en-wiki-100kk.zip\n",
      "  inflating: data/data_en_wiki_15000  \n",
      "  inflating: data/data_en_wiki_15000_bwd  \n",
      "  inflating: data/tmp/spm.model      \n",
      "  inflating: data/tmp/spm.vocab      \n"
     ]
    }
   ],
   "source": [
    "!unzip sp-en-wiki-100kk.zip"
   ]
  },
  {
   "cell_type": "code",
   "execution_count": 30,
   "metadata": {},
   "outputs": [
    {
     "name": "stdout",
     "output_type": "stream",
     "text": [
      "01_data.ipynb\t\t04_nlp.ipynb\t   data\r\n",
      "02_random_forest.ipynb\t\"cache_dir\".model  models\r\n",
      "_03_tabular.ipynb\t\"cache_dir\".vocab  sp-en-wiki-100kk.zip\r\n"
     ]
    }
   ],
   "source": [
    "!ls "
   ]
  },
  {
   "cell_type": "markdown",
   "metadata": {},
   "source": [
    "## Unigram "
   ]
  },
  {
   "cell_type": "code",
   "execution_count": 17,
   "metadata": {},
   "outputs": [],
   "source": [
    "Path('../data/processed/text/tmp/spm/').mkdir()"
   ]
  },
  {
   "cell_type": "code",
   "execution_count": 34,
   "metadata": {},
   "outputs": [
    {
     "name": "stdout",
     "output_type": "stream",
     "text": [
      "spm.model  spm.vocab\r\n"
     ]
    }
   ],
   "source": [
    "!ls data/tmp"
   ]
  },
  {
   "cell_type": "code",
   "execution_count": 35,
   "metadata": {},
   "outputs": [],
   "source": [
    "!cp data/tmp/spm.model ../data/processed/text/tmp/spm/spm.model\n",
    "!cp data/tmp/spm.vocab ../data/processed/text/tmp/spm/spm.vocab"
   ]
  },
  {
   "cell_type": "code",
   "execution_count": 39,
   "metadata": {},
   "outputs": [
    {
     "data": {
      "text/html": [],
      "text/plain": [
       "<IPython.core.display.HTML object>"
      ]
     },
     "metadata": {},
     "output_type": "display_data"
    },
    {
     "data": {
      "text/html": [],
      "text/plain": [
       "<IPython.core.display.HTML object>"
      ]
     },
     "metadata": {},
     "output_type": "display_data"
    }
   ],
   "source": [
    "dlm = (TextList.from_folder(data, extensions='.txt',processor=[OpenFileProcessor(),SPProcessor(model_type='unigram')])\n",
    "       .split_by_rand_pct().\n",
    "       label_for_lm().databunch(bs=32))"
   ]
  },
  {
   "cell_type": "code",
   "execution_count": 40,
   "metadata": {},
   "outputs": [
    {
     "data": {
      "text/plain": [
       "TextLMDataBunch;\n",
       "\n",
       "Train: LabelList (21439 items)\n",
       "x: LMTextList\n",
       "▁xxbos ▁xxmaj ▁di age o,▁xxbos ▁xxmaj ▁lady ▁xxmaj ▁caroline ▁xxmaj ▁lamb ▁xxmaj ▁website , ▁xxmaj ▁the,▁xxbos ▁xxmaj ▁cave nd ish,▁xxbos ▁xxmaj ▁children ▁and ▁xxmaj ▁technology ▁xxmaj ▁lab , ▁xxmaj ▁the,▁xxbos ▁xxmaj ▁random ▁xxmaj ▁acts ▁of ▁xxmaj ▁reality ▁ - ▁xxmaj ▁trying ▁to ▁kill ▁as ▁few ▁people ▁as ▁possible\n",
       "y: LMLabelList\n",
       ",,,,\n",
       "Path: ../data/processed/text;\n",
       "\n",
       "Valid: LabelList (5359 items)\n",
       "x: LMTextList\n",
       "▁xxbos ▁display link,▁xxbos ▁xxmaj ▁skills ▁dash board s kill s ▁xxmaj ▁dash board,▁xxbos ▁men tra u - ia i th . com ment ra u - ia i th . com,▁xxbos ▁xxmaj ▁francis ca ▁pri e to franc is ca ▁xxmaj ▁pri e to,▁xxbos ▁xxmaj ▁light ▁xxmaj ▁blue ▁xxmaj ▁ optic s\n",
       "y: LMLabelList\n",
       ",,,,\n",
       "Path: ../data/processed/text;\n",
       "\n",
       "Test: None"
      ]
     },
     "execution_count": 40,
     "metadata": {},
     "output_type": "execute_result"
    }
   ],
   "source": [
    "dlm"
   ]
  },
  {
   "cell_type": "markdown",
   "metadata": {},
   "source": [
    "## LM"
   ]
  },
  {
   "cell_type": "markdown",
   "metadata": {},
   "source": [
    "# Use title to start"
   ]
  },
  {
   "cell_type": "code",
   "execution_count": 41,
   "metadata": {},
   "outputs": [
    {
     "name": "stdout",
     "output_type": "stream",
     "text": [
      "Downloading https://s3.amazonaws.com/fast-ai-modelzoo/wt103-fwd\n"
     ]
    },
    {
     "data": {
      "text/html": [],
      "text/plain": [
       "<IPython.core.display.HTML object>"
      ]
     },
     "metadata": {},
     "output_type": "display_data"
    }
   ],
   "source": [
    "LM_learn = language_model_learner(dlm, AWD_LSTM, pretrained=True, drop_mult=0.5)"
   ]
  },
  {
   "cell_type": "code",
   "execution_count": 42,
   "metadata": {},
   "outputs": [
    {
     "data": {
      "text/html": [
       "\n",
       "    <div>\n",
       "        <style>\n",
       "            /* Turns off some styling */\n",
       "            progress {\n",
       "                /* gets rid of default border in Firefox and Opera. */\n",
       "                border: none;\n",
       "                /* Needs to be in here for Safari polyfill so background images work as expected. */\n",
       "                background-size: auto;\n",
       "            }\n",
       "            .progress-bar-interrupted, .progress-bar-interrupted::-webkit-progress-bar {\n",
       "                background: #F44336;\n",
       "            }\n",
       "        </style>\n",
       "      <progress value='0' class='' max='1', style='width:300px; height:20px; vertical-align: middle;'></progress>\n",
       "      0.00% [0/1 00:00<00:00]\n",
       "    </div>\n",
       "    \n",
       "<table border=\"1\" class=\"dataframe\">\n",
       "  <thead>\n",
       "    <tr style=\"text-align: left;\">\n",
       "      <th>epoch</th>\n",
       "      <th>train_loss</th>\n",
       "      <th>valid_loss</th>\n",
       "      <th>accuracy</th>\n",
       "      <th>time</th>\n",
       "    </tr>\n",
       "  </thead>\n",
       "  <tbody>\n",
       "  </tbody>\n",
       "</table><p>\n",
       "\n",
       "    <div>\n",
       "        <style>\n",
       "            /* Turns off some styling */\n",
       "            progress {\n",
       "                /* gets rid of default border in Firefox and Opera. */\n",
       "                border: none;\n",
       "                /* Needs to be in here for Safari polyfill so background images work as expected. */\n",
       "                background-size: auto;\n",
       "            }\n",
       "            .progress-bar-interrupted, .progress-bar-interrupted::-webkit-progress-bar {\n",
       "                background: #F44336;\n",
       "            }\n",
       "        </style>\n",
       "      <progress value='99' class='' max='138', style='width:300px; height:20px; vertical-align: middle;'></progress>\n",
       "      71.74% [99/138 00:32<00:12 10.7931]\n",
       "    </div>\n",
       "    "
      ],
      "text/plain": [
       "<IPython.core.display.HTML object>"
      ]
     },
     "metadata": {},
     "output_type": "display_data"
    },
    {
     "name": "stdout",
     "output_type": "stream",
     "text": [
      "LR Finder is complete, type {learner_name}.recorder.plot() to see the graph.\n"
     ]
    }
   ],
   "source": [
    "LM_learn.lr_find()"
   ]
  },
  {
   "cell_type": "code",
   "execution_count": 43,
   "metadata": {},
   "outputs": [
    {
     "data": {
      "image/png": "[encoded data removed]",
      "text/plain": [
       "<Figure size 432x288 with 1 Axes>"
      ]
     },
     "metadata": {
      "needs_background": "light"
     },
     "output_type": "display_data"
    }
   ],
   "source": [
    "LM_learn.recorder.plot()"
   ]
  },
  {
   "cell_type": "code",
   "execution_count": 44,
   "metadata": {},
   "outputs": [
    {
     "data": {
      "text/html": [
       "<table border=\"1\" class=\"dataframe\">\n",
       "  <thead>\n",
       "    <tr style=\"text-align: left;\">\n",
       "      <th>epoch</th>\n",
       "      <th>train_loss</th>\n",
       "      <th>valid_loss</th>\n",
       "      <th>accuracy</th>\n",
       "      <th>time</th>\n",
       "    </tr>\n",
       "  </thead>\n",
       "  <tbody>\n",
       "    <tr>\n",
       "      <td>0</td>\n",
       "      <td>4.866141</td>\n",
       "      <td>4.380974</td>\n",
       "      <td>0.360128</td>\n",
       "      <td>00:50</td>\n",
       "    </tr>\n",
       "    <tr>\n",
       "      <td>1</td>\n",
       "      <td>4.362373</td>\n",
       "      <td>4.131312</td>\n",
       "      <td>0.382628</td>\n",
       "      <td>00:51</td>\n",
       "    </tr>\n",
       "    <tr>\n",
       "      <td>2</td>\n",
       "      <td>3.967971</td>\n",
       "      <td>3.773073</td>\n",
       "      <td>0.407487</td>\n",
       "      <td>00:51</td>\n",
       "    </tr>\n",
       "    <tr>\n",
       "      <td>3</td>\n",
       "      <td>3.473222</td>\n",
       "      <td>3.409045</td>\n",
       "      <td>0.447513</td>\n",
       "      <td>00:51</td>\n",
       "    </tr>\n",
       "    <tr>\n",
       "      <td>4</td>\n",
       "      <td>3.023320</td>\n",
       "      <td>3.311126</td>\n",
       "      <td>0.460957</td>\n",
       "      <td>00:51</td>\n",
       "    </tr>\n",
       "  </tbody>\n",
       "</table>"
      ],
      "text/plain": [
       "<IPython.core.display.HTML object>"
      ]
     },
     "metadata": {},
     "output_type": "display_data"
    }
   ],
   "source": [
    "LM_learn.fit_one_cycle(10,max_lr=1e-01)"
   ]
  },
  {
   "cell_type": "code",
   "execution_count": null,
   "metadata": {},
   "outputs": [],
   "source": []
  },
  {
   "cell_type": "code",
   "execution_count": null,
   "metadata": {},
   "outputs": [],
   "source": []
  },
  {
   "cell_type": "code",
   "execution_count": null,
   "metadata": {},
   "outputs": [],
   "source": []
  },
  {
   "cell_type": "code",
   "execution_count": 46,
   "metadata": {},
   "outputs": [],
   "source": [
    "#LM_learn.path\n",
    "LM_learn.save_encoder('ft_enc')"
   ]
  },
  {
   "cell_type": "code",
   "execution_count": 47,
   "metadata": {},
   "outputs": [],
   "source": [
    "#"
   ]
  },
  {
   "cell_type": "code",
   "execution_count": null,
   "metadata": {},
   "outputs": [],
   "source": []
  },
  {
   "cell_type": "markdown",
   "metadata": {},
   "source": [
    "LM_learnassification "
   ]
  },
  {
   "cell_type": "code",
   "execution_count": 82,
   "metadata": {},
   "outputs": [],
   "source": [
    "!cp ../data/processed/text/tmp/spm/spm.vocab ../data/processed/text/tmp/spm.vocab \n",
    "!cp ../data/processed/text/tmp/spm/spm.model ../data/processed/text/tmp/spm.model "
   ]
  },
  {
   "cell_type": "code",
   "execution_count": 122,
   "metadata": {},
   "outputs": [],
   "source": [
    "model = Path('../data/processed/text/')\n"
   ]
  },
  {
   "cell_type": "code",
   "execution_count": null,
   "metadata": {},
   "outputs": [],
   "source": []
  },
  {
   "cell_type": "code",
   "execution_count": 81,
   "metadata": {},
   "outputs": [
    {
     "data": {
      "text/html": [],
      "text/plain": [
       "<IPython.core.display.HTML object>"
      ]
     },
     "metadata": {},
     "output_type": "display_data"
    },
    {
     "data": {
      "text/html": [],
      "text/plain": [
       "<IPython.core.display.HTML object>"
      ]
     },
     "metadata": {},
     "output_type": "display_data"
    }
   ],
   "source": [
    "data_class = (TextList.\n",
    "        from_df(df,path='.',cols=['Title'],processor=SPProcessor.load(model))\n",
    "        .split_from_df('is_valid')\n",
    "        .label_from_df('Primary Category')\n",
    "        .databunch(bs=32))"
   ]
  },
  {
   "cell_type": "code",
   "execution_count": 83,
   "metadata": {},
   "outputs": [],
   "source": [
    "learn_class = text_classifier_learner(data_class,AWD_LSTM, drop_mult=0.5)"
   ]
  },
  {
   "cell_type": "code",
   "execution_count": 84,
   "metadata": {},
   "outputs": [],
   "source": [
    "learn_class.path = LM_learn.path\n"
   ]
  },
  {
   "cell_type": "code",
   "execution_count": 85,
   "metadata": {},
   "outputs": [
    {
     "data": {
      "text/plain": [
       "RNNLearner(data=TextClasDataBunch;\n",
       "\n",
       "Train: LabelList (26798 items)\n",
       "x: TextList\n",
       "▁xxbos ▁68 ▁xxmaj ▁dean ▁xxmaj ▁street,▁xxbos ▁xxmaj ▁abandoned ▁xxmaj ▁communities,▁xxbos ▁xxmaj ▁alexander ▁xxmaj ▁thomson ▁xxmaj ▁society,▁xxbos ▁xxmaj ▁arab ▁xxmaj ▁british ▁xxmaj ▁centre , ▁xxmaj ▁the,▁xxbos ▁xxmaj ▁architectural ▁xxmaj ▁association ▁xxmaj ▁school ▁of ▁xxmaj ▁architecture\n",
       "y: CategoryList\n",
       "Arts & Humanities,Arts & Humanities,Arts & Humanities,Arts & Humanities,Arts & Humanities\n",
       "Path: .;\n",
       "\n",
       "Valid: LabelList (8039 items)\n",
       "x: TextList\n",
       "▁xxbos ▁scarlet fin der s,▁xxbos ▁xxmaj ▁historic ▁xxmaj ▁chapel s ▁xxmaj ▁trust,▁xxbos ▁xxmaj ▁clear view ▁xxmaj ▁sto ve s,▁xxbos ▁xxmaj ▁people ▁in ▁xxmaj ▁common,▁xxbos ▁xxmaj ▁refuge e ▁xxmaj ▁education\n",
       "y: CategoryList\n",
       "Medicine & Health,Religion,Business, Economy & Industry,Society & Culture,Education & Research\n",
       "Path: .;\n",
       "\n",
       "Test: None, model=SequentialRNN(\n",
       "  (0): MultiBatchEncoder(\n",
       "    (module): AWD_LSTM(\n",
       "      (encoder): Embedding(15000, 400, padding_idx=1)\n",
       "      (encoder_dp): EmbeddingDropout(\n",
       "        (emb): Embedding(15000, 400, padding_idx=1)\n",
       "      )\n",
       "      (rnns): ModuleList(\n",
       "        (0): WeightDropout(\n",
       "          (module): LSTM(400, 1152, batch_first=True)\n",
       "        )\n",
       "        (1): WeightDropout(\n",
       "          (module): LSTM(1152, 1152, batch_first=True)\n",
       "        )\n",
       "        (2): WeightDropout(\n",
       "          (module): LSTM(1152, 400, batch_first=True)\n",
       "        )\n",
       "      )\n",
       "      (input_dp): RNNDropout()\n",
       "      (hidden_dps): ModuleList(\n",
       "        (0): RNNDropout()\n",
       "        (1): RNNDropout()\n",
       "        (2): RNNDropout()\n",
       "      )\n",
       "    )\n",
       "  )\n",
       "  (1): PoolingLinearClassifier(\n",
       "    (layers): Sequential(\n",
       "      (0): BatchNorm1d(1200, eps=1e-05, momentum=0.1, affine=True, track_running_stats=True)\n",
       "      (1): Dropout(p=0.2, inplace=False)\n",
       "      (2): Linear(in_features=1200, out_features=50, bias=True)\n",
       "      (3): ReLU(inplace=True)\n",
       "      (4): BatchNorm1d(50, eps=1e-05, momentum=0.1, affine=True, track_running_stats=True)\n",
       "      (5): Dropout(p=0.1, inplace=False)\n",
       "      (6): Linear(in_features=50, out_features=24, bias=True)\n",
       "    )\n",
       "  )\n",
       "), opt_func=functools.partial(<class 'torch.optim.adam.Adam'>, betas=(0.9, 0.99)), loss_func=FlattenedLoss of CrossEntropyLoss(), metrics=[<function accuracy at 0x7fdb8e253680>], true_wd=True, bn_wd=True, wd=0.01, train_bn=True, path=PosixPath('../data/processed/text'), model_dir='models', callback_fns=[functools.partial(<class 'fastai.basic_train.Recorder'>, add_time=True, silent=False)], callbacks=[RNNTrainer\n",
       "learn: ...\n",
       "alpha: 2.0\n",
       "beta: 1.0], layer_groups=[Sequential(\n",
       "  (0): Embedding(15000, 400, padding_idx=1)\n",
       "  (1): EmbeddingDropout(\n",
       "    (emb): Embedding(15000, 400, padding_idx=1)\n",
       "  )\n",
       "), Sequential(\n",
       "  (0): WeightDropout(\n",
       "    (module): LSTM(400, 1152, batch_first=True)\n",
       "  )\n",
       "  (1): RNNDropout()\n",
       "), Sequential(\n",
       "  (0): WeightDropout(\n",
       "    (module): LSTM(1152, 1152, batch_first=True)\n",
       "  )\n",
       "  (1): RNNDropout()\n",
       "), Sequential(\n",
       "  (0): WeightDropout(\n",
       "    (module): LSTM(1152, 400, batch_first=True)\n",
       "  )\n",
       "  (1): RNNDropout()\n",
       "), Sequential(\n",
       "  (0): PoolingLinearClassifier(\n",
       "    (layers): Sequential(\n",
       "      (0): BatchNorm1d(1200, eps=1e-05, momentum=0.1, affine=True, track_running_stats=True)\n",
       "      (1): Dropout(p=0.2, inplace=False)\n",
       "      (2): Linear(in_features=1200, out_features=50, bias=True)\n",
       "      (3): ReLU(inplace=True)\n",
       "      (4): BatchNorm1d(50, eps=1e-05, momentum=0.1, affine=True, track_running_stats=True)\n",
       "      (5): Dropout(p=0.1, inplace=False)\n",
       "      (6): Linear(in_features=50, out_features=24, bias=True)\n",
       "    )\n",
       "  )\n",
       ")], add_time=True, silent=False)"
      ]
     },
     "execution_count": 85,
     "metadata": {},
     "output_type": "execute_result"
    }
   ],
   "source": [
    "learn_class.load_encoder('ft_enc');"
   ]
  },
  {
   "cell_type": "code",
   "execution_count": 86,
   "metadata": {},
   "outputs": [
    {
     "data": {
      "text/html": [
       "\n",
       "    <div>\n",
       "        <style>\n",
       "            /* Turns off some styling */\n",
       "            progress {\n",
       "                /* gets rid of default border in Firefox and Opera. */\n",
       "                border: none;\n",
       "                /* Needs to be in here for Safari polyfill so background images work as expected. */\n",
       "                background-size: auto;\n",
       "            }\n",
       "            .progress-bar-interrupted, .progress-bar-interrupted::-webkit-progress-bar {\n",
       "                background: #F44336;\n",
       "            }\n",
       "        </style>\n",
       "      <progress value='0' class='' max='1', style='width:300px; height:20px; vertical-align: middle;'></progress>\n",
       "      0.00% [0/1 00:00<00:00]\n",
       "    </div>\n",
       "    \n",
       "<table border=\"1\" class=\"dataframe\">\n",
       "  <thead>\n",
       "    <tr style=\"text-align: left;\">\n",
       "      <th>epoch</th>\n",
       "      <th>train_loss</th>\n",
       "      <th>valid_loss</th>\n",
       "      <th>accuracy</th>\n",
       "      <th>time</th>\n",
       "    </tr>\n",
       "  </thead>\n",
       "  <tbody>\n",
       "  </tbody>\n",
       "</table><p>\n",
       "\n",
       "    <div>\n",
       "        <style>\n",
       "            /* Turns off some styling */\n",
       "            progress {\n",
       "                /* gets rid of default border in Firefox and Opera. */\n",
       "                border: none;\n",
       "                /* Needs to be in here for Safari polyfill so background images work as expected. */\n",
       "                background-size: auto;\n",
       "            }\n",
       "            .progress-bar-interrupted, .progress-bar-interrupted::-webkit-progress-bar {\n",
       "                background: #F44336;\n",
       "            }\n",
       "        </style>\n",
       "      <progress value='95' class='' max='837', style='width:300px; height:20px; vertical-align: middle;'></progress>\n",
       "      11.35% [95/837 00:06<00:50 8.1120]\n",
       "    </div>\n",
       "    "
      ],
      "text/plain": [
       "<IPython.core.display.HTML object>"
      ]
     },
     "metadata": {},
     "output_type": "display_data"
    },
    {
     "name": "stdout",
     "output_type": "stream",
     "text": [
      "LR Finder is complete, type {learner_name}.recorder.plot() to see the graph.\n"
     ]
    }
   ],
   "source": [
    "learn_class.lr_find()"
   ]
  },
  {
   "cell_type": "code",
   "execution_count": 87,
   "metadata": {},
   "outputs": [
    {
     "data": {
      "image/png": "[encoded data removed]",
      "text/plain": [
       "<Figure size 432x288 with 1 Axes>"
      ]
     },
     "metadata": {
      "needs_background": "light"
     },
     "output_type": "display_data"
    }
   ],
   "source": [
    "learn_class.recorder.plot()"
   ]
  },
  {
   "cell_type": "code",
   "execution_count": 88,
   "metadata": {},
   "outputs": [
    {
     "data": {
      "text/html": [
       "<table border=\"1\" class=\"dataframe\">\n",
       "  <thead>\n",
       "    <tr style=\"text-align: left;\">\n",
       "      <th>epoch</th>\n",
       "      <th>train_loss</th>\n",
       "      <th>valid_loss</th>\n",
       "      <th>accuracy</th>\n",
       "      <th>time</th>\n",
       "    </tr>\n",
       "  </thead>\n",
       "  <tbody>\n",
       "    <tr>\n",
       "      <td>0</td>\n",
       "      <td>2.170552</td>\n",
       "      <td>1.996822</td>\n",
       "      <td>0.350417</td>\n",
       "      <td>00:53</td>\n",
       "    </tr>\n",
       "    <tr>\n",
       "      <td>1</td>\n",
       "      <td>2.112939</td>\n",
       "      <td>1.972515</td>\n",
       "      <td>0.350541</td>\n",
       "      <td>00:55</td>\n",
       "    </tr>\n",
       "    <tr>\n",
       "      <td>2</td>\n",
       "      <td>2.170231</td>\n",
       "      <td>1.965745</td>\n",
       "      <td>0.361239</td>\n",
       "      <td>00:53</td>\n",
       "    </tr>\n",
       "    <tr>\n",
       "      <td>3</td>\n",
       "      <td>2.123559</td>\n",
       "      <td>1.923996</td>\n",
       "      <td>0.367583</td>\n",
       "      <td>00:55</td>\n",
       "    </tr>\n",
       "    <tr>\n",
       "      <td>4</td>\n",
       "      <td>2.061414</td>\n",
       "      <td>1.885094</td>\n",
       "      <td>0.374798</td>\n",
       "      <td>00:55</td>\n",
       "    </tr>\n",
       "    <tr>\n",
       "      <td>5</td>\n",
       "      <td>2.057293</td>\n",
       "      <td>1.875409</td>\n",
       "      <td>0.377783</td>\n",
       "      <td>01:00</td>\n",
       "    </tr>\n",
       "    <tr>\n",
       "      <td>6</td>\n",
       "      <td>2.059528</td>\n",
       "      <td>1.839775</td>\n",
       "      <td>0.379525</td>\n",
       "      <td>00:58</td>\n",
       "    </tr>\n",
       "    <tr>\n",
       "      <td>7</td>\n",
       "      <td>1.993011</td>\n",
       "      <td>1.806899</td>\n",
       "      <td>0.390845</td>\n",
       "      <td>01:02</td>\n",
       "    </tr>\n",
       "    <tr>\n",
       "      <td>8</td>\n",
       "      <td>1.979402</td>\n",
       "      <td>1.805210</td>\n",
       "      <td>0.394079</td>\n",
       "      <td>00:55</td>\n",
       "    </tr>\n",
       "    <tr>\n",
       "      <td>9</td>\n",
       "      <td>2.018788</td>\n",
       "      <td>1.798886</td>\n",
       "      <td>0.395198</td>\n",
       "      <td>00:58</td>\n",
       "    </tr>\n",
       "  </tbody>\n",
       "</table>"
      ],
      "text/plain": [
       "<IPython.core.display.HTML object>"
      ]
     },
     "metadata": {},
     "output_type": "display_data"
    }
   ],
   "source": [
    "learn_class.fit_one_cycle(10, max_lr=1e-02)"
   ]
  },
  {
   "cell_type": "code",
   "execution_count": 91,
   "metadata": {},
   "outputs": [
    {
     "data": {
      "text/html": [
       "\n",
       "    <div>\n",
       "        <style>\n",
       "            /* Turns off some styling */\n",
       "            progress {\n",
       "                /* gets rid of default border in Firefox and Opera. */\n",
       "                border: none;\n",
       "                /* Needs to be in here for Safari polyfill so background images work as expected. */\n",
       "                background-size: auto;\n",
       "            }\n",
       "            .progress-bar-interrupted, .progress-bar-interrupted::-webkit-progress-bar {\n",
       "                background: #F44336;\n",
       "            }\n",
       "        </style>\n",
       "      <progress value='0' class='' max='1', style='width:300px; height:20px; vertical-align: middle;'></progress>\n",
       "      0.00% [0/1 00:00<00:00]\n",
       "    </div>\n",
       "    \n",
       "<table border=\"1\" class=\"dataframe\">\n",
       "  <thead>\n",
       "    <tr style=\"text-align: left;\">\n",
       "      <th>epoch</th>\n",
       "      <th>train_loss</th>\n",
       "      <th>valid_loss</th>\n",
       "      <th>accuracy</th>\n",
       "      <th>time</th>\n",
       "    </tr>\n",
       "  </thead>\n",
       "  <tbody>\n",
       "  </tbody>\n",
       "</table><p>\n",
       "\n",
       "    <div>\n",
       "        <style>\n",
       "            /* Turns off some styling */\n",
       "            progress {\n",
       "                /* gets rid of default border in Firefox and Opera. */\n",
       "                border: none;\n",
       "                /* Needs to be in here for Safari polyfill so background images work as expected. */\n",
       "                background-size: auto;\n",
       "            }\n",
       "            .progress-bar-interrupted, .progress-bar-interrupted::-webkit-progress-bar {\n",
       "                background: #F44336;\n",
       "            }\n",
       "        </style>\n",
       "      <progress value='96' class='' max='837', style='width:300px; height:20px; vertical-align: middle;'></progress>\n",
       "      11.47% [96/837 00:05<00:45 5.9399]\n",
       "    </div>\n",
       "    "
      ],
      "text/plain": [
       "<IPython.core.display.HTML object>"
      ]
     },
     "metadata": {},
     "output_type": "display_data"
    },
    {
     "name": "stdout",
     "output_type": "stream",
     "text": [
      "LR Finder is complete, type {learner_name}.recorder.plot() to see the graph.\n"
     ]
    },
    {
     "data": {
      "image/png": "[encoded data removed]",
      "text/plain": [
       "<Figure size 432x288 with 1 Axes>"
      ]
     },
     "metadata": {
      "needs_background": "light"
     },
     "output_type": "display_data"
    }
   ],
   "source": [
    "learn_class.lr_find()\n",
    "learn_class.recorder.plot()"
   ]
  },
  {
   "cell_type": "code",
   "execution_count": 92,
   "metadata": {},
   "outputs": [
    {
     "data": {
      "text/html": [
       "<table border=\"1\" class=\"dataframe\">\n",
       "  <thead>\n",
       "    <tr style=\"text-align: left;\">\n",
       "      <th>epoch</th>\n",
       "      <th>train_loss</th>\n",
       "      <th>valid_loss</th>\n",
       "      <th>accuracy</th>\n",
       "      <th>time</th>\n",
       "    </tr>\n",
       "  </thead>\n",
       "  <tbody>\n",
       "    <tr>\n",
       "      <td>0</td>\n",
       "      <td>1.965993</td>\n",
       "      <td>1.802263</td>\n",
       "      <td>0.391964</td>\n",
       "      <td>00:52</td>\n",
       "    </tr>\n",
       "    <tr>\n",
       "      <td>1</td>\n",
       "      <td>1.988734</td>\n",
       "      <td>1.787620</td>\n",
       "      <td>0.398557</td>\n",
       "      <td>01:00</td>\n",
       "    </tr>\n",
       "    <tr>\n",
       "      <td>2</td>\n",
       "      <td>2.019126</td>\n",
       "      <td>1.795546</td>\n",
       "      <td>0.394825</td>\n",
       "      <td>00:56</td>\n",
       "    </tr>\n",
       "    <tr>\n",
       "      <td>3</td>\n",
       "      <td>2.034778</td>\n",
       "      <td>1.784410</td>\n",
       "      <td>0.398806</td>\n",
       "      <td>00:59</td>\n",
       "    </tr>\n",
       "    <tr>\n",
       "      <td>4</td>\n",
       "      <td>2.027470</td>\n",
       "      <td>1.786252</td>\n",
       "      <td>0.396567</td>\n",
       "      <td>00:58</td>\n",
       "    </tr>\n",
       "  </tbody>\n",
       "</table>"
      ],
      "text/plain": [
       "<IPython.core.display.HTML object>"
      ]
     },
     "metadata": {},
     "output_type": "display_data"
    }
   ],
   "source": [
    "learn_class.fit_one_cycle(5, max_lr=slice(1e-06,1e-03))"
   ]
  },
  {
   "cell_type": "code",
   "execution_count": 93,
   "metadata": {},
   "outputs": [
    {
     "data": {
      "text/html": [
       "\n",
       "    <div>\n",
       "        <style>\n",
       "            /* Turns off some styling */\n",
       "            progress {\n",
       "                /* gets rid of default border in Firefox and Opera. */\n",
       "                border: none;\n",
       "                /* Needs to be in here for Safari polyfill so background images work as expected. */\n",
       "                background-size: auto;\n",
       "            }\n",
       "            .progress-bar-interrupted, .progress-bar-interrupted::-webkit-progress-bar {\n",
       "                background: #F44336;\n",
       "            }\n",
       "        </style>\n",
       "      <progress value='0' class='' max='1', style='width:300px; height:20px; vertical-align: middle;'></progress>\n",
       "      0.00% [0/1 00:00<00:00]\n",
       "    </div>\n",
       "    \n",
       "<table border=\"1\" class=\"dataframe\">\n",
       "  <thead>\n",
       "    <tr style=\"text-align: left;\">\n",
       "      <th>epoch</th>\n",
       "      <th>train_loss</th>\n",
       "      <th>valid_loss</th>\n",
       "      <th>accuracy</th>\n",
       "      <th>time</th>\n",
       "    </tr>\n",
       "  </thead>\n",
       "  <tbody>\n",
       "  </tbody>\n",
       "</table><p>\n",
       "\n",
       "    <div>\n",
       "        <style>\n",
       "            /* Turns off some styling */\n",
       "            progress {\n",
       "                /* gets rid of default border in Firefox and Opera. */\n",
       "                border: none;\n",
       "                /* Needs to be in here for Safari polyfill so background images work as expected. */\n",
       "                background-size: auto;\n",
       "            }\n",
       "            .progress-bar-interrupted, .progress-bar-interrupted::-webkit-progress-bar {\n",
       "                background: #F44336;\n",
       "            }\n",
       "        </style>\n",
       "      <progress value='93' class='' max='837', style='width:300px; height:20px; vertical-align: middle;'></progress>\n",
       "      11.11% [93/837 00:07<00:56 4.8653]\n",
       "    </div>\n",
       "    "
      ],
      "text/plain": [
       "<IPython.core.display.HTML object>"
      ]
     },
     "metadata": {},
     "output_type": "display_data"
    },
    {
     "name": "stdout",
     "output_type": "stream",
     "text": [
      "LR Finder is complete, type {learner_name}.recorder.plot() to see the graph.\n"
     ]
    },
    {
     "data": {
      "image/png": "[encoded data removed]",
      "text/plain": [
       "<Figure size 432x288 with 1 Axes>"
      ]
     },
     "metadata": {
      "needs_background": "light"
     },
     "output_type": "display_data"
    }
   ],
   "source": [
    "learn_class.unfreeze()\n",
    "learn_class.lr_find()\n",
    "learn_class.recorder.plot()"
   ]
  },
  {
   "cell_type": "code",
   "execution_count": 94,
   "metadata": {},
   "outputs": [
    {
     "data": {
      "text/html": [
       "<table border=\"1\" class=\"dataframe\">\n",
       "  <thead>\n",
       "    <tr style=\"text-align: left;\">\n",
       "      <th>epoch</th>\n",
       "      <th>train_loss</th>\n",
       "      <th>valid_loss</th>\n",
       "      <th>accuracy</th>\n",
       "      <th>time</th>\n",
       "    </tr>\n",
       "  </thead>\n",
       "  <tbody>\n",
       "    <tr>\n",
       "      <td>0</td>\n",
       "      <td>2.006935</td>\n",
       "      <td>1.763348</td>\n",
       "      <td>0.404901</td>\n",
       "      <td>01:06</td>\n",
       "    </tr>\n",
       "    <tr>\n",
       "      <td>1</td>\n",
       "      <td>1.910272</td>\n",
       "      <td>1.708965</td>\n",
       "      <td>0.418460</td>\n",
       "      <td>01:06</td>\n",
       "    </tr>\n",
       "    <tr>\n",
       "      <td>2</td>\n",
       "      <td>1.890975</td>\n",
       "      <td>1.661656</td>\n",
       "      <td>0.435378</td>\n",
       "      <td>01:08</td>\n",
       "    </tr>\n",
       "    <tr>\n",
       "      <td>3</td>\n",
       "      <td>1.835483</td>\n",
       "      <td>1.644081</td>\n",
       "      <td>0.440602</td>\n",
       "      <td>01:08</td>\n",
       "    </tr>\n",
       "    <tr>\n",
       "      <td>4</td>\n",
       "      <td>1.847951</td>\n",
       "      <td>1.631714</td>\n",
       "      <td>0.444956</td>\n",
       "      <td>01:09</td>\n",
       "    </tr>\n",
       "  </tbody>\n",
       "</table>"
      ],
      "text/plain": [
       "<IPython.core.display.HTML object>"
      ]
     },
     "metadata": {},
     "output_type": "display_data"
    }
   ],
   "source": [
    "learn_class.fit_one_cycle(5, max_lr=slice(1e-06,1e-03))"
   ]
  },
  {
   "cell_type": "code",
   "execution_count": 95,
   "metadata": {},
   "outputs": [
    {
     "data": {
      "text/html": [
       "\n",
       "    <div>\n",
       "        <style>\n",
       "            /* Turns off some styling */\n",
       "            progress {\n",
       "                /* gets rid of default border in Firefox and Opera. */\n",
       "                border: none;\n",
       "                /* Needs to be in here for Safari polyfill so background images work as expected. */\n",
       "                background-size: auto;\n",
       "            }\n",
       "            .progress-bar-interrupted, .progress-bar-interrupted::-webkit-progress-bar {\n",
       "                background: #F44336;\n",
       "            }\n",
       "        </style>\n",
       "      <progress value='0' class='' max='1', style='width:300px; height:20px; vertical-align: middle;'></progress>\n",
       "      0.00% [0/1 00:00<00:00]\n",
       "    </div>\n",
       "    \n",
       "<table border=\"1\" class=\"dataframe\">\n",
       "  <thead>\n",
       "    <tr style=\"text-align: left;\">\n",
       "      <th>epoch</th>\n",
       "      <th>train_loss</th>\n",
       "      <th>valid_loss</th>\n",
       "      <th>accuracy</th>\n",
       "      <th>time</th>\n",
       "    </tr>\n",
       "  </thead>\n",
       "  <tbody>\n",
       "  </tbody>\n",
       "</table><p>\n",
       "\n",
       "    <div>\n",
       "        <style>\n",
       "            /* Turns off some styling */\n",
       "            progress {\n",
       "                /* gets rid of default border in Firefox and Opera. */\n",
       "                border: none;\n",
       "                /* Needs to be in here for Safari polyfill so background images work as expected. */\n",
       "                background-size: auto;\n",
       "            }\n",
       "            .progress-bar-interrupted, .progress-bar-interrupted::-webkit-progress-bar {\n",
       "                background: #F44336;\n",
       "            }\n",
       "        </style>\n",
       "      <progress value='92' class='' max='837', style='width:300px; height:20px; vertical-align: middle;'></progress>\n",
       "      10.99% [92/837 00:07<01:00 4.2400]\n",
       "    </div>\n",
       "    "
      ],
      "text/plain": [
       "<IPython.core.display.HTML object>"
      ]
     },
     "metadata": {},
     "output_type": "display_data"
    },
    {
     "name": "stdout",
     "output_type": "stream",
     "text": [
      "LR Finder is complete, type {learner_name}.recorder.plot() to see the graph.\n"
     ]
    },
    {
     "data": {
      "image/png": "[encoded data removed]",
      "text/plain": [
       "<Figure size 432x288 with 1 Axes>"
      ]
     },
     "metadata": {
      "needs_background": "light"
     },
     "output_type": "display_data"
    }
   ],
   "source": [
    "learn_class.unfreeze()\n",
    "learn_class.lr_find()\n",
    "learn_class.recorder.plot()"
   ]
  },
  {
   "cell_type": "code",
   "execution_count": 96,
   "metadata": {},
   "outputs": [
    {
     "data": {
      "text/html": [
       "<table border=\"1\" class=\"dataframe\">\n",
       "  <thead>\n",
       "    <tr style=\"text-align: left;\">\n",
       "      <th>epoch</th>\n",
       "      <th>train_loss</th>\n",
       "      <th>valid_loss</th>\n",
       "      <th>accuracy</th>\n",
       "      <th>time</th>\n",
       "    </tr>\n",
       "  </thead>\n",
       "  <tbody>\n",
       "    <tr>\n",
       "      <td>0</td>\n",
       "      <td>1.866252</td>\n",
       "      <td>1.627139</td>\n",
       "      <td>0.445951</td>\n",
       "      <td>01:06</td>\n",
       "    </tr>\n",
       "    <tr>\n",
       "      <td>1</td>\n",
       "      <td>1.841181</td>\n",
       "      <td>1.631806</td>\n",
       "      <td>0.443339</td>\n",
       "      <td>01:10</td>\n",
       "    </tr>\n",
       "  </tbody>\n",
       "</table>"
      ],
      "text/plain": [
       "<IPython.core.display.HTML object>"
      ]
     },
     "metadata": {},
     "output_type": "display_data"
    }
   ],
   "source": [
    "learn_class.fit_one_cycle(2, max_lr=slice(1e-06,1e-04))"
   ]
  },
  {
   "cell_type": "code",
   "execution_count": null,
   "metadata": {},
   "outputs": [],
   "source": []
  },
  {
   "cell_type": "markdown",
   "metadata": {},
   "source": [
    "# Without sentencepiece "
   ]
  },
  {
   "cell_type": "code",
   "execution_count": 171,
   "metadata": {},
   "outputs": [
    {
     "data": {
      "text/html": [],
      "text/plain": [
       "<IPython.core.display.HTML object>"
      ]
     },
     "metadata": {},
     "output_type": "display_data"
    },
    {
     "data": {
      "text/html": [],
      "text/plain": [
       "<IPython.core.display.HTML object>"
      ]
     },
     "metadata": {},
     "output_type": "display_data"
    }
   ],
   "source": [
    "dlm = (TextList.\n",
    "        from_df(df,path='.',cols=['Title'])\n",
    "        .split_from_df('is_valid')\n",
    "        .label_for_lm()\n",
    "        .databunch(bs=32))"
   ]
  },
  {
   "cell_type": "code",
   "execution_count": null,
   "metadata": {},
   "outputs": [],
   "source": []
  },
  {
   "cell_type": "code",
   "execution_count": 172,
   "metadata": {},
   "outputs": [],
   "source": [
    "LM_learn = language_model_learner(dlm, AWD_LSTM, pretrained=True, drop_mult=0.5)"
   ]
  },
  {
   "cell_type": "code",
   "execution_count": 173,
   "metadata": {},
   "outputs": [
    {
     "data": {
      "text/html": [
       "\n",
       "    <div>\n",
       "        <style>\n",
       "            /* Turns off some styling */\n",
       "            progress {\n",
       "                /* gets rid of default border in Firefox and Opera. */\n",
       "                border: none;\n",
       "                /* Needs to be in here for Safari polyfill so background images work as expected. */\n",
       "                background-size: auto;\n",
       "            }\n",
       "            .progress-bar-interrupted, .progress-bar-interrupted::-webkit-progress-bar {\n",
       "                background: #F44336;\n",
       "            }\n",
       "        </style>\n",
       "      <progress value='0' class='' max='1', style='width:300px; height:20px; vertical-align: middle;'></progress>\n",
       "      0.00% [0/1 00:00<00:00]\n",
       "    </div>\n",
       "    \n",
       "<table border=\"1\" class=\"dataframe\">\n",
       "  <thead>\n",
       "    <tr style=\"text-align: left;\">\n",
       "      <th>epoch</th>\n",
       "      <th>train_loss</th>\n",
       "      <th>valid_loss</th>\n",
       "      <th>accuracy</th>\n",
       "      <th>time</th>\n",
       "    </tr>\n",
       "  </thead>\n",
       "  <tbody>\n",
       "  </tbody>\n",
       "</table><p>\n",
       "\n",
       "    <div>\n",
       "        <style>\n",
       "            /* Turns off some styling */\n",
       "            progress {\n",
       "                /* gets rid of default border in Firefox and Opera. */\n",
       "                border: none;\n",
       "                /* Needs to be in here for Safari polyfill so background images work as expected. */\n",
       "                background-size: auto;\n",
       "            }\n",
       "            .progress-bar-interrupted, .progress-bar-interrupted::-webkit-progress-bar {\n",
       "                background: #F44336;\n",
       "            }\n",
       "        </style>\n",
       "      <progress value='99' class='' max='113', style='width:300px; height:20px; vertical-align: middle;'></progress>\n",
       "      87.61% [99/113 00:28<00:04 7.2408]\n",
       "    </div>\n",
       "    "
      ],
      "text/plain": [
       "<IPython.core.display.HTML object>"
      ]
     },
     "metadata": {},
     "output_type": "display_data"
    },
    {
     "name": "stdout",
     "output_type": "stream",
     "text": [
      "LR Finder is complete, type {learner_name}.recorder.plot() to see the graph.\n"
     ]
    }
   ],
   "source": [
    "LM_learn.lr_find()"
   ]
  },
  {
   "cell_type": "code",
   "execution_count": 174,
   "metadata": {},
   "outputs": [
    {
     "data": {
      "image/png": "[encoded data removed]",
      "text/plain": [
       "<Figure size 432x288 with 1 Axes>"
      ]
     },
     "metadata": {
      "needs_background": "light"
     },
     "output_type": "display_data"
    }
   ],
   "source": [
    "LM_learn.recorder.plot()"
   ]
  },
  {
   "cell_type": "code",
   "execution_count": 175,
   "metadata": {},
   "outputs": [
    {
     "data": {
      "text/html": [
       "<table border=\"1\" class=\"dataframe\">\n",
       "  <thead>\n",
       "    <tr style=\"text-align: left;\">\n",
       "      <th>epoch</th>\n",
       "      <th>train_loss</th>\n",
       "      <th>valid_loss</th>\n",
       "      <th>accuracy</th>\n",
       "      <th>time</th>\n",
       "    </tr>\n",
       "  </thead>\n",
       "  <tbody>\n",
       "    <tr>\n",
       "      <td>0</td>\n",
       "      <td>3.111815</td>\n",
       "      <td>2.470443</td>\n",
       "      <td>0.572270</td>\n",
       "      <td>00:36</td>\n",
       "    </tr>\n",
       "    <tr>\n",
       "      <td>1</td>\n",
       "      <td>2.942837</td>\n",
       "      <td>2.322211</td>\n",
       "      <td>0.593877</td>\n",
       "      <td>00:37</td>\n",
       "    </tr>\n",
       "    <tr>\n",
       "      <td>2</td>\n",
       "      <td>2.607529</td>\n",
       "      <td>1.958451</td>\n",
       "      <td>0.640434</td>\n",
       "      <td>00:37</td>\n",
       "    </tr>\n",
       "    <tr>\n",
       "      <td>3</td>\n",
       "      <td>2.209737</td>\n",
       "      <td>1.652640</td>\n",
       "      <td>0.687207</td>\n",
       "      <td>00:37</td>\n",
       "    </tr>\n",
       "    <tr>\n",
       "      <td>4</td>\n",
       "      <td>1.929090</td>\n",
       "      <td>1.573962</td>\n",
       "      <td>0.700128</td>\n",
       "      <td>00:37</td>\n",
       "    </tr>\n",
       "  </tbody>\n",
       "</table>"
      ],
      "text/plain": [
       "<IPython.core.display.HTML object>"
      ]
     },
     "metadata": {},
     "output_type": "display_data"
    }
   ],
   "source": [
    "LM_learn.fit_one_cycle(5,max_lr=slice(1e-02,1e-01))"
   ]
  },
  {
   "cell_type": "code",
   "execution_count": 176,
   "metadata": {},
   "outputs": [
    {
     "data": {
      "text/html": [
       "\n",
       "    <div>\n",
       "        <style>\n",
       "            /* Turns off some styling */\n",
       "            progress {\n",
       "                /* gets rid of default border in Firefox and Opera. */\n",
       "                border: none;\n",
       "                /* Needs to be in here for Safari polyfill so background images work as expected. */\n",
       "                background-size: auto;\n",
       "            }\n",
       "            .progress-bar-interrupted, .progress-bar-interrupted::-webkit-progress-bar {\n",
       "                background: #F44336;\n",
       "            }\n",
       "        </style>\n",
       "      <progress value='0' class='' max='1', style='width:300px; height:20px; vertical-align: middle;'></progress>\n",
       "      0.00% [0/1 00:00<00:00]\n",
       "    </div>\n",
       "    \n",
       "<table border=\"1\" class=\"dataframe\">\n",
       "  <thead>\n",
       "    <tr style=\"text-align: left;\">\n",
       "      <th>epoch</th>\n",
       "      <th>train_loss</th>\n",
       "      <th>valid_loss</th>\n",
       "      <th>accuracy</th>\n",
       "      <th>time</th>\n",
       "    </tr>\n",
       "  </thead>\n",
       "  <tbody>\n",
       "  </tbody>\n",
       "</table><p>\n",
       "\n",
       "    <div>\n",
       "        <style>\n",
       "            /* Turns off some styling */\n",
       "            progress {\n",
       "                /* gets rid of default border in Firefox and Opera. */\n",
       "                border: none;\n",
       "                /* Needs to be in here for Safari polyfill so background images work as expected. */\n",
       "                background-size: auto;\n",
       "            }\n",
       "            .progress-bar-interrupted, .progress-bar-interrupted::-webkit-progress-bar {\n",
       "                background: #F44336;\n",
       "            }\n",
       "        </style>\n",
       "      <progress value='99' class='' max='113', style='width:300px; height:20px; vertical-align: middle;'></progress>\n",
       "      87.61% [99/113 00:30<00:04 4.2116]\n",
       "    </div>\n",
       "    "
      ],
      "text/plain": [
       "<IPython.core.display.HTML object>"
      ]
     },
     "metadata": {},
     "output_type": "display_data"
    },
    {
     "name": "stdout",
     "output_type": "stream",
     "text": [
      "LR Finder is complete, type {learner_name}.recorder.plot() to see the graph.\n"
     ]
    },
    {
     "data": {
      "image/png": "[encoded data removed]",
      "text/plain": [
       "<Figure size 432x288 with 1 Axes>"
      ]
     },
     "metadata": {
      "needs_background": "light"
     },
     "output_type": "display_data"
    }
   ],
   "source": [
    "LM_learn.unfreeze()\n",
    "LM_learn.lr_find()\n",
    "LM_learn.recorder.plot()"
   ]
  },
  {
   "cell_type": "code",
   "execution_count": 182,
   "metadata": {},
   "outputs": [
    {
     "data": {
      "text/html": [
       "<table border=\"1\" class=\"dataframe\">\n",
       "  <thead>\n",
       "    <tr style=\"text-align: left;\">\n",
       "      <th>epoch</th>\n",
       "      <th>train_loss</th>\n",
       "      <th>valid_loss</th>\n",
       "      <th>accuracy</th>\n",
       "      <th>time</th>\n",
       "    </tr>\n",
       "  </thead>\n",
       "  <tbody>\n",
       "    <tr>\n",
       "      <td>0</td>\n",
       "      <td>1.853740</td>\n",
       "      <td>1.555253</td>\n",
       "      <td>0.703406</td>\n",
       "      <td>00:38</td>\n",
       "    </tr>\n",
       "    <tr>\n",
       "      <td>1</td>\n",
       "      <td>1.823142</td>\n",
       "      <td>1.546574</td>\n",
       "      <td>0.705179</td>\n",
       "      <td>00:38</td>\n",
       "    </tr>\n",
       "  </tbody>\n",
       "</table>"
      ],
      "text/plain": [
       "<IPython.core.display.HTML object>"
      ]
     },
     "metadata": {},
     "output_type": "display_data"
    }
   ],
   "source": [
    "LM_learn.fit_one_cycle(2,max_lr=slice(1e-06,1e-03))"
   ]
  },
  {
   "cell_type": "code",
   "execution_count": 183,
   "metadata": {},
   "outputs": [],
   "source": [
    "LM_learn.save_encoder('word_ft_enc')"
   ]
  },
  {
   "cell_type": "code",
   "execution_count": 184,
   "metadata": {},
   "outputs": [],
   "source": [
    "vocab = dlm.vocab"
   ]
  },
  {
   "cell_type": "code",
   "execution_count": 185,
   "metadata": {},
   "outputs": [
    {
     "data": {
      "text/html": [],
      "text/plain": [
       "<IPython.core.display.HTML object>"
      ]
     },
     "metadata": {},
     "output_type": "display_data"
    },
    {
     "data": {
      "text/html": [],
      "text/plain": [
       "<IPython.core.display.HTML object>"
      ]
     },
     "metadata": {},
     "output_type": "display_data"
    }
   ],
   "source": [
    "data_class = (TextList.\n",
    "        from_df(df,path='.',cols=['Title'],vocab=dlm.train_ds.vocab)\n",
    "        .split_from_df('is_valid')\n",
    "        .label_from_df('Primary Category')\n",
    "        .databunch(bs=32))"
   ]
  },
  {
   "cell_type": "code",
   "execution_count": 186,
   "metadata": {},
   "outputs": [],
   "source": [
    "learn_class = text_classifier_learner(data_class,AWD_LSTM, drop_mult=0.5)\n",
    "learn_class.load_encoder('word_ft_enc');"
   ]
  },
  {
   "cell_type": "code",
   "execution_count": 187,
   "metadata": {},
   "outputs": [
    {
     "data": {
      "text/html": [
       "\n",
       "    <div>\n",
       "        <style>\n",
       "            /* Turns off some styling */\n",
       "            progress {\n",
       "                /* gets rid of default border in Firefox and Opera. */\n",
       "                border: none;\n",
       "                /* Needs to be in here for Safari polyfill so background images work as expected. */\n",
       "                background-size: auto;\n",
       "            }\n",
       "            .progress-bar-interrupted, .progress-bar-interrupted::-webkit-progress-bar {\n",
       "                background: #F44336;\n",
       "            }\n",
       "        </style>\n",
       "      <progress value='0' class='' max='1', style='width:300px; height:20px; vertical-align: middle;'></progress>\n",
       "      0.00% [0/1 00:00<00:00]\n",
       "    </div>\n",
       "    \n",
       "<table border=\"1\" class=\"dataframe\">\n",
       "  <thead>\n",
       "    <tr style=\"text-align: left;\">\n",
       "      <th>epoch</th>\n",
       "      <th>train_loss</th>\n",
       "      <th>valid_loss</th>\n",
       "      <th>accuracy</th>\n",
       "      <th>time</th>\n",
       "    </tr>\n",
       "  </thead>\n",
       "  <tbody>\n",
       "  </tbody>\n",
       "</table><p>\n",
       "\n",
       "    <div>\n",
       "        <style>\n",
       "            /* Turns off some styling */\n",
       "            progress {\n",
       "                /* gets rid of default border in Firefox and Opera. */\n",
       "                border: none;\n",
       "                /* Needs to be in here for Safari polyfill so background images work as expected. */\n",
       "                background-size: auto;\n",
       "            }\n",
       "            .progress-bar-interrupted, .progress-bar-interrupted::-webkit-progress-bar {\n",
       "                background: #F44336;\n",
       "            }\n",
       "        </style>\n",
       "      <progress value='94' class='' max='837', style='width:300px; height:20px; vertical-align: middle;'></progress>\n",
       "      11.23% [94/837 00:05<00:39 5.2209]\n",
       "    </div>\n",
       "    "
      ],
      "text/plain": [
       "<IPython.core.display.HTML object>"
      ]
     },
     "metadata": {},
     "output_type": "display_data"
    },
    {
     "name": "stdout",
     "output_type": "stream",
     "text": [
      "LR Finder is complete, type {learner_name}.recorder.plot() to see the graph.\n"
     ]
    },
    {
     "data": {
      "image/png": "[encoded data removed]",
      "text/plain": [
       "<Figure size 432x288 with 1 Axes>"
      ]
     },
     "metadata": {
      "needs_background": "light"
     },
     "output_type": "display_data"
    }
   ],
   "source": [
    "learn_class.lr_find()\n",
    "learn_class.recorder.plot()"
   ]
  },
  {
   "cell_type": "code",
   "execution_count": 188,
   "metadata": {},
   "outputs": [
    {
     "data": {
      "text/html": [
       "<table border=\"1\" class=\"dataframe\">\n",
       "  <thead>\n",
       "    <tr style=\"text-align: left;\">\n",
       "      <th>epoch</th>\n",
       "      <th>train_loss</th>\n",
       "      <th>valid_loss</th>\n",
       "      <th>accuracy</th>\n",
       "      <th>time</th>\n",
       "    </tr>\n",
       "  </thead>\n",
       "  <tbody>\n",
       "    <tr>\n",
       "      <td>0</td>\n",
       "      <td>2.129705</td>\n",
       "      <td>2.012883</td>\n",
       "      <td>0.360990</td>\n",
       "      <td>00:43</td>\n",
       "    </tr>\n",
       "    <tr>\n",
       "      <td>1</td>\n",
       "      <td>2.281075</td>\n",
       "      <td>2.056669</td>\n",
       "      <td>0.340465</td>\n",
       "      <td>00:50</td>\n",
       "    </tr>\n",
       "    <tr>\n",
       "      <td>2</td>\n",
       "      <td>2.307600</td>\n",
       "      <td>2.110261</td>\n",
       "      <td>0.326782</td>\n",
       "      <td>00:45</td>\n",
       "    </tr>\n",
       "    <tr>\n",
       "      <td>3</td>\n",
       "      <td>2.256448</td>\n",
       "      <td>2.099133</td>\n",
       "      <td>0.355517</td>\n",
       "      <td>00:48</td>\n",
       "    </tr>\n",
       "    <tr>\n",
       "      <td>4</td>\n",
       "      <td>2.260271</td>\n",
       "      <td>4.242759</td>\n",
       "      <td>0.335365</td>\n",
       "      <td>00:45</td>\n",
       "    </tr>\n",
       "    <tr>\n",
       "      <td>5</td>\n",
       "      <td>2.242835</td>\n",
       "      <td>2.090752</td>\n",
       "      <td>0.328399</td>\n",
       "      <td>00:47</td>\n",
       "    </tr>\n",
       "    <tr>\n",
       "      <td>6</td>\n",
       "      <td>2.147976</td>\n",
       "      <td>1.963152</td>\n",
       "      <td>0.378654</td>\n",
       "      <td>00:44</td>\n",
       "    </tr>\n",
       "    <tr>\n",
       "      <td>7</td>\n",
       "      <td>2.069212</td>\n",
       "      <td>1.915088</td>\n",
       "      <td>0.380147</td>\n",
       "      <td>00:50</td>\n",
       "    </tr>\n",
       "    <tr>\n",
       "      <td>8</td>\n",
       "      <td>2.050514</td>\n",
       "      <td>1.844476</td>\n",
       "      <td>0.402040</td>\n",
       "      <td>00:51</td>\n",
       "    </tr>\n",
       "    <tr>\n",
       "      <td>9</td>\n",
       "      <td>2.004862</td>\n",
       "      <td>1.840517</td>\n",
       "      <td>0.405026</td>\n",
       "      <td>00:48</td>\n",
       "    </tr>\n",
       "  </tbody>\n",
       "</table>"
      ],
      "text/plain": [
       "<IPython.core.display.HTML object>"
      ]
     },
     "metadata": {},
     "output_type": "display_data"
    }
   ],
   "source": [
    "learn_class.fit_one_cycle(10,max_lr=1e-01)"
   ]
  },
  {
   "cell_type": "code",
   "execution_count": 190,
   "metadata": {},
   "outputs": [
    {
     "data": {
      "text/html": [
       "\n",
       "    <div>\n",
       "        <style>\n",
       "            /* Turns off some styling */\n",
       "            progress {\n",
       "                /* gets rid of default border in Firefox and Opera. */\n",
       "                border: none;\n",
       "                /* Needs to be in here for Safari polyfill so background images work as expected. */\n",
       "                background-size: auto;\n",
       "            }\n",
       "            .progress-bar-interrupted, .progress-bar-interrupted::-webkit-progress-bar {\n",
       "                background: #F44336;\n",
       "            }\n",
       "        </style>\n",
       "      <progress value='0' class='' max='1', style='width:300px; height:20px; vertical-align: middle;'></progress>\n",
       "      0.00% [0/1 00:00<00:00]\n",
       "    </div>\n",
       "    \n",
       "<table border=\"1\" class=\"dataframe\">\n",
       "  <thead>\n",
       "    <tr style=\"text-align: left;\">\n",
       "      <th>epoch</th>\n",
       "      <th>train_loss</th>\n",
       "      <th>valid_loss</th>\n",
       "      <th>accuracy</th>\n",
       "      <th>time</th>\n",
       "    </tr>\n",
       "  </thead>\n",
       "  <tbody>\n",
       "  </tbody>\n",
       "</table><p>\n",
       "\n",
       "    <div>\n",
       "        <style>\n",
       "            /* Turns off some styling */\n",
       "            progress {\n",
       "                /* gets rid of default border in Firefox and Opera. */\n",
       "                border: none;\n",
       "                /* Needs to be in here for Safari polyfill so background images work as expected. */\n",
       "                background-size: auto;\n",
       "            }\n",
       "            .progress-bar-interrupted, .progress-bar-interrupted::-webkit-progress-bar {\n",
       "                background: #F44336;\n",
       "            }\n",
       "        </style>\n",
       "      <progress value='96' class='' max='837', style='width:300px; height:20px; vertical-align: middle;'></progress>\n",
       "      11.47% [96/837 00:05<00:41 7.6070]\n",
       "    </div>\n",
       "    "
      ],
      "text/plain": [
       "<IPython.core.display.HTML object>"
      ]
     },
     "metadata": {},
     "output_type": "display_data"
    },
    {
     "name": "stdout",
     "output_type": "stream",
     "text": [
      "LR Finder is complete, type {learner_name}.recorder.plot() to see the graph.\n"
     ]
    },
    {
     "data": {
      "image/png": "[encoded data removed]",
      "text/plain": [
       "<Figure size 432x288 with 1 Axes>"
      ]
     },
     "metadata": {
      "needs_background": "light"
     },
     "output_type": "display_data"
    }
   ],
   "source": [
    "learn_class.lr_find()\n",
    "learn_class.recorder.plot()"
   ]
  },
  {
   "cell_type": "code",
   "execution_count": 191,
   "metadata": {},
   "outputs": [
    {
     "data": {
      "text/html": [
       "<table border=\"1\" class=\"dataframe\">\n",
       "  <thead>\n",
       "    <tr style=\"text-align: left;\">\n",
       "      <th>epoch</th>\n",
       "      <th>train_loss</th>\n",
       "      <th>valid_loss</th>\n",
       "      <th>accuracy</th>\n",
       "      <th>time</th>\n",
       "    </tr>\n",
       "  </thead>\n",
       "  <tbody>\n",
       "    <tr>\n",
       "      <td>0</td>\n",
       "      <td>1.974678</td>\n",
       "      <td>1.842397</td>\n",
       "      <td>0.403906</td>\n",
       "      <td>00:44</td>\n",
       "    </tr>\n",
       "    <tr>\n",
       "      <td>1</td>\n",
       "      <td>2.007590</td>\n",
       "      <td>1.834584</td>\n",
       "      <td>0.403284</td>\n",
       "      <td>00:51</td>\n",
       "    </tr>\n",
       "    <tr>\n",
       "      <td>2</td>\n",
       "      <td>2.015766</td>\n",
       "      <td>1.808306</td>\n",
       "      <td>0.412738</td>\n",
       "      <td>00:49</td>\n",
       "    </tr>\n",
       "    <tr>\n",
       "      <td>3</td>\n",
       "      <td>1.986622</td>\n",
       "      <td>1.830137</td>\n",
       "      <td>0.406021</td>\n",
       "      <td>00:50</td>\n",
       "    </tr>\n",
       "    <tr>\n",
       "      <td>4</td>\n",
       "      <td>2.007059</td>\n",
       "      <td>1.823346</td>\n",
       "      <td>0.406145</td>\n",
       "      <td>00:51</td>\n",
       "    </tr>\n",
       "  </tbody>\n",
       "</table>"
      ],
      "text/plain": [
       "<IPython.core.display.HTML object>"
      ]
     },
     "metadata": {},
     "output_type": "display_data"
    }
   ],
   "source": [
    "learn_class.fit_one_cycle(5,max_lr=slice(1e-06,1e-03))"
   ]
  },
  {
   "cell_type": "code",
   "execution_count": null,
   "metadata": {},
   "outputs": [],
   "source": []
  },
  {
   "cell_type": "markdown",
   "metadata": {},
   "source": [
    "## LM on the URL \n",
    "\n",
    "In the previous notebook tabular data was generated by splitting the URLS somewhat crudely. It might be better to just use the URLS in a LM. Since the urls are esentially one word we'll start with BPE tokenization. This will hopefully also help us deal with any out of vocabularly words that might occur because the website is about a specialist domain. "
   ]
  },
  {
   "cell_type": "code",
   "execution_count": 125,
   "metadata": {},
   "outputs": [],
   "source": [
    "Path('../data/processed/url_text').mkdir()"
   ]
  },
  {
   "cell_type": "code",
   "execution_count": 222,
   "metadata": {},
   "outputs": [
    {
     "data": {
      "text/plain": [
       "PosixPath('../data/processed')"
      ]
     },
     "execution_count": 222,
     "metadata": {},
     "output_type": "execute_result"
    }
   ],
   "source": []
  },
  {
   "cell_type": "code",
   "execution_count": 223,
   "metadata": {},
   "outputs": [],
   "source": [
    "df.URL.to_csv(path/'url_lm_data.txt', header=None, index=None, sep=' ', mode='w')"
   ]
  },
  {
   "cell_type": "code",
   "execution_count": 224,
   "metadata": {},
   "outputs": [
    {
     "data": {
      "text/plain": [
       "[PosixPath('../data/processed/text'),\n",
       " PosixPath('../data/processed/tmp'),\n",
       " PosixPath('../data/processed/lm_data.txt'),\n",
       " PosixPath('../data/processed/url_text'),\n",
       " PosixPath('../data/processed/03_classification_valid_train.csv'),\n",
       " PosixPath('../data/processed/lm_url_data.txt'),\n",
       " PosixPath('../data/processed/url_lm_data.txt')]"
      ]
     },
     "execution_count": 224,
     "metadata": {},
     "output_type": "execute_result"
    }
   ],
   "source": [
    "path.ls()"
   ]
  },
  {
   "cell_type": "code",
   "execution_count": 246,
   "metadata": {},
   "outputs": [],
   "source": [
    "import sentencepiece as spm\n",
    "spm.SentencePieceTrainer.train('--input=../data/processed/url_lm_data.txt --model_prefix=spm --vocab_size=2000 --model_type=BPE')\n",
    "sp = spm.SentencePieceProcessor()\n"
   ]
  },
  {
   "cell_type": "code",
   "execution_count": 247,
   "metadata": {},
   "outputs": [
    {
     "name": "stdout",
     "output_type": "stream",
     "text": [
      "01_data.ipynb\t\t\"cache_dir\".model  models\t\t spm.vocab\r\n",
      "02_random_forest.ipynb\t\"cache_dir\".vocab  m.vocab\t\t tmp\r\n",
      "_03_tabular.ipynb\tdata\t\t   sp-en-wiki-100kk.zip  url.model\r\n",
      "04_nlp.ipynb\t\tm.model\t\t   spm.model\t\t url.vocab\r\n"
     ]
    }
   ],
   "source": [
    "!ls"
   ]
  },
  {
   "cell_type": "code",
   "execution_count": 242,
   "metadata": {},
   "outputs": [
    {
     "name": "stdout",
     "output_type": "stream",
     "text": [
      "mkdir: cannot create directory ‘tmp’: File exists\r\n"
     ]
    }
   ],
   "source": [
    "#!mkdir tmp"
   ]
  },
  {
   "cell_type": "code",
   "execution_count": 248,
   "metadata": {},
   "outputs": [],
   "source": [
    "!mv spm.vocab tmp/spm.vocab \n",
    "!mv spm.model tmp/spm.model"
   ]
  },
  {
   "cell_type": "code",
   "execution_count": 261,
   "metadata": {},
   "outputs": [
    {
     "data": {
      "text/html": [],
      "text/plain": [
       "<IPython.core.display.HTML object>"
      ]
     },
     "metadata": {},
     "output_type": "display_data"
    },
    {
     "data": {
      "text/html": [],
      "text/plain": [
       "<IPython.core.display.HTML object>"
      ]
     },
     "metadata": {},
     "output_type": "display_data"
    }
   ],
   "source": [
    "dlm = (TextList.\n",
    "        from_df(df,path='.',cols=['URL'],\n",
    "                processor=[OpenFileProcessor(),SPProcessor.load('.')])\n",
    "        .split_from_df('is_valid')\n",
    "        .label_for_lm()\n",
    "        .databunch(bs=64))"
   ]
  },
  {
   "cell_type": "code",
   "execution_count": 262,
   "metadata": {},
   "outputs": [
    {
     "data": {
      "text/html": [
       "<table border=\"1\" class=\"dataframe\">\n",
       "  <thead>\n",
       "    <tr style=\"text-align: right;\">\n",
       "      <th>idx</th>\n",
       "      <th>text</th>\n",
       "    </tr>\n",
       "  </thead>\n",
       "  <tbody>\n",
       "    <tr>\n",
       "      <td>0</td>\n",
       "      <td>x bo s ▁http : ▁ / ▁ / ▁ www . ar abb ri tish centre . org . uk ▁ / ▁ x x bo s ▁http : ▁ / ▁ / ▁ www . a as chool . ac . uk ▁ / ▁ x x bo s ▁http : ▁ / ▁ / ▁ www . ah ra - archit ect ure . org ▁ /</td>\n",
       "    </tr>\n",
       "    <tr>\n",
       "      <td>1</td>\n",
       "      <td>s ▁http : ▁ / ▁ / ▁ www . or i ent al ru g and tex ti les ociety . org . uk ▁ / ▁ index . php ▁ x x bo s ▁http : ▁ / ▁ / ▁ www . or ig ins festival . bor der cross ings . org . uk ▁ / ▁ x x bo s ▁http : ▁ / ▁</td>\n",
       "    </tr>\n",
       "    <tr>\n",
       "      <td>2</td>\n",
       "      <td>. mem ory sc ap e . org . uk ▁ / ▁ x x bo s ▁http : ▁ / ▁ / ▁ www . ge og . leeds . ac . uk ▁ / ▁ people ▁ / ▁ a . tur ner ▁ / ▁ x x bo s ▁http : ▁ / ▁ / ▁ www . mor et on hamp ste ad . org .</td>\n",
       "    </tr>\n",
       "    <tr>\n",
       "      <td>3</td>\n",
       "      <td>/ ▁ hu gh william williams ▁ / ▁ x x bo s ▁http : ▁ / ▁ / ▁ www . the hu gh es collection . co . uk ▁ / ▁ x x bo s ▁http : ▁ / ▁ / ▁ www . hull history centre . org . uk ▁ / ▁ x x bo s ▁http : ▁ / ▁ / ▁ i hr</td>\n",
       "    </tr>\n",
       "    <tr>\n",
       "      <td>4</td>\n",
       "      <td>▁http : ▁ / ▁ / ▁ www . wall ing ford museum . org . uk ▁ / ▁ x x bo s ▁http : ▁ / ▁ / ▁ www . w for al history . org . uk ▁ / ▁ x x bo s ▁http : ▁ / ▁ / ▁ www . tw g p p . org ▁ / ▁ x x bo s</td>\n",
       "    </tr>\n",
       "  </tbody>\n",
       "</table>"
      ],
      "text/plain": [
       "<IPython.core.display.HTML object>"
      ]
     },
     "metadata": {},
     "output_type": "display_data"
    }
   ],
   "source": [
    "dlm.show_batch()"
   ]
  },
  {
   "cell_type": "code",
   "execution_count": 264,
   "metadata": {},
   "outputs": [],
   "source": [
    "lm_learn = language_model_learner(dlm, AWD_LSTM, pretrained=True).to_fp16()"
   ]
  },
  {
   "cell_type": "code",
   "execution_count": 265,
   "metadata": {},
   "outputs": [
    {
     "data": {
      "text/html": [
       "\n",
       "    <div>\n",
       "        <style>\n",
       "            /* Turns off some styling */\n",
       "            progress {\n",
       "                /* gets rid of default border in Firefox and Opera. */\n",
       "                border: none;\n",
       "                /* Needs to be in here for Safari polyfill so background images work as expected. */\n",
       "                background-size: auto;\n",
       "            }\n",
       "            .progress-bar-interrupted, .progress-bar-interrupted::-webkit-progress-bar {\n",
       "                background: #F44336;\n",
       "            }\n",
       "        </style>\n",
       "      <progress value='0' class='' max='1', style='width:300px; height:20px; vertical-align: middle;'></progress>\n",
       "      0.00% [0/1 00:00<00:00]\n",
       "    </div>\n",
       "    \n",
       "<table border=\"1\" class=\"dataframe\">\n",
       "  <thead>\n",
       "    <tr style=\"text-align: left;\">\n",
       "      <th>epoch</th>\n",
       "      <th>train_loss</th>\n",
       "      <th>valid_loss</th>\n",
       "      <th>accuracy</th>\n",
       "      <th>time</th>\n",
       "    </tr>\n",
       "  </thead>\n",
       "  <tbody>\n",
       "  </tbody>\n",
       "</table><p>\n",
       "\n",
       "    <div>\n",
       "        <style>\n",
       "            /* Turns off some styling */\n",
       "            progress {\n",
       "                /* gets rid of default border in Firefox and Opera. */\n",
       "                border: none;\n",
       "                /* Needs to be in here for Safari polyfill so background images work as expected. */\n",
       "                background-size: auto;\n",
       "            }\n",
       "            .progress-bar-interrupted, .progress-bar-interrupted::-webkit-progress-bar {\n",
       "                background: #F44336;\n",
       "            }\n",
       "        </style>\n",
       "      <progress value='99' class='' max='160', style='width:300px; height:20px; vertical-align: middle;'></progress>\n",
       "      61.88% [99/160 00:45<00:28 5.8674]\n",
       "    </div>\n",
       "    "
      ],
      "text/plain": [
       "<IPython.core.display.HTML object>"
      ]
     },
     "metadata": {},
     "output_type": "display_data"
    },
    {
     "name": "stdout",
     "output_type": "stream",
     "text": [
      "LR Finder is complete, type {learner_name}.recorder.plot() to see the graph.\n"
     ]
    }
   ],
   "source": [
    "lm_learn.lr_find()"
   ]
  },
  {
   "cell_type": "code",
   "execution_count": 266,
   "metadata": {},
   "outputs": [
    {
     "data": {
      "image/png": "[encoded data removed]",
      "text/plain": [
       "<Figure size 432x288 with 1 Axes>"
      ]
     },
     "metadata": {
      "needs_background": "light"
     },
     "output_type": "display_data"
    }
   ],
   "source": [
    "lm_learn.recorder.plot()"
   ]
  },
  {
   "cell_type": "code",
   "execution_count": 267,
   "metadata": {},
   "outputs": [
    {
     "data": {
      "text/html": [
       "<table border=\"1\" class=\"dataframe\">\n",
       "  <thead>\n",
       "    <tr style=\"text-align: left;\">\n",
       "      <th>epoch</th>\n",
       "      <th>train_loss</th>\n",
       "      <th>valid_loss</th>\n",
       "      <th>accuracy</th>\n",
       "      <th>time</th>\n",
       "    </tr>\n",
       "  </thead>\n",
       "  <tbody>\n",
       "    <tr>\n",
       "      <td>0</td>\n",
       "      <td>1.976975</td>\n",
       "      <td>1.556331</td>\n",
       "      <td>0.750130</td>\n",
       "      <td>01:21</td>\n",
       "    </tr>\n",
       "    <tr>\n",
       "      <td>1</td>\n",
       "      <td>1.787530</td>\n",
       "      <td>1.510712</td>\n",
       "      <td>0.754199</td>\n",
       "      <td>01:22</td>\n",
       "    </tr>\n",
       "    <tr>\n",
       "      <td>2</td>\n",
       "      <td>1.714722</td>\n",
       "      <td>1.430359</td>\n",
       "      <td>0.759431</td>\n",
       "      <td>01:22</td>\n",
       "    </tr>\n",
       "    <tr>\n",
       "      <td>3</td>\n",
       "      <td>1.596735</td>\n",
       "      <td>1.314046</td>\n",
       "      <td>0.768234</td>\n",
       "      <td>01:22</td>\n",
       "    </tr>\n",
       "    <tr>\n",
       "      <td>4</td>\n",
       "      <td>1.525956</td>\n",
       "      <td>1.277974</td>\n",
       "      <td>0.771815</td>\n",
       "      <td>01:22</td>\n",
       "    </tr>\n",
       "  </tbody>\n",
       "</table>"
      ],
      "text/plain": [
       "<IPython.core.display.HTML object>"
      ]
     },
     "metadata": {},
     "output_type": "display_data"
    }
   ],
   "source": [
    "lm_learn.fit_one_cycle(5, max_lr=1e-01)"
   ]
  },
  {
   "cell_type": "code",
   "execution_count": 269,
   "metadata": {},
   "outputs": [],
   "source": [
    "lm_learn.save_encoder('word_ft_enc')"
   ]
  },
  {
   "cell_type": "code",
   "execution_count": null,
   "metadata": {},
   "outputs": [],
   "source": []
  },
  {
   "cell_type": "code",
   "execution_count": 270,
   "metadata": {},
   "outputs": [
    {
     "data": {
      "text/html": [],
      "text/plain": [
       "<IPython.core.display.HTML object>"
      ]
     },
     "metadata": {},
     "output_type": "display_data"
    },
    {
     "data": {
      "text/html": [],
      "text/plain": [
       "<IPython.core.display.HTML object>"
      ]
     },
     "metadata": {},
     "output_type": "display_data"
    }
   ],
   "source": [
    "data_class = (TextList.from_df(df,path='.',cols=['URL'],\n",
    "                processor=[OpenFileProcessor(),SPProcessor.load('.')])\n",
    "        .split_from_df('is_valid')\n",
    "        .label_from_df('Primary Category')\n",
    "        .databunch(bs=64))"
   ]
  },
  {
   "cell_type": "code",
   "execution_count": null,
   "metadata": {},
   "outputs": [],
   "source": []
  },
  {
   "cell_type": "code",
   "execution_count": 271,
   "metadata": {},
   "outputs": [],
   "source": [
    "learn_class = text_classifier_learner(data_class,AWD_LSTM, drop_mult=0.5).to_fp16()\n",
    "learn_class.load_encoder('word_ft_enc');"
   ]
  },
  {
   "cell_type": "code",
   "execution_count": 272,
   "metadata": {},
   "outputs": [
    {
     "data": {
      "text/html": [
       "\n",
       "    <div>\n",
       "        <style>\n",
       "            /* Turns off some styling */\n",
       "            progress {\n",
       "                /* gets rid of default border in Firefox and Opera. */\n",
       "                border: none;\n",
       "                /* Needs to be in here for Safari polyfill so background images work as expected. */\n",
       "                background-size: auto;\n",
       "            }\n",
       "            .progress-bar-interrupted, .progress-bar-interrupted::-webkit-progress-bar {\n",
       "                background: #F44336;\n",
       "            }\n",
       "        </style>\n",
       "      <progress value='0' class='' max='1', style='width:300px; height:20px; vertical-align: middle;'></progress>\n",
       "      0.00% [0/1 00:00<00:00]\n",
       "    </div>\n",
       "    \n",
       "<table border=\"1\" class=\"dataframe\">\n",
       "  <thead>\n",
       "    <tr style=\"text-align: left;\">\n",
       "      <th>epoch</th>\n",
       "      <th>train_loss</th>\n",
       "      <th>valid_loss</th>\n",
       "      <th>accuracy</th>\n",
       "      <th>time</th>\n",
       "    </tr>\n",
       "  </thead>\n",
       "  <tbody>\n",
       "  </tbody>\n",
       "</table><p>\n",
       "\n",
       "    <div>\n",
       "        <style>\n",
       "            /* Turns off some styling */\n",
       "            progress {\n",
       "                /* gets rid of default border in Firefox and Opera. */\n",
       "                border: none;\n",
       "                /* Needs to be in here for Safari polyfill so background images work as expected. */\n",
       "                background-size: auto;\n",
       "            }\n",
       "            .progress-bar-interrupted, .progress-bar-interrupted::-webkit-progress-bar {\n",
       "                background: #F44336;\n",
       "            }\n",
       "        </style>\n",
       "      <progress value='94' class='' max='418', style='width:300px; height:20px; vertical-align: middle;'></progress>\n",
       "      22.49% [94/418 00:08<00:28 6.3565]\n",
       "    </div>\n",
       "    "
      ],
      "text/plain": [
       "<IPython.core.display.HTML object>"
      ]
     },
     "metadata": {},
     "output_type": "display_data"
    },
    {
     "name": "stdout",
     "output_type": "stream",
     "text": [
      "LR Finder is complete, type {learner_name}.recorder.plot() to see the graph.\n"
     ]
    }
   ],
   "source": [
    "learn_class.lr_find()"
   ]
  },
  {
   "cell_type": "code",
   "execution_count": 273,
   "metadata": {},
   "outputs": [
    {
     "data": {
      "image/png": "[encoded data removed]",
      "text/plain": [
       "<Figure size 432x288 with 1 Axes>"
      ]
     },
     "metadata": {
      "needs_background": "light"
     },
     "output_type": "display_data"
    }
   ],
   "source": [
    "learn_class.recorder.plot()"
   ]
  },
  {
   "cell_type": "code",
   "execution_count": 274,
   "metadata": {},
   "outputs": [
    {
     "data": {
      "text/html": [
       "<table border=\"1\" class=\"dataframe\">\n",
       "  <thead>\n",
       "    <tr style=\"text-align: left;\">\n",
       "      <th>epoch</th>\n",
       "      <th>train_loss</th>\n",
       "      <th>valid_loss</th>\n",
       "      <th>accuracy</th>\n",
       "      <th>time</th>\n",
       "    </tr>\n",
       "  </thead>\n",
       "  <tbody>\n",
       "    <tr>\n",
       "      <td>0</td>\n",
       "      <td>2.369634</td>\n",
       "      <td>2.233960</td>\n",
       "      <td>0.246797</td>\n",
       "      <td>00:38</td>\n",
       "    </tr>\n",
       "    <tr>\n",
       "      <td>1</td>\n",
       "      <td>2.295270</td>\n",
       "      <td>2.207671</td>\n",
       "      <td>0.255380</td>\n",
       "      <td>00:42</td>\n",
       "    </tr>\n",
       "    <tr>\n",
       "      <td>2</td>\n",
       "      <td>2.268247</td>\n",
       "      <td>2.198490</td>\n",
       "      <td>0.261475</td>\n",
       "      <td>00:39</td>\n",
       "    </tr>\n",
       "    <tr>\n",
       "      <td>3</td>\n",
       "      <td>2.251833</td>\n",
       "      <td>2.178149</td>\n",
       "      <td>0.257122</td>\n",
       "      <td>00:42</td>\n",
       "    </tr>\n",
       "    <tr>\n",
       "      <td>4</td>\n",
       "      <td>2.236727</td>\n",
       "      <td>2.155163</td>\n",
       "      <td>0.276278</td>\n",
       "      <td>00:41</td>\n",
       "    </tr>\n",
       "    <tr>\n",
       "      <td>5</td>\n",
       "      <td>2.226502</td>\n",
       "      <td>2.150102</td>\n",
       "      <td>0.263839</td>\n",
       "      <td>00:42</td>\n",
       "    </tr>\n",
       "    <tr>\n",
       "      <td>6</td>\n",
       "      <td>2.211083</td>\n",
       "      <td>2.128643</td>\n",
       "      <td>0.269810</td>\n",
       "      <td>00:39</td>\n",
       "    </tr>\n",
       "    <tr>\n",
       "      <td>7</td>\n",
       "      <td>2.202698</td>\n",
       "      <td>2.122532</td>\n",
       "      <td>0.278517</td>\n",
       "      <td>00:39</td>\n",
       "    </tr>\n",
       "    <tr>\n",
       "      <td>8</td>\n",
       "      <td>2.199843</td>\n",
       "      <td>2.119984</td>\n",
       "      <td>0.280010</td>\n",
       "      <td>00:42</td>\n",
       "    </tr>\n",
       "    <tr>\n",
       "      <td>9</td>\n",
       "      <td>2.195373</td>\n",
       "      <td>2.115302</td>\n",
       "      <td>0.279512</td>\n",
       "      <td>00:40</td>\n",
       "    </tr>\n",
       "  </tbody>\n",
       "</table>"
      ],
      "text/plain": [
       "<IPython.core.display.HTML object>"
      ]
     },
     "metadata": {},
     "output_type": "display_data"
    }
   ],
   "source": [
    "learn_class.fit_one_cycle(10, max_lr=slice(1e-01,1e-02))"
   ]
  },
  {
   "cell_type": "code",
   "execution_count": 275,
   "metadata": {},
   "outputs": [
    {
     "data": {
      "text/html": [
       "\n",
       "    <div>\n",
       "        <style>\n",
       "            /* Turns off some styling */\n",
       "            progress {\n",
       "                /* gets rid of default border in Firefox and Opera. */\n",
       "                border: none;\n",
       "                /* Needs to be in here for Safari polyfill so background images work as expected. */\n",
       "                background-size: auto;\n",
       "            }\n",
       "            .progress-bar-interrupted, .progress-bar-interrupted::-webkit-progress-bar {\n",
       "                background: #F44336;\n",
       "            }\n",
       "        </style>\n",
       "      <progress value='0' class='' max='1', style='width:300px; height:20px; vertical-align: middle;'></progress>\n",
       "      0.00% [0/1 00:00<00:00]\n",
       "    </div>\n",
       "    \n",
       "<table border=\"1\" class=\"dataframe\">\n",
       "  <thead>\n",
       "    <tr style=\"text-align: left;\">\n",
       "      <th>epoch</th>\n",
       "      <th>train_loss</th>\n",
       "      <th>valid_loss</th>\n",
       "      <th>accuracy</th>\n",
       "      <th>time</th>\n",
       "    </tr>\n",
       "  </thead>\n",
       "  <tbody>\n",
       "  </tbody>\n",
       "</table><p>\n",
       "\n",
       "    <div>\n",
       "        <style>\n",
       "            /* Turns off some styling */\n",
       "            progress {\n",
       "                /* gets rid of default border in Firefox and Opera. */\n",
       "                border: none;\n",
       "                /* Needs to be in here for Safari polyfill so background images work as expected. */\n",
       "                background-size: auto;\n",
       "            }\n",
       "            .progress-bar-interrupted, .progress-bar-interrupted::-webkit-progress-bar {\n",
       "                background: #F44336;\n",
       "            }\n",
       "        </style>\n",
       "      <progress value='96' class='' max='418', style='width:300px; height:20px; vertical-align: middle;'></progress>\n",
       "      22.97% [96/418 00:08<00:27 8.4669]\n",
       "    </div>\n",
       "    "
      ],
      "text/plain": [
       "<IPython.core.display.HTML object>"
      ]
     },
     "metadata": {},
     "output_type": "display_data"
    },
    {
     "name": "stdout",
     "output_type": "stream",
     "text": [
      "LR Finder is complete, type {learner_name}.recorder.plot() to see the graph.\n"
     ]
    },
    {
     "data": {
      "image/png": "[encoded data removed]",
      "text/plain": [
       "<Figure size 432x288 with 1 Axes>"
      ]
     },
     "metadata": {
      "needs_background": "light"
     },
     "output_type": "display_data"
    }
   ],
   "source": [
    "learn_class.lr_find()\n",
    "learn_class.recorder.plot()"
   ]
  },
  {
   "cell_type": "code",
   "execution_count": 276,
   "metadata": {},
   "outputs": [
    {
     "data": {
      "text/html": [
       "<table border=\"1\" class=\"dataframe\">\n",
       "  <thead>\n",
       "    <tr style=\"text-align: left;\">\n",
       "      <th>epoch</th>\n",
       "      <th>train_loss</th>\n",
       "      <th>valid_loss</th>\n",
       "      <th>accuracy</th>\n",
       "      <th>time</th>\n",
       "    </tr>\n",
       "  </thead>\n",
       "  <tbody>\n",
       "    <tr>\n",
       "      <td>0</td>\n",
       "      <td>2.209262</td>\n",
       "      <td>2.122754</td>\n",
       "      <td>0.274039</td>\n",
       "      <td>00:38</td>\n",
       "    </tr>\n",
       "    <tr>\n",
       "      <td>1</td>\n",
       "      <td>2.198908</td>\n",
       "      <td>2.113204</td>\n",
       "      <td>0.285856</td>\n",
       "      <td>00:40</td>\n",
       "    </tr>\n",
       "    <tr>\n",
       "      <td>2</td>\n",
       "      <td>2.209909</td>\n",
       "      <td>2.121118</td>\n",
       "      <td>0.274039</td>\n",
       "      <td>00:39</td>\n",
       "    </tr>\n",
       "    <tr>\n",
       "      <td>3</td>\n",
       "      <td>2.216479</td>\n",
       "      <td>2.113174</td>\n",
       "      <td>0.282747</td>\n",
       "      <td>00:38</td>\n",
       "    </tr>\n",
       "    <tr>\n",
       "      <td>4</td>\n",
       "      <td>2.206147</td>\n",
       "      <td>2.106716</td>\n",
       "      <td>0.289091</td>\n",
       "      <td>00:40</td>\n",
       "    </tr>\n",
       "    <tr>\n",
       "      <td>5</td>\n",
       "      <td>2.187623</td>\n",
       "      <td>2.110727</td>\n",
       "      <td>0.276651</td>\n",
       "      <td>00:40</td>\n",
       "    </tr>\n",
       "    <tr>\n",
       "      <td>6</td>\n",
       "      <td>2.202951</td>\n",
       "      <td>2.113768</td>\n",
       "      <td>0.271302</td>\n",
       "      <td>00:40</td>\n",
       "    </tr>\n",
       "    <tr>\n",
       "      <td>7</td>\n",
       "      <td>2.207143</td>\n",
       "      <td>2.104906</td>\n",
       "      <td>0.280632</td>\n",
       "      <td>00:42</td>\n",
       "    </tr>\n",
       "    <tr>\n",
       "      <td>8</td>\n",
       "      <td>2.200270</td>\n",
       "      <td>2.105926</td>\n",
       "      <td>0.277646</td>\n",
       "      <td>00:40</td>\n",
       "    </tr>\n",
       "    <tr>\n",
       "      <td>9</td>\n",
       "      <td>2.186136</td>\n",
       "      <td>2.100975</td>\n",
       "      <td>0.283369</td>\n",
       "      <td>00:41</td>\n",
       "    </tr>\n",
       "  </tbody>\n",
       "</table>"
      ],
      "text/plain": [
       "<IPython.core.display.HTML object>"
      ]
     },
     "metadata": {},
     "output_type": "display_data"
    }
   ],
   "source": [
    "learn_class.fit_one_cycle(10, max_lr=slice(1e-06,1e-03))"
   ]
  },
  {
   "cell_type": "code",
   "execution_count": null,
   "metadata": {},
   "outputs": [],
   "source": []
  }
 ],
 "metadata": {
  "kernelspec": {
   "display_name": "fastai",
   "language": "python",
   "name": "fastai"
  },
  "language_info": {
   "codemirror_mode": {
    "name": "ipython",
    "version": 3
   },
   "file_extension": ".py",
   "mimetype": "text/x-python",
   "name": "python",
   "nbconvert_exporter": "python",
   "pygments_lexer": "ipython3",
   "version": "3.7.6"
  }
 },
 "nbformat": 4,
 "nbformat_minor": 4
}
